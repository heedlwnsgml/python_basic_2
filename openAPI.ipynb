{
 "cells": [
  {
   "cell_type": "markdown",
   "id": "bc641b44",
   "metadata": {
    "id": "bc641b44"
   },
   "source": [
    "# 1.데이터 수집- OpenAPI 사용하기"
   ]
  },
  {
   "cell_type": "code",
   "execution_count": 1,
   "id": "aaa1f1eb-c493-4947-aa0e-e12117198d54",
   "metadata": {
    "scrolled": true
   },
   "outputs": [
    {
     "name": "stdout",
     "output_type": "stream",
     "text": [
      "Request successful\n",
      "{\"response\":{\"request\":{\"startDt\":\"2023-01-01\",\"endDt\":\"2023-12-30\",\"age\":\"20\",\"pageNo\":1,\"pageSize\":200},\"resultNum\":200,\"numFound\":5000,\"docs\":[{\"doc\":{\"no\":1,\"ranking\":\"1\",\"bookname\":\"물고기는 존재하지 않는다 :상실, 사랑 그리고 숨어 있는 삶의 질서에 관한 이야기 \",\"authors\":\"룰루 밀러 지음 ;정지인 옮김\",\"publisher\":\"곰출판\",\"publication_year\":\"2021\",\"isbn13\":\"9791189327156\",\"addition_symbol\":\"03400\",\"vol\":\"\",\"class_no\":\"490.99\",\"class_nm\":\"자연과학 > 동물학 > 동물학\",\"loan_count\":\"5907\",\"bookImageURL\":\"https://image.aladin.co.kr/product/28465/73/cover/k092835920_1.jpg\",\"bookDtlUrl\":\"https://data4library.kr/bookV?seq=6360937\"}},{\"doc\":{\"no\":2,\"ranking\":\"2\",\"bookname\":\"지구 끝의 온실 :김초엽 장편소설 \",\"authors\":\"지은이: 김초엽\",\"publisher\":\"Giant Books(자이언트북스)\",\"publication_year\":\"2021\",\"isbn13\":\"9791191824001\",\"addition_symbol\":\"03810\",\"vol\":\"\",\"class_no\":\"813.7\",\"class_nm\":\"문학 > 한국문학 > 소설\",\"loan_count\":\"5186\",\"bookImageURL\":\"https://image.aladin.co.kr/product/27692/63/cover/k082733434_1.jpg\",\"bookDtlUrl\":\"https://data4library.kr/bookV?seq=6065686\"}},{\"doc\":{\"no\":3,\"ranking\":\"3\",\"bookname\":\"불편한 편의점 :김호연 장편소설 \",\"authors\":\"지은이: 김호연\",\"publisher\":\"나무옆의자\",\"publication_year\":\"2021\",\"isbn13\":\"9791161571188\",\"addition_symbol\":\"03810\",\"vol\":\"\",\"class_no\":\"813.7\",\"class_nm\":\"문학 > 한국문학 > 소설\",\"loan_count\":\"5131\",\"bookImageURL\":\"https://image.aladin.co.kr/product/26942/84/cover/k582730818_1.jpg\",\"bookDtlUrl\":\"https://data4library.kr/bookV?seq=5962217\"}},{\"doc\":{\"no\":4,\"ranking\":\"4\",\"bookname\":\"달러구트 꿈 백화점 :이미예 장편소설\",\"authors\":\"지은이: 이미예\",\"publisher\":\"팩토리나인\",\"publication_year\":\"2020\",\"isbn13\":\"9791165341909\",\"addition_symbol\":\"03810\",\"vol\":\"\",\"class_no\":\"813.7\",\"class_nm\":\"문학 > 한국문학 > 소설\",\"loan_count\":\"5085\",\"bookImageURL\":\"https://image.aladin.co.kr/product/24512/70/cover/k392630952_1.jpg\",\"bookDtlUrl\":\"https://data4library.kr/bookV?seq=5707051\"}},{\"doc\":{\"no\":5,\"ranking\":\"5\",\"bookname\":\"우리가 빛의 속도로 갈 수 없다면 :김초엽 소설 \",\"authors\":\"지은이: 김초엽\",\"publisher\":\"허블\",\"publication_year\":\"2019\",\"isbn13\":\"9791190090018\",\"addition_symbol\":\"03810\",\"vol\":\"\",\"class_no\":\"813.7\",\"class_nm\":\"문학 > 한국문학 > 소설\",\"loan_count\":\"4730\",\"bookImageURL\":\"https://image.aladin.co.kr/product/19359/16/cover/s972635417_1.jpg\",\"bookDtlUrl\":\"https://data4library.kr/bookV?seq=5430429\"}},{\"doc\":{\"no\":6,\"ranking\":\"6\",\"bookname\":\"시선으로부터, :정세랑 장편소설 \",\"authors\":\"지은이: 정세랑\",\"publisher\":\"문학동네\",\"publication_year\":\"2020\",\"isbn13\":\"9788954672214\",\"addition_symbol\":\"03810\",\"vol\":\"\",\"class_no\":\"813.7\",\"class_nm\":\"문학 > 한국문학 > 소설\",\"loan_count\":\"4455\",\"bookImageURL\":\"https://image.aladin.co.kr/product/24131/37/cover/8954672213_1.jpg\",\"bookDtlUrl\":\"https://data4library.kr/bookV?seq=5674475\"}},{\"doc\":{\"no\":7,\"ranking\":\"7\",\"bookname\":\"홍학의 자리 :정해연 장편소설 \",\"authors\":\"지은이: 정해연\",\"publisher\":\"문학동네\",\"publication_year\":\"2021\",\"isbn13\":\"9788954681155\",\"addition_symbol\":\"03810\",\"vol\":\"\",\"class_no\":\"813.7\",\"class_nm\":\"문학 > 한국문학 > 소설\",\"loan_count\":\"4409\",\"bookImageURL\":\"https://image.aladin.co.kr/product/27587/94/cover/8954681158_1.jpg\",\"bookDtlUrl\":\"https://data4library.kr/bookV?seq=6050062\"}},{\"doc\":{\"no\":8,\"ranking\":\"8\",\"bookname\":\"밝은 밤 :최은영 장편소설 \",\"authors\":\"지은이: 최은영\",\"publisher\":\"문학동네\",\"publication_year\":\"2021\",\"isbn13\":\"9788954681179\",\"addition_symbol\":\"03810\",\"vol\":\"\",\"class_no\":\"813.7\",\"class_nm\":\"문학 > 한국문학 > 소설\",\"loan_count\":\"4104\",\"bookImageURL\":\"https://image.aladin.co.kr/product/27541/91/cover/8954681174_1.jpg\",\"bookDtlUrl\":\"https://data4library.kr/bookV?seq=6045915\"}},{\"doc\":{\"no\":9,\"ranking\":\"9\",\"bookname\":\"천 개의 파랑 :천선란 장편소설 \",\"authors\":\"지은이: 천선란\",\"publisher\":\"허블\",\"publication_year\":\"2020\",\"isbn13\":\"9791190090261\",\"addition_symbol\":\"03810\",\"vol\":\"\",\"class_no\":\"813.7\",\"class_nm\":\"문학 > 한국문학 > 소설\",\"loan_count\":\"4096\",\"bookImageURL\":\"https://image.aladin.co.kr/product/24895/69/cover/k882632470_2.jpg\",\"bookDtlUrl\":\"https://data4library.kr/bookV?seq=5738747\"}},{\"doc\":{\"no\":10,\"ranking\":\"10\",\"bookname\":\"칵테일, 러브, 좀비 \",\"authors\":\"지은이: 조예은\",\"publisher\":\"안전가옥\",\"publication_year\":\"2020\",\"isbn13\":\"9791190174756\",\"addition_symbol\":\"03810\",\"vol\":\"\",\"class_no\":\"813.7\",\"class_nm\":\"문학 > 한국문학 > 소설\",\"loan_count\":\"3989\",\"bookImageURL\":\"https://image.aladin.co.kr/product/23736/85/cover/k692639764_1.jpg\",\"bookDtlUrl\":\"https://data4library.kr/bookV?seq=5650149\"}},{\"doc\":{\"no\":11,\"ranking\":\"11\",\"bookname\":\"지구에서 한아뿐 :정세랑 장편소설 \",\"authors\":\"지은이: 정세랑\",\"publisher\":\"난다\",\"publication_year\":\"2019\",\"isbn13\":\"9791188862290\",\"addition_symbol\":\"03810\",\"vol\":\"\",\"class_no\":\"813.7\",\"class_nm\":\"문학 > 한국문학 > 소설\",\"loan_count\":\"3836\",\"bookImageURL\":\"https://image.aladin.co.kr/product/19804/82/cover/k072635131_1.jpg\",\"bookDtlUrl\":\"https://data4library.kr/bookV?seq=5446546\"}},{\"doc\":{\"no\":12,\"ranking\":\"12\",\"bookname\":\"구의 증명 :최진영 소설 \",\"authors\":\"지은이: 최진영\",\"publisher\":\"은행나무\",\"publication_year\":\"2015\",\"isbn13\":\"9788956608556\",\"addition_symbol\":\"03810\",\"vol\":\"\",\"class_no\":\"813.7\",\"class_nm\":\"문학 > 한국문학 > 소설\",\"loan_count\":\"3700\",\"bookImageURL\":\"http://image.aladin.co.kr/product/5527/50/cover/8956608555_1.jpg\",\"bookDtlUrl\":\"https://data4library.kr/bookV?seq=2619618\"}},{\"doc\":{\"no\":13,\"ranking\":\"13\",\"bookname\":\"달러구트 꿈 백화점 :이미예 장편소설\",\"authors\":\"지은이: 이미예\",\"publisher\":\"팩토리나인\",\"publication_year\":\"2021\",\"isbn13\":\"9791165343729\",\"addition_symbol\":\"03810\",\"vol\":\"2\",\"class_no\":\"813.7\",\"class_nm\":\"문학 > 한국문학 > 소설\",\"loan_count\":\"3695\",\"bookImageURL\":\"https://image.aladin.co.kr/product/27587/47/cover/k962733015_1.jpg\",\"bookDtlUrl\":\"https://data4library.kr/bookV?seq=6049391\"}},{\"doc\":{\"no\":14,\"ranking\":\"14\",\"bookname\":\"아몬드손원평 장편소설\",\"authors\":\"손원평\",\"publisher\":\"창비\",\"publication_year\":\"2017\",\"isbn13\":\"9788936434267\",\"addition_symbol\":\"03810\",\"vol\":\"\",\"class_no\":\"813.7\",\"class_nm\":\"문학 > 한국문학 > 소설\",\"loan_count\":\"3609\",\"bookImageURL\":\"http://image.aladin.co.kr/product/16839/4/cover/k492534773_1.jpg\",\"bookDtlUrl\":\"https://data4library.kr/bookV?seq=3423096\"}},{\"doc\":{\"no\":15,\"ranking\":\"15\",\"bookname\":\"나는 소망한다 내게 금지된 것을 :양귀자 장편소설 \",\"authors\":\"지은이: 양귀자\",\"publisher\":\"쓰다\",\"publication_year\":\"2019\",\"isbn13\":\"9788998441074\",\"addition_symbol\":\"03810\",\"vol\":\"\",\"class_no\":\"813.62\",\"class_nm\":\"문학 > 한국문학 > 소설\",\"loan_count\":\"3581\",\"bookImageURL\":\"https://image.aladin.co.kr/product/18936/52/cover/8998441071_1.jpg\",\"bookDtlUrl\":\"https://data4library.kr/bookV?seq=5395822\"}},{\"doc\":{\"no\":16,\"ranking\":\"16\",\"bookname\":\"미드나잇 라이브러리 \",\"authors\":\"매트 헤이그 지음 ;노진선 옮김\",\"publisher\":\"인플루엔셜\",\"publication_year\":\"2021\",\"isbn13\":\"9791191056556\",\"addition_symbol\":\"03840\",\"vol\":\"\",\"class_no\":\"843.6\",\"class_nm\":\"문학 > 영미문학 > 소설\",\"loan_count\":\"3566\",\"bookImageURL\":\"https://image.aladin.co.kr/product/26987/37/cover/k962730610_1.jpg\",\"bookDtlUrl\":\"https://data4library.kr/bookV?seq=5965665\"}},{\"doc\":{\"no\":17,\"ranking\":\"17\",\"bookname\":\"트로피컬 나이트 =조예은 소설집 /Tropical night \",\"authors\":\"지은이: 조예은\",\"publisher\":\"한겨레엔\",\"publication_year\":\"2022\",\"isbn13\":\"9791160408331\",\"addition_symbol\":\"03810\",\"vol\":\"\",\"class_no\":\"813.7\",\"class_nm\":\"문학 > 한국문학 > 소설\",\"loan_count\":\"3500\",\"bookImageURL\":\"https://image.aladin.co.kr/product/29946/7/cover/k962838741_1.jpg\",\"bookDtlUrl\":\"https://data4library.kr/bookV?seq=6541800\"}},{\"doc\":{\"no\":18,\"ranking\":\"18\",\"bookname\":\"나미야 잡화점의 기적 :히가시노 게이고 장편소설 \",\"authors\":\"지은이: 히가시노 게이고 ;옮긴이: 양윤옥\",\"publisher\":\"현대문학\",\"publication_year\":\"2012\",\"isbn13\":\"9788972756194\",\"addition_symbol\":\"03830\",\"vol\":\"\",\"class_no\":\"833.6\",\"class_nm\":\"문학 > 일본문학 > 소설\",\"loan_count\":\"3188\",\"bookImageURL\":\"http://image.aladin.co.kr/product/15848/6/cover/k622533431_1.jpg\",\"bookDtlUrl\":\"https://data4library.kr/bookV?seq=1902173\"}},{\"doc\":{\"no\":19,\"ranking\":\"19\",\"bookname\":\"종의 기원 =정유정 장편소설 /The origin of species \",\"authors\":\"지은이: 정유정\",\"publisher\":\"은행나무\",\"publication_year\":\"2016\",\"isbn13\":\"9788956609959\",\"addition_symbol\":\"03810\",\"vol\":\"\",\"class_no\":\"813.7\",\"class_nm\":\"문학 > 한국문학 > 소설\",\"loan_count\":\"3172\",\"bookImageURL\":\"http://image.aladin.co.kr/product/7492/9/cover/8956609950_2.jpg\",\"bookDtlUrl\":\"https://data4library.kr/bookV?seq=3151708\"}},{\"doc\":{\"no\":20,\"ranking\":\"20\",\"bookname\":\"모순 :양귀자 장편소설 \",\"authors\":\"지은이: 양귀자\",\"publisher\":\"쓰다\",\"publication_year\":\"2013\",\"isbn13\":\"9788998441012\",\"addition_symbol\":\"03810\",\"vol\":\"\",\"class_no\":\"813.62\",\"class_nm\":\"문학 > 한국문학 > 소설\",\"loan_count\":\"3162\",\"bookImageURL\":\"https://bookthumb-phinf.pstatic.net/cover/071/902/07190270.jpg?type=m1&udate=20170801\",\"bookDtlUrl\":\"https://data4library.kr/bookV?seq=1938053\"}},{\"doc\":{\"no\":21,\"ranking\":\"21\",\"bookname\":\"다정한 것이 살아남는다 \",\"authors\":\"지은이: 브라이언 헤어,옮긴이: 이민아\",\"publisher\":\"디플롯\",\"publication_year\":\"2021\",\"isbn13\":\"9791197413025\",\"addition_symbol\":\"03400\",\"vol\":\"\",\"class_no\":\"182.4\",\"class_nm\":\"철학 > 심리학 > 차이심리학\",\"loan_count\":\"3129\",\"bookImageURL\":\"https://image.aladin.co.kr/product/27608/83/cover/k722733028_1.jpg\",\"bookDtlUrl\":\"https://data4library.kr/bookV?seq=6060921\"}},{\"doc\":{\"no\":22,\"ranking\":\"22\",\"bookname\":\"소년이 온다 :한강 장편소설 \",\"authors\":\"지은이: 한강\",\"publisher\":\"창비\",\"publication_year\":\"2014\",\"isbn13\":\"9788936434120\",\"addition_symbol\":\"03810\",\"vol\":\"\",\"class_no\":\"813.62\",\"class_nm\":\"문학 > 한국문학 > 소설\",\"loan_count\":\"3103\",\"bookImageURL\":\"http://image.aladin.co.kr/product/4086/97/cover/8936434128_2.jpg\",\"bookDtlUrl\":\"https://data4library.kr/bookV?seq=2037399\"}},{\"doc\":{\"no\":23,\"ranking\":\"23\",\"bookname\":\"역행자 :돈·시간·운명으로부터 완전한 자유를 얻는 7단계 인생 공략집 \",\"authors\":\"자청 지음\",\"publisher\":\"웅진씽크빅\",\"publication_year\":\"2022\",\"isbn13\":\"9788901260716\",\"addition_symbol\":\"03320\",\"vol\":\"\",\"class_no\":\"325.211\",\"class_nm\":\"사회과학 > 경제학 > 경영관리\",\"loan_count\":\"3057\",\"bookImageURL\":\"https://image.aladin.co.kr/product/29521/63/cover/8901260719_1.jpg\",\"bookDtlUrl\":\"https://data4library.kr/bookV?seq=6468069\"}},{\"doc\":{\"no\":24,\"ranking\":\"24\",\"bookname\":\"완전한 행복 :정유정 장편소설 \",\"authors\":\"지은이: 정유정\",\"publisher\":\"은행나무\",\"publication_year\":\"2021\",\"isbn13\":\"9791167370280\",\"addition_symbol\":\"03810\",\"vol\":\"\",\"class_no\":\"813.7\",\"class_nm\":\"문학 > 한국문학 > 소설\",\"loan_count\":\"3040\",\"bookImageURL\":\"https://image.aladin.co.kr/product/27225/29/cover/k432732398_2.jpg\",\"bookDtlUrl\":\"https://data4library.kr/bookV?seq=5987427\"}},{\"doc\":{\"no\":25,\"ranking\":\"25\",\"bookname\":\"아버지의 해방일지 :정지아 장편소설 \",\"authors\":\"지은이: 정지아\",\"publisher\":\"창비\",\"publication_year\":\"2022\",\"isbn13\":\"9788936438838\",\"addition_symbol\":\"03810\",\"vol\":\"\",\"class_no\":\"813.62\",\"class_nm\":\"문학 > 한국문학 > 소설\",\"loan_count\":\"3022\",\"bookImageURL\":\"https://image.aladin.co.kr/product/30048/51/cover/8936438832_1.jpg\",\"bookDtlUrl\":\"https://data4library.kr/bookV?seq=6551957\"}},{\"doc\":{\"no\":26,\"ranking\":\"26\",\"bookname\":\"쇼코의 미소 :최은영 소설 \",\"authors\":\"지은이: 최은영\",\"publisher\":\"문학동네\",\"publication_year\":\"2016\",\"isbn13\":\"9788954641630\",\"addition_symbol\":\"03810\",\"vol\":\"\",\"class_no\":\"813.7\",\"class_nm\":\"문학 > 한국문학 > 소설\",\"loan_count\":\"2952\",\"bookImageURL\":\"https://bookthumb-phinf.pstatic.net/cover/107/859/10785953.jpg?type=m1&udate=20180717\",\"bookDtlUrl\":\"https://data4library.kr/bookV?seq=3190615\"}},{\"doc\":{\"no\":27,\"ranking\":\"27\",\"bookname\":\"어서오세요, 휴남동 서점입니다 :황보름 장편소설 \",\"authors\":\"지은이: 황보름\",\"publisher\":\"클레이하우스\",\"publication_year\":\"2022\",\"isbn13\":\"9791197377143\",\"addition_symbol\":\"03810\",\"vol\":\"\",\"class_no\":\"813.7\",\"class_nm\":\"문학 > 한국문학 > 소설\",\"loan_count\":\"2891\",\"bookImageURL\":\"https://image.aladin.co.kr/product/28685/95/cover/k362836265_1.jpg\",\"bookDtlUrl\":\"https://data4library.kr/bookV?seq=6389692\"}},{\"doc\":{\"no\":28,\"ranking\":\"28\",\"bookname\":\"불편한 편의점 :김호연 장편소설\",\"authors\":\"지은이: 김호연\",\"publisher\":\"나무옆의자\",\"publication_year\":\"2022\",\"isbn13\":\"9791161571379\",\"addition_symbol\":\"03810\",\"vol\":\"2\",\"class_no\":\"813.7\",\"class_nm\":\"문학 > 한국문학 > 소설\",\"loan_count\":\"2864\",\"bookImageURL\":\"https://image.aladin.co.kr/product/29858/98/cover/k432838027_1.jpg\",\"bookDtlUrl\":\"https://data4library.kr/bookV?seq=6529613\"}},{\"doc\":{\"no\":29,\"ranking\":\"29\",\"bookname\":\"공정하다는 착각 :능력주의는 모두에게 같은 기회를 제공하는가 \",\"authors\":\"마이클 샌델 지음 ;함규진 옮김\",\"publisher\":\"미래엔\",\"publication_year\":\"2020\",\"isbn13\":\"9791164136452\",\"addition_symbol\":\"03300\",\"vol\":\"\",\"class_no\":\"332.6\",\"class_nm\":\"사회과학 > 사회학, 사회문제 > 사회조직 및 제도\",\"loan_count\":\"2849\",\"bookImageURL\":\"https://image.aladin.co.kr/product/25470/6/cover/k092633826_1.jpg\",\"bookDtlUrl\":\"https://data4library.kr/bookV?seq=5791228\"}},{\"doc\":{\"no\":30,\"ranking\":\"30\",\"bookname\":\"피프티 피플 :정세랑 장편소설 \",\"authors\":\"지은이: 정세랑\",\"publisher\":\"창비\",\"publication_year\":\"2016\",\"isbn13\":\"9788936434243\",\"addition_symbol\":\"03810\",\"vol\":\"\",\"class_no\":\"813.7\",\"class_nm\":\"문학 > 한국문학 > 소설\",\"loan_count\":\"2822\",\"bookImageURL\":\"https://bookthumb-phinf.pstatic.net/cover/113/062/11306271.jpg?type=m1&udate=20180117\",\"bookDtlUrl\":\"https://data4library.kr/bookV?seq=3391014\"}},{\"doc\":{\"no\":31,\"ranking\":\"31\",\"bookname\":\"심판 \",\"authors\":\"베르나르 베르베르 지음 ;전미연 옮김\",\"publisher\":\"열린책들\",\"publication_year\":\"2020\",\"isbn13\":\"9788932920405\",\"addition_symbol\":\"03860\",\"vol\":\"\",\"class_no\":\"862\",\"class_nm\":\"문학 > 프랑스문학 > 희곡\",\"loan_count\":\"2721\",\"bookImageURL\":\"https://image.aladin.co.kr/product/24919/70/cover/8932920400_1.jpg\",\"bookDtlUrl\":\"https://data4library.kr/bookV?seq=5738734\"}},{\"doc\":{\"no\":32,\"ranking\":\"31\",\"bookname\":\"타이탄의 도구들 :1만 시간의 법칙을 깬 거인들의 61가지 전략 \",\"authors\":\"팀 페리스 지음 ;정지현 옮김\",\"publisher\":\"Tornado(토네이도)\",\"publication_year\":\"2017\",\"isbn13\":\"9791158510619\",\"addition_symbol\":\"03190\",\"vol\":\"\",\"class_no\":\"325.211\",\"class_nm\":\"사회과학 > 경제학 > 경영관리\",\"loan_count\":\"2721\",\"bookImageURL\":\"http://image.aladin.co.kr/product/10590/57/cover/k162530537_1.jpg\",\"bookDtlUrl\":\"https://data4library.kr/bookV?seq=3423727\"}},{\"doc\":{\"no\":33,\"ranking\":\"33\",\"bookname\":\"도파민네이션 :쾌락 과잉 시대에서 균형 찾기 \",\"authors\":\"애나 렘키 지음 ;김두완 옮김\",\"publisher\":\"흐름출판\",\"publication_year\":\"2022\",\"isbn13\":\"9788965965046\",\"addition_symbol\":\"03180\",\"vol\":\"\",\"class_no\":\"181.71\",\"class_nm\":\"철학 > 심리학 > 각론\",\"loan_count\":\"2672\",\"bookImageURL\":\"https://image.aladin.co.kr/product/29125/5/cover/8965965047_1.jpg\",\"bookDtlUrl\":\"https://data4library.kr/bookV?seq=6428072\"}},{\"doc\":{\"no\":34,\"ranking\":\"34\",\"bookname\":\"방금 떠나온 세계 :김초엽 소설집 \",\"authors\":\"지은이: 김초엽\",\"publisher\":\"한겨레엔\",\"publication_year\":\"2021\",\"isbn13\":\"9791160406504\",\"addition_symbol\":\"03810\",\"vol\":\"\",\"class_no\":\"813.7\",\"class_nm\":\"문학 > 한국문학 > 소설\",\"loan_count\":\"2650\",\"bookImageURL\":\"https://image.aladin.co.kr/product/28170/22/cover/k032835560_1.jpg\",\"bookDtlUrl\":\"https://data4library.kr/bookV?seq=6322276\"}},{\"doc\":{\"no\":35,\"ranking\":\"35\",\"bookname\":\"내게 무해한 사람 :최은영 소설 \",\"authors\":\"지은이: 최은영\",\"publisher\":\"문학동네\",\"publication_year\":\"2018\",\"isbn13\":\"9788954651820\",\"addition_symbol\":\"03810\",\"vol\":\"\",\"class_no\":\"813.7\",\"class_nm\":\"문학 > 한국문학 > 소설\",\"loan_count\":\"2605\",\"bookImageURL\":\"https://image.aladin.co.kr/product/15133/51/cover/8954651828_1.jpg\",\"bookDtlUrl\":\"https://data4library.kr/bookV?seq=3774162\"}},{\"doc\":{\"no\":36,\"ranking\":\"36\",\"bookname\":\"오늘 밤, 세계에서 이 사랑이 사라진다 해도 \",\"authors\":\"이치조 미사키 지음 ;권영주 옮김\",\"publisher\":\"바이포엠\",\"publication_year\":\"2021\",\"isbn13\":\"9791191043297\",\"addition_symbol\":\"03830\",\"vol\":\"\",\"class_no\":\"833.6\",\"class_nm\":\"문학 > 일본문학 > 소설\",\"loan_count\":\"2582\",\"bookImageURL\":\"https://image.aladin.co.kr/product/27407/79/cover/k362732558_1.jpg\",\"bookDtlUrl\":\"https://data4library.kr/bookV?seq=6036502\"}},{\"doc\":{\"no\":37,\"ranking\":\"37\",\"bookname\":\"파과 :구병모 장편소설 \",\"authors\":\"지은이: 구병모\",\"publisher\":\"위즈덤하우스 미디어그룹\",\"publication_year\":\"2018\",\"isbn13\":\"9791162203620\",\"addition_symbol\":\"03810\",\"vol\":\"\",\"class_no\":\"813.7\",\"class_nm\":\"문학 > 한국문학 > 소설\",\"loan_count\":\"2546\",\"bookImageURL\":\"http://image.aladin.co.kr/product/14224/40/cover/k872532537_1.jpg\",\"bookDtlUrl\":\"https://data4library.kr/bookV?seq=3742540\"}},{\"doc\":{\"no\":38,\"ranking\":\"38\",\"bookname\":\"사피엔스 :유인원에서 사이보그까지, 인간 역사의 대담하고 위대한 질문 \",\"authors\":\"지은이: 유발 하라리 ;옮긴이: 조현욱\",\"publisher\":\"김영사\",\"publication_year\":\"2015\",\"isbn13\":\"9788934972464\",\"addition_symbol\":\"03900\",\"vol\":\"\",\"class_no\":\"909\",\"class_nm\":\"역사 > 역사 > 세계사, 세계문화사\",\"loan_count\":\"2540\",\"bookImageURL\":\"https://bookthumb-phinf.pstatic.net/cover/097/807/09780781.jpg?type=m1&udate=20180721\",\"bookDtlUrl\":\"https://data4library.kr/bookV?seq=3027835\"}},{\"doc\":{\"no\":39,\"ranking\":\"39\",\"bookname\":\"작별인사 :김영하 장편소설 \",\"authors\":\"지은이: 김영하\",\"publisher\":\"복복서가\",\"publication_year\":\"2022\",\"isbn13\":\"9791191114225\",\"addition_symbol\":\"03810\",\"vol\":\"\",\"class_no\":\"813.62\",\"class_nm\":\"문학 > 한국문학 > 소설\",\"loan_count\":\"2527\",\"bookImageURL\":\"https://image.aladin.co.kr/product/29281/68/cover/k122837904_1.jpg\",\"bookDtlUrl\":\"https://data4library.kr/bookV?seq=6446085\"}},{\"doc\":{\"no\":40,\"ranking\":\"40\",\"bookname\":\"아주 작은 습관의 힘 :최고의 변화는 어떻게 만들어지는가 \",\"authors\":\"제임스 클리어 지음 ;이한이 옮김\",\"publisher\":\"비즈니스북스\",\"publication_year\":\"2019\",\"isbn13\":\"9791162540640\",\"addition_symbol\":\"03190\",\"vol\":\"\",\"class_no\":\"181.845\",\"class_nm\":\"철학 > 심리학 > 각론\",\"loan_count\":\"2508\",\"bookImageURL\":\"https://image.aladin.co.kr/product/18228/51/cover/k832534441_1.jpg\",\"bookDtlUrl\":\"https://data4library.kr/bookV?seq=5368180\"}},{\"doc\":{\"no\":41,\"ranking\":\"41\",\"bookname\":\"돈은 좋지만 재테크는 겁나는 너에게 \",\"authors\":\"뿅글이 지음\",\"publisher\":\"첨단\",\"publication_year\":\"2023\",\"isbn13\":\"9788960306134\",\"addition_symbol\":\"03320\",\"vol\":\"\",\"class_no\":\"327.04\",\"class_nm\":\"사회과학 > 경제학 > 금융\",\"loan_count\":\"2482\",\"bookImageURL\":\"https://image.aladin.co.kr/product/30921/24/cover/8960306134_2.jpg\",\"bookDtlUrl\":\"https://data4library.kr/bookV?seq=6627400\"}},{\"doc\":{\"no\":42,\"ranking\":\"42\",\"bookname\":\"채식주의자:한강 연작소설\",\"authors\":\"한강\",\"publisher\":\"창비\",\"publication_year\":\"2007\",\"isbn13\":\"9788936433598\",\"addition_symbol\":\"03810\",\"vol\":\"\",\"class_no\":\"813.6\",\"class_nm\":\"문학 > 한국문학 > 소설\",\"loan_count\":\"2468\",\"bookImageURL\":\"https://bookthumb-phinf.pstatic.net/cover/033/094/03309417.jpg?type=m1&udate=20180609\",\"bookDtlUrl\":\"https://data4library.kr/bookV?seq=2155671\"}},{\"doc\":{\"no\":43,\"ranking\":\"43\",\"bookname\":\"돈의 속성 :최상위 부자가 말하는 돈에 대한 모든 것 \",\"authors\":\"지은이: 김승호\",\"publisher\":\"Snowfox(스노우폭스북스)\",\"publication_year\":\"2020\",\"isbn13\":\"9791188331796\",\"addition_symbol\":\"03320\",\"vol\":\"\",\"class_no\":\"327.04\",\"class_nm\":\"사회과학 > 경제학 > 금융\",\"loan_count\":\"2430\",\"bookImageURL\":\"https://image.aladin.co.kr/product/24191/64/cover/k562639753_1.jpg\",\"bookDtlUrl\":\"https://data4library.kr/bookV?seq=5678862\"}},{\"doc\":{\"no\":44,\"ranking\":\"44\",\"bookname\":\"바깥은 여름 :김애란 소설 \",\"authors\":\"지은이: 김애란\",\"publisher\":\"문학동네\",\"publication_year\":\"2017\",\"isbn13\":\"9788954646079\",\"addition_symbol\":\"03810\",\"vol\":\"\",\"class_no\":\"813.7\",\"class_nm\":\"문학 > 한국문학 > 소설\",\"loan_count\":\"2425\",\"bookImageURL\":\"http://image.aladin.co.kr/product/15533/81/cover/k852533629_1.jpg\",\"bookDtlUrl\":\"https://data4library.kr/bookV?seq=3451595\"}},{\"doc\":{\"no\":45,\"ranking\":\"45\",\"bookname\":\"원씽 :복잡한 세상을 이기는 단순함의 힘 \",\"authors\":\"게리 켈러,구세희 옮김\",\"publisher\":\"비즈니스북스\",\"publication_year\":\"2013\",\"isbn13\":\"9788997575169\",\"addition_symbol\":\"13190\",\"vol\":\"\",\"class_no\":\"325.04\",\"class_nm\":\"사회과학 > 경제학 > 경영관리\",\"loan_count\":\"2362\",\"bookImageURL\":\"https://bookthumb-phinf.pstatic.net/cover/072/793/07279338.jpg?type=m1&udate=20171117\",\"bookDtlUrl\":\"https://data4library.kr/bookV?seq=1967433\"}},{\"doc\":{\"no\":46,\"ranking\":\"46\",\"bookname\":\"파친코 :이민진 장편소설\",\"authors\":\"이민진 지음 ;이미정 옮김\",\"publisher\":\"문학사상\",\"publication_year\":\"2018\",\"isbn13\":\"9788970129815\",\"addition_symbol\":\"04840\",\"vol\":\"1\",\"class_no\":\"843.6\",\"class_nm\":\"문학 > 영미문학 > 소설\",\"loan_count\":\"2347\",\"bookImageURL\":\"https://bookthumb-phinf.pstatic.net/cover/134/282/13428208.jpg?type=m1&udate=20180331\",\"bookDtlUrl\":\"https://data4library.kr/bookV?seq=3723218\"}},{\"doc\":{\"no\":47,\"ranking\":\"47\",\"bookname\":\"프로젝트 헤일메리 \",\"authors\":\"앤디 위어 지음 ;강동혁 옮김\",\"publisher\":\"RHK(알에이치코리아)\",\"publication_year\":\"2021\",\"isbn13\":\"9788925588735\",\"addition_symbol\":\"04840\",\"vol\":\"\",\"class_no\":\"843.6\",\"class_nm\":\"문학 > 영미문학 > 소설\",\"loan_count\":\"2330\",\"bookImageURL\":\"https://image.aladin.co.kr/product/27045/43/cover/8925588730_1.jpg\",\"bookDtlUrl\":\"https://data4library.kr/bookV?seq=5969086\"}},{\"doc\":{\"no\":48,\"ranking\":\"48\",\"bookname\":\"부자 아빠 가난한 아빠 :20주년 특별 기념판 \",\"authors\":\"지은이: 로버트 기요사키 ;옮긴이: 안진환\",\"publisher\":\"민음인\",\"publication_year\":\"2018\",\"isbn13\":\"9791158883591\",\"addition_symbol\":\"03320\",\"vol\":\"\",\"class_no\":\"327.04\",\"class_nm\":\"사회과학 > 경제학 > 금융\",\"loan_count\":\"2300\",\"bookImageURL\":\"http://image.aladin.co.kr/product/13492/56/cover/k162532501_1.jpg\",\"bookDtlUrl\":\"https://data4library.kr/bookV?seq=3701374\"}},{\"doc\":{\"no\":49,\"ranking\":\"49\",\"bookname\":\"세상의 마지막 기차역 \",\"authors\":\"무라세 다케시 지음 ;김지연 옮김\",\"publisher\":\"바이포엠 스튜디오\",\"publication_year\":\"2022\",\"isbn13\":\"9791191043754\",\"addition_symbol\":\"03830\",\"vol\":\"\",\"class_no\":\"833.6\",\"class_nm\":\"문학 > 일본문학 > 소설\",\"loan_count\":\"2283\",\"bookImageURL\":\"https://image.aladin.co.kr/product/29442/51/cover/k762837520_1.jpg\",\"bookDtlUrl\":\"https://data4library.kr/bookV?seq=6460241\"}},{\"doc\":{\"no\":50,\"ranking\":\"50\",\"bookname\":\"해가 지는 곳으로 :최진영 장편소설 \",\"authors\":\"지은이: 최진영\",\"publisher\":\"민음사\",\"publication_year\":\"2017\",\"isbn13\":\"9788937473166\",\"addition_symbol\":\"04810\",\"vol\":\"\",\"class_no\":\"813.7\",\"class_nm\":\"문학 > 한국문학 > 소설\",\"loan_count\":\"2265\",\"bookImageURL\":\"http://image.aladin.co.kr/product/11281/18/cover/893747316x_1.jpg\",\"bookDtlUrl\":\"https://data4library.kr/bookV?seq=3468676\"}},{\"doc\":{\"no\":51,\"ranking\":\"51\",\"bookname\":\"여행의 이유 :김영하 산문 \",\"authors\":\"지은이: 김영하\",\"publisher\":\"문학동네\",\"publication_year\":\"2019\",\"isbn13\":\"9788954655972\",\"addition_symbol\":\"03810\",\"vol\":\"\",\"class_no\":\"816.62\",\"class_nm\":\"문학 > 한국문학 > 일기, 서간, 기행\",\"loan_count\":\"2247\",\"bookImageURL\":\"https://image.aladin.co.kr/product/18827/60/cover/8954655971_2.jpg\",\"bookDtlUrl\":\"https://data4library.kr/bookV?seq=5390731\"}},{\"doc\":{\"no\":52,\"ranking\":\"52\",\"bookname\":\"일의 기쁨과 슬픔 :장류진 소설집 \",\"authors\":\"지은이: 장류진\",\"publisher\":\"창비\",\"publication_year\":\"2019\",\"isbn13\":\"9788936438036\",\"addition_symbol\":\"03810\",\"vol\":\"\",\"class_no\":\"813.7\",\"class_nm\":\"문학 > 한국문학 > 소설\",\"loan_count\":\"2213\",\"bookImageURL\":\"https://image.aladin.co.kr/product/21292/13/cover/8936438034_1.jpg\",\"bookDtlUrl\":\"https://data4library.kr/bookV?seq=5508125\"}},{\"doc\":{\"no\":53,\"ranking\":\"53\",\"bookname\":\"이토록 평범한 미래 :김연수 소설 \",\"authors\":\"지은이: 김연수\",\"publisher\":\"문학동네\",\"publication_year\":\"2022\",\"isbn13\":\"9788954680004\",\"addition_symbol\":\"03810\",\"vol\":\"\",\"class_no\":\"813.62\",\"class_nm\":\"문학 > 한국문학 > 소설\",\"loan_count\":\"2134\",\"bookImageURL\":\"https://image.aladin.co.kr/product/30211/80/cover/8954680003_1.jpg\",\"bookDtlUrl\":\"https://data4library.kr/bookV?seq=6567245\"}},{\"doc\":{\"no\":54,\"ranking\":\"54\",\"bookname\":\"어린이라는 세계 :김소영 에세이 \",\"authors\":\"지은이: 김소영\",\"publisher\":\"사계절(사계절출판사)\",\"publication_year\":\"2020\",\"isbn13\":\"9791160946918\",\"addition_symbol\":\"03810\",\"vol\":\"\",\"class_no\":\"818\",\"class_nm\":\"문학 > 한국문학 > 르포르타주 및 기타\",\"loan_count\":\"2127\",\"bookImageURL\":\"https://image.aladin.co.kr/product/25509/75/cover/k132633125_1.jpg\",\"bookDtlUrl\":\"https://data4library.kr/bookV?seq=5795911\"}},{\"doc\":{\"no\":55,\"ranking\":\"55\",\"bookname\":\"여름의 빌라 :백수린 소설 \",\"authors\":\"지은이: 백수린\",\"publisher\":\"문학동네\",\"publication_year\":\"2020\",\"isbn13\":\"9788954673105\",\"addition_symbol\":\"03810\",\"vol\":\"\",\"class_no\":\"813.7\",\"class_nm\":\"문학 > 한국문학 > 소설\",\"loan_count\":\"2081\",\"bookImageURL\":\"https://image.aladin.co.kr/product/24489/98/cover/8954673104_1.jpg\",\"bookDtlUrl\":\"https://data4library.kr/bookV?seq=5703910\"}},{\"doc\":{\"no\":56,\"ranking\":\"56\",\"bookname\":\"아가미 :구병모 장편소설 \",\"authors\":\"지은이: 구병모\",\"publisher\":\"위즈덤하우스\",\"publication_year\":\"2018\",\"isbn13\":\"9791162203392\",\"addition_symbol\":\"03810\",\"vol\":\"\",\"class_no\":\"813.7\",\"class_nm\":\"문학 > 한국문학 > 소설\",\"loan_count\":\"2034\",\"bookImageURL\":\"http://image.aladin.co.kr/product/13925/89/cover/k732532525_1.jpg\",\"bookDtlUrl\":\"https://data4library.kr/bookV?seq=3732414\"}},{\"doc\":{\"no\":57,\"ranking\":\"57\",\"bookname\":\"선량한 차별주의자 \",\"authors\":\"김지혜 지음\",\"publisher\":\"창비\",\"publication_year\":\"2019\",\"isbn13\":\"9788936477196\",\"addition_symbol\":\"03300\",\"vol\":\"\",\"class_no\":\"334\",\"class_nm\":\"사회과학 > 사회학, 사회문제 > 사회문제\",\"loan_count\":\"1995\",\"bookImageURL\":\"https://image.aladin.co.kr/product/19874/76/cover/8936477196_1.jpg\",\"bookDtlUrl\":\"https://data4library.kr/bookV?seq=5448422\"}},{\"doc\":{\"no\":58,\"ranking\":\"58\",\"bookname\":\"가면산장 살인사건 \",\"authors\":\"지은이: 히가시노 게이고 ;옮긴이: 김난주\",\"publisher\":\"재인\",\"publication_year\":\"2014\",\"isbn13\":\"9788990982575\",\"addition_symbol\":\"03830\",\"vol\":\"\",\"class_no\":\"833.6\",\"class_nm\":\"문학 > 일본문학 > 소설\",\"loan_count\":\"1984\",\"bookImageURL\":\"http://image.aladin.co.kr/product/4745/51/cover/899098257x_2.jpg\",\"bookDtlUrl\":\"https://data4library.kr/bookV?seq=2427470\"}},{\"doc\":{\"no\":59,\"ranking\":\"59\",\"bookname\":\"지적 대화를 위한 넓고 얕은 지식 1 - 현실 편 : 역사 / 경제 / 정치 / 사회 / 윤리\",\"authors\":\"채사장 (지은이)\",\"publisher\":\"웨일북\",\"publication_year\":\"2020\",\"isbn13\":\"9791190313186\",\"addition_symbol\":\"\",\"vol\":\"1\",\"class_no\":\"001.3\",\"class_nm\":\"총류 > 총류 > 지식, 학문 일반\",\"loan_count\":\"1976\",\"bookImageURL\":\"https://image.aladin.co.kr/product/22872/79/cover/k992636841_2.jpg\",\"bookDtlUrl\":\"https://data4library.kr/bookV?seq=5584764\"}},{\"doc\":{\"no\":60,\"ranking\":\"60\",\"bookname\":\"돌이킬 수 있는 =문목하 장편소설 /Eversible \",\"authors\":\"지은이: 문목하\",\"publisher\":\"아작\",\"publication_year\":\"2018\",\"isbn13\":\"9791189015381\",\"addition_symbol\":\"03810\",\"vol\":\"\",\"class_no\":\"813.7\",\"class_nm\":\"문학 > 한국문학 > 소설\",\"loan_count\":\"1962\",\"bookImageURL\":\"https://image.aladin.co.kr/product/17531/63/cover/k062534304_1.jpg\",\"bookDtlUrl\":\"https://data4library.kr/bookV?seq=5253241\"}},{\"doc\":{\"no\":61,\"ranking\":\"61\",\"bookname\":\"천문학자는 별을 보지 않는다 \",\"authors\":\"심채경 지음\",\"publisher\":\"문학동네\",\"publication_year\":\"2021\",\"isbn13\":\"9788954677257\",\"addition_symbol\":\"03810\",\"vol\":\"\",\"class_no\":\"440.4\",\"class_nm\":\"자연과학 > 천문학 > 천문학\",\"loan_count\":\"1938\",\"bookImageURL\":\"https://image.aladin.co.kr/product/26429/15/cover/8954677258_1.jpg\",\"bookDtlUrl\":\"https://data4library.kr/bookV?seq=5926266\"}},{\"doc\":{\"no\":62,\"ranking\":\"62\",\"bookname\":\"목소리를 드릴게요 :정세랑 소설집 \",\"authors\":\"지은이: 정세랑\",\"publisher\":\"아작\",\"publication_year\":\"2020\",\"isbn13\":\"9791165300005\",\"addition_symbol\":\"03810\",\"vol\":\"\",\"class_no\":\"813.7\",\"class_nm\":\"문학 > 한국문학 > 소설\",\"loan_count\":\"1926\",\"bookImageURL\":\"https://image.aladin.co.kr/product/22246/11/cover/k842636722_1.jpg\",\"bookDtlUrl\":\"https://data4library.kr/bookV?seq=5549987\"}},{\"doc\":{\"no\":63,\"ranking\":\"63\",\"bookname\":\"어느 날, 내 죽음에 네가 들어왔다 \",\"authors\":\"세이카 료겐 지음 ;김윤경 옮김\",\"publisher\":\"바이포엠 스튜디오\",\"publication_year\":\"2022\",\"isbn13\":\"9791191043723\",\"addition_symbol\":\"03830\",\"vol\":\"\",\"class_no\":\"833.6\",\"class_nm\":\"문학 > 일본문학 > 소설\",\"loan_count\":\"1921\",\"bookImageURL\":\"https://image.aladin.co.kr/product/29396/69/cover/k402837513_1.jpg\",\"bookDtlUrl\":\"https://data4library.kr/bookV?seq=6455125\"}},{\"doc\":{\"no\":64,\"ranking\":\"64\",\"bookname\":\"스노볼 드라이브 :조예은 장편소설 \",\"authors\":\"지은이: 조예은\",\"publisher\":\"민음사\",\"publication_year\":\"2021\",\"isbn13\":\"9788937473319\",\"addition_symbol\":\"04810\",\"vol\":\"\",\"class_no\":\"813.7\",\"class_nm\":\"문학 > 한국문학 > 소설\",\"loan_count\":\"1920\",\"bookImageURL\":\"https://bookthumb-phinf.pstatic.net/cover/180/045/18004516.jpg?type=m1&udate=20210218\",\"bookDtlUrl\":\"https://data4library.kr/bookV?seq=5882740\"}},{\"doc\":{\"no\":65,\"ranking\":\"65\",\"bookname\":\"소크라테스 익스프레스 :철학이 우리 인생에 스며드는 순간 \",\"authors\":\"에릭 와이너 지음 ;김하현 옮김\",\"publisher\":\"어크로스(어크로스출판그룹)\",\"publication_year\":\"2021\",\"isbn13\":\"9791190030922\",\"addition_symbol\":\"03100\",\"vol\":\"\",\"class_no\":\"102\",\"class_nm\":\"철학 > 철학 > 잡저\",\"loan_count\":\"1889\",\"bookImageURL\":\"https://image.aladin.co.kr/product/27025/39/cover/k822730528_1.jpg\",\"bookDtlUrl\":\"https://data4library.kr/bookV?seq=5967644\"}},{\"doc\":{\"no\":66,\"ranking\":\"66\",\"bookname\":\"용의자 X의 헌신 \",\"authors\":\"히가시노 게이고 지음 ;양억관 옮김\",\"publisher\":\"재인\",\"publication_year\":\"2017\",\"isbn13\":\"9788990982704\",\"addition_symbol\":\"03830\",\"vol\":\"\",\"class_no\":\"833.6\",\"class_nm\":\"문학 > 일본문학 > 소설\",\"loan_count\":\"1864\",\"bookImageURL\":\"https://bookthumb-phinf.pstatic.net/cover/124/818/12481857.jpg?type=m1&udate=20170914\",\"bookDtlUrl\":\"https://data4library.kr/bookV?seq=3541024\"}},{\"doc\":{\"no\":67,\"ranking\":\"66\",\"bookname\":\"미움받을 용기 :자유롭고 행복한 삶을 위한 아들러의 가르침 \",\"authors\":\"기시미 이치로,전경아 옮김\",\"publisher\":\"인플루엔셜\",\"publication_year\":\"2014\",\"isbn13\":\"9788996991342\",\"addition_symbol\":\"13180\",\"vol\":\"\",\"class_no\":\"189.2\",\"class_nm\":\"철학 > 심리학 > 응용심리학 일반\",\"loan_count\":\"1864\",\"bookImageURL\":\"https://bookthumb-phinf.pstatic.net/cover/083/399/08339910.jpg?type=m1&udate=20180616\",\"bookDtlUrl\":\"https://data4library.kr/bookV?seq=2396926\"}},{\"doc\":{\"no\":68,\"ranking\":\"68\",\"bookname\":\"7년의 밤 :정유정 장편소설 \",\"authors\":\"지은이: 정유정\",\"publisher\":\"은행나무\",\"publication_year\":\"2011\",\"isbn13\":\"9788956604992\",\"addition_symbol\":\"03810\",\"vol\":\"\",\"class_no\":\"813.7\",\"class_nm\":\"문학 > 한국문학 > 소설\",\"loan_count\":\"1861\",\"bookImageURL\":\"http://image.aladin.co.kr/product/14712/55/cover/k202532053_1.jpg\",\"bookDtlUrl\":\"https://data4library.kr/bookV?seq=1153285\"}},{\"doc\":{\"no\":69,\"ranking\":\"69\",\"bookname\":\"가녀장의 시대 :이슬아 장편소설 \",\"authors\":\"지은이: 이슬아\",\"publisher\":\"문학동네\",\"publication_year\":\"2022\",\"isbn13\":\"9788954688796\",\"addition_symbol\":\"03810\",\"vol\":\"\",\"class_no\":\"813.7\",\"class_nm\":\"문학 > 한국문학 > 소설\",\"loan_count\":\"1859\",\"bookImageURL\":\"https://image.aladin.co.kr/product/30261/10/cover/8954688799_1.jpg\",\"bookDtlUrl\":\"https://data4library.kr/bookV?seq=6570833\"}},{\"doc\":{\"no\":70,\"ranking\":\"70\",\"bookname\":\"팩트풀니스 :우리가 세상을 오해하는 10가지 이유와 세상이 생각보다 괜찮은 이유 \",\"authors\":\"지은이: 한스 로슬링,옮긴이: 이창신\",\"publisher\":\"김영사\",\"publication_year\":\"2019\",\"isbn13\":\"9788934985068\",\"addition_symbol\":\"03300\",\"vol\":\"\",\"class_no\":\"331.1\",\"class_nm\":\"사회과학 > 사회학, 사회문제 > 사회학\",\"loan_count\":\"1851\",\"bookImageURL\":\"https://image.aladin.co.kr/product/18456/45/cover/8934985062_1.jpg\",\"bookDtlUrl\":\"https://data4library.kr/bookV?seq=5371595\"}},{\"doc\":{\"no\":71,\"ranking\":\"71\",\"bookname\":\"작별하지 않는다 :한강 장편소설 \",\"authors\":\"지은이: 한강\",\"publisher\":\"문학동네\",\"publication_year\":\"2021\",\"isbn13\":\"9788954682152\",\"addition_symbol\":\"03810\",\"vol\":\"\",\"class_no\":\"813.62\",\"class_nm\":\"문학 > 한국문학 > 소설\",\"loan_count\":\"1836\",\"bookImageURL\":\"https://image.aladin.co.kr/product/27877/5/cover/8954682154_1.jpg\",\"bookDtlUrl\":\"https://data4library.kr/bookV?seq=6086446\"}},{\"doc\":{\"no\":72,\"ranking\":\"72\",\"bookname\":\"당신은 결국 무엇이든 해내는 사람 :김상현 에세이 \",\"authors\":\"지은이: 김상현\",\"publisher\":\"필름(필름출판사)\",\"publication_year\":\"2022\",\"isbn13\":\"9791188469994\",\"addition_symbol\":\"03810\",\"vol\":\"\",\"class_no\":\"818\",\"class_nm\":\"문학 > 한국문학 > 르포르타주 및 기타\",\"loan_count\":\"1831\",\"bookImageURL\":\"https://image.aladin.co.kr/product/29234/19/cover/k572837292_1.jpg\",\"bookDtlUrl\":\"https://data4library.kr/bookV?seq=6441556\"}},{\"doc\":{\"no\":73,\"ranking\":\"73\",\"bookname\":\"도둑맞은 집중력 :집중력 위기의 시대, 삶의 주도권을 되찾는 법 \",\"authors\":\"요한 하리 지음 ;김하현 옮김\",\"publisher\":\"어크로스(어크로스출판그룹)\",\"publication_year\":\"2023\",\"isbn13\":\"9791167740984\",\"addition_symbol\":\"03180\",\"vol\":\"\",\"class_no\":\"181.27\",\"class_nm\":\"철학 > 심리학 > 각론\",\"loan_count\":\"1824\",\"bookImageURL\":\"https://image.aladin.co.kr/product/31559/97/cover/k682832859_1.jpg\",\"bookDtlUrl\":\"https://data4library.kr/bookV?seq=6682845\"}},{\"doc\":{\"no\":74,\"ranking\":\"74\",\"bookname\":\"럭키 드로우 =나만의 길을 찾을 때까지 인생의 레버를 당기는 법 /Lucky draw \",\"authors\":\"드로우앤드류 지음\",\"publisher\":\"다산북스\",\"publication_year\":\"2022\",\"isbn13\":\"9791130679822\",\"addition_symbol\":\"03190\",\"vol\":\"\",\"class_no\":\"325.211\",\"class_nm\":\"사회과학 > 경제학 > 경영관리\",\"loan_count\":\"1819\",\"bookImageURL\":\"https://image.aladin.co.kr/product/28738/4/cover/k052836785_1.jpg\",\"bookDtlUrl\":\"https://data4library.kr/bookV?seq=6393384\"}},{\"doc\":{\"no\":75,\"ranking\":\"75\",\"bookname\":\"랑과 나의 사막 :천선란 소설 \",\"authors\":\"지은이: 천선란\",\"publisher\":\"H(현대문학)\",\"publication_year\":\"2022\",\"isbn13\":\"9791167901354\",\"addition_symbol\":\"04810\",\"vol\":\"\",\"class_no\":\"813.7\",\"class_nm\":\"문학 > 한국문학 > 소설\",\"loan_count\":\"1817\",\"bookImageURL\":\"https://image.aladin.co.kr/product/30395/18/cover/k572830160_1.jpg\",\"bookDtlUrl\":\"https://data4library.kr/bookV?seq=6580839\"}},{\"doc\":{\"no\":76,\"ranking\":\"76\",\"bookname\":\"왜 나는 너를 사랑하는가\",\"authors\":\"알랭 드 보통 [지음];정영목 옮김\",\"publisher\":\"청미래\",\"publication_year\":\"2007\",\"isbn13\":\"9788986836240\",\"addition_symbol\":\"03840\",\"vol\":\"\",\"class_no\":\"843\",\"class_nm\":\"문학 > 영미문학 > 소설\",\"loan_count\":\"1794\",\"bookImageURL\":\"https://bookthumb-phinf.pstatic.net/cover/030/257/03025716.jpg?type=m1&udate=20180227\",\"bookDtlUrl\":\"https://data4library.kr/bookV?seq=2130072\"}},{\"doc\":{\"no\":77,\"ranking\":\"77\",\"bookname\":\"하얼빈 :김훈 장편소설 \",\"authors\":\"지은이: 김훈\",\"publisher\":\"문학동네\",\"publication_year\":\"2022\",\"isbn13\":\"9788954699914\",\"addition_symbol\":\"03810\",\"vol\":\"\",\"class_no\":\"813.62\",\"class_nm\":\"문학 > 한국문학 > 소설\",\"loan_count\":\"1782\",\"bookImageURL\":\"https://image.aladin.co.kr/product/29857/0/cover/895469991x_1.jpg\",\"bookDtlUrl\":\"https://data4library.kr/bookV?seq=6529620\"}},{\"doc\":{\"no\":78,\"ranking\":\"78\",\"bookname\":\"어떤 물질의 사랑 :천선란 소설집 \",\"authors\":\"지은이: 천선란\",\"publisher\":\"아작\",\"publication_year\":\"2020\",\"isbn13\":\"9791165508340\",\"addition_symbol\":\"03810\",\"vol\":\"\",\"class_no\":\"813.7\",\"class_nm\":\"문학 > 한국문학 > 소설\",\"loan_count\":\"1778\",\"bookImageURL\":\"https://image.aladin.co.kr/product/24605/89/cover/k532631174_1.jpg\",\"bookDtlUrl\":\"https://data4library.kr/bookV?seq=5708343\"}},{\"doc\":{\"no\":79,\"ranking\":\"79\",\"bookname\":\"행성어 서점 :김초엽 짧은 소설 \",\"authors\":\"지은이: 김초엽 ;그린이: 최인호\",\"publisher\":\"마음산책\",\"publication_year\":\"2021\",\"isbn13\":\"9788960907003\",\"addition_symbol\":\"03810\",\"vol\":\"\",\"class_no\":\"813.7\",\"class_nm\":\"문학 > 한국문학 > 소설\",\"loan_count\":\"1753\",\"bookImageURL\":\"https://image.aladin.co.kr/product/28219/93/cover/8960907006_1.jpg\",\"bookDtlUrl\":\"https://data4library.kr/bookV?seq=6326208\"}},{\"doc\":{\"no\":80,\"ranking\":\"80\",\"bookname\":\"파친코 :이민진 장편소설\",\"authors\":\"이민진 지음 ;이미정 옮김\",\"publisher\":\"문학사상\",\"publication_year\":\"2018\",\"isbn13\":\"9788970129822\",\"addition_symbol\":\"04840\",\"vol\":\"2\",\"class_no\":\"843.6\",\"class_nm\":\"문학 > 영미문학 > 소설\",\"loan_count\":\"1749\",\"bookImageURL\":\"https://bookthumb-phinf.pstatic.net/cover/134/282/13428213.jpg?type=m1&udate=20180331\",\"bookDtlUrl\":\"https://data4library.kr/bookV?seq=3723461\"}},{\"doc\":{\"no\":81,\"ranking\":\"81\",\"bookname\":\"튜브 :손원평 장편소설 \",\"authors\":\"지은이: 손원평\",\"publisher\":\"창비\",\"publication_year\":\"2022\",\"isbn13\":\"9788936434625\",\"addition_symbol\":\"03810\",\"vol\":\"\",\"class_no\":\"813.7\",\"class_nm\":\"문학 > 한국문학 > 소설\",\"loan_count\":\"1739\",\"bookImageURL\":\"https://image.aladin.co.kr/product/29807/65/cover/8936434624_1.jpg\",\"bookDtlUrl\":\"https://data4library.kr/bookV?seq=6519670\"}},{\"doc\":{\"no\":82,\"ranking\":\"82\",\"bookname\":\"돌이킬 수 없는 약속 :야쿠마루 가쿠 장편소설 \",\"authors\":\"저자: 야쿠마루 가쿠 ;옮긴이: 김성미\",\"publisher\":\"Book plaza(북플라자)\",\"publication_year\":\"2017\",\"isbn13\":\"9788998274795\",\"addition_symbol\":\"03830\",\"vol\":\"\",\"class_no\":\"833.6\",\"class_nm\":\"문학 > 일본문학 > 소설\",\"loan_count\":\"1725\",\"bookImageURL\":\"http://image.aladin.co.kr/product/10174/56/cover/s572533950_1.jpg\",\"bookDtlUrl\":\"https://data4library.kr/bookV?seq=3411733\"}},{\"doc\":{\"no\":83,\"ranking\":\"83\",\"bookname\":\"인간 실격\",\"authors\":\"다자이 오사무 지음;김춘미 옮김\",\"publisher\":\"민음사\",\"publication_year\":\"2004\",\"isbn13\":\"9788937461033\",\"addition_symbol\":\"04830\",\"vol\":\"103\",\"class_no\":\"833.6\",\"class_nm\":\"문학 > 일본문학 > 소설\",\"loan_count\":\"1713\",\"bookImageURL\":\"https://bookthumb-phinf.pstatic.net/cover/001/510/00151055.jpg?type=m1&udate=20130129\",\"bookDtlUrl\":\"https://data4library.kr/bookV?seq=2376187\"}},{\"doc\":{\"no\":84,\"ranking\":\"84\",\"bookname\":\"언스크립티드 :부의 추월차선 완결판 \",\"authors\":\"엠제이 드마코 지음 ;안시열 옮김\",\"publisher\":\"토트\",\"publication_year\":\"2018\",\"isbn13\":\"9791187444213\",\"addition_symbol\":\"13320\",\"vol\":\"\",\"class_no\":\"325.211\",\"class_nm\":\"사회과학 > 경제학 > 경영관리\",\"loan_count\":\"1701\",\"bookImageURL\":\"http://image.aladin.co.kr/product/12926/54/cover/k702532384_1.jpg\",\"bookDtlUrl\":\"https://data4library.kr/bookV?seq=3690012\"}},{\"doc\":{\"no\":85,\"ranking\":\"85\",\"bookname\":\"노랜드 :천선란 소설집 \",\"authors\":\"지은이: 천선란\",\"publisher\":\"한겨레엔\",\"publication_year\":\"2022\",\"isbn13\":\"9791160404944\",\"addition_symbol\":\"03810\",\"vol\":\"\",\"class_no\":\"813.7\",\"class_nm\":\"문학 > 한국문학 > 소설\",\"loan_count\":\"1695\",\"bookImageURL\":\"https://image.aladin.co.kr/product/29647/97/cover/k862838785_1.jpg\",\"bookDtlUrl\":\"https://data4library.kr/bookV?seq=6482649\"}},{\"doc\":{\"no\":86,\"ranking\":\"86\",\"bookname\":\"유령의 마음으로 :임선우 소설집 \",\"authors\":\"지은이: 임선우\",\"publisher\":\"민음사\",\"publication_year\":\"2022\",\"isbn13\":\"9788937442698\",\"addition_symbol\":\"03810\",\"vol\":\"\",\"class_no\":\"813.7\",\"class_nm\":\"문학 > 한국문학 > 소설\",\"loan_count\":\"1685\",\"bookImageURL\":\"https://image.aladin.co.kr/product/29154/60/cover/8937442698_1.jpg\",\"bookDtlUrl\":\"https://data4library.kr/bookV?seq=6431218\"}},{\"doc\":{\"no\":87,\"ranking\":\"87\",\"bookname\":\"대도시의 사랑법 :박상영 연작소설 \",\"authors\":\"지은이: 박상영\",\"publisher\":\"창비\",\"publication_year\":\"2019\",\"isbn13\":\"9788936437978\",\"addition_symbol\":\"03810\",\"vol\":\"\",\"class_no\":\"813.7\",\"class_nm\":\"문학 > 한국문학 > 소설\",\"loan_count\":\"1684\",\"bookImageURL\":\"https://image.aladin.co.kr/product/19543/91/cover/8936437976_1.jpg\",\"bookDtlUrl\":\"https://data4library.kr/bookV?seq=5435897\"}},{\"doc\":{\"no\":88,\"ranking\":\"88\",\"bookname\":\"애쓰지 않아도 :최은영 짧은 소설 \",\"authors\":\"지은이: 최은영 ;그린이: 김세희\",\"publisher\":\"마음산책\",\"publication_year\":\"2022\",\"isbn13\":\"9788960907348\",\"addition_symbol\":\"03810\",\"vol\":\"\",\"class_no\":\"813.7\",\"class_nm\":\"문학 > 한국문학 > 소설\",\"loan_count\":\"1672\",\"bookImageURL\":\"https://image.aladin.co.kr/product/29377/31/cover/8960907340_1.jpg\",\"bookDtlUrl\":\"https://data4library.kr/bookV?seq=6453102\"}},{\"doc\":{\"no\":89,\"ranking\":\"89\",\"bookname\":\"살인자의 기억법 :김영하 장편소설 \",\"authors\":\"지은이: 김영하\",\"publisher\":\"문학동네\",\"publication_year\":\"2013\",\"isbn13\":\"9788954622035\",\"addition_symbol\":\"03810\",\"vol\":\"\",\"class_no\":\"813.62\",\"class_nm\":\"문학 > 한국문학 > 소설\",\"loan_count\":\"1661\",\"bookImageURL\":\"https://bookthumb-phinf.pstatic.net/cover/072/622/07262295.jpg?type=m1&udate=20180314\",\"bookDtlUrl\":\"https://data4library.kr/bookV?seq=1962014\"}},{\"doc\":{\"no\":90,\"ranking\":\"90\",\"bookname\":\"저주토끼 (리커버)\",\"authors\":\"정보라 (지은이)\",\"publisher\":\"아작\",\"publication_year\":\"2022\",\"isbn13\":\"9791166686665\",\"addition_symbol\":\"\",\"vol\":\"\",\"class_no\":\"\",\"class_nm\":\" >  > \",\"loan_count\":\"1651\",\"bookImageURL\":\"https://image.aladin.co.kr/product/29084/68/cover/k122836656_1.jpg\",\"bookDtlUrl\":\"https://data4library.kr/bookV?seq=6424905\"}},{\"doc\":{\"no\":91,\"ranking\":\"91\",\"bookname\":\"우울할 땐 뇌과학 \",\"authors\":\"앨릭스 코브 지음 ;정지인 옮김\",\"publisher\":\"푸른숲\",\"publication_year\":\"2018\",\"isbn13\":\"9791156757344\",\"addition_symbol\":\"03180\",\"vol\":\"\",\"class_no\":\"513.8525\",\"class_nm\":\"기술과학 > 의학 > 내과학\",\"loan_count\":\"1650\",\"bookImageURL\":\"http://image.aladin.co.kr/product/13494/71/cover/k052532504_2.jpg\",\"bookDtlUrl\":\"https://data4library.kr/bookV?seq=3701387\"}},{\"doc\":{\"no\":92,\"ranking\":\"92\",\"bookname\":\"인스타 브레인 =몰입을 빼앗긴 시대, 똑똑한 뇌 사용법 /Insta brain \",\"authors\":\"안데르스 한센 지음 ;김아영 옮김\",\"publisher\":\"동양북스\",\"publication_year\":\"2020\",\"isbn13\":\"9791157686179\",\"addition_symbol\":\"03180\",\"vol\":\"\",\"class_no\":\"511.1813\",\"class_nm\":\"기술과학 > 의학 > 기초의학\",\"loan_count\":\"1645\",\"bookImageURL\":\"https://image.aladin.co.kr/product/23973/11/cover/k422639014_1.jpg\",\"bookDtlUrl\":\"https://data4library.kr/bookV?seq=5662297\"}},{\"doc\":{\"no\":93,\"ranking\":\"93\",\"bookname\":\"오늘 밤, 세계에서 이 눈물이 사라진다 해도 \",\"authors\":\"이치조 미사키 지음 ;김윤경 옮김\",\"publisher\":\"바이포엠 스튜디오\",\"publication_year\":\"2022\",\"isbn13\":\"9791191043976\",\"addition_symbol\":\"03830\",\"vol\":\"\",\"class_no\":\"833.6\",\"class_nm\":\"문학 > 일본문학 > 소설\",\"loan_count\":\"1585\",\"bookImageURL\":\"https://bookthumb-phinf.pstatic.net/cover/225/848/22584874.jpg?type=m1&udate=20220714\",\"bookDtlUrl\":\"https://data4library.kr/bookV?seq=6520904\"}},{\"doc\":{\"no\":94,\"ranking\":\"94\",\"bookname\":\"철학은 어떻게 삶의 무기가 되는가 :불확실한 삶을 돌파하는 50가지 생각 도구 \",\"authors\":\"야마구치 슈 지음 ;김윤경 옮김\",\"publisher\":\"다산북스\",\"publication_year\":\"2019\",\"isbn13\":\"9791130620459\",\"addition_symbol\":\"03100\",\"vol\":\"\",\"class_no\":\"100\",\"class_nm\":\"철학 > 철학 > 철학\",\"loan_count\":\"1575\",\"bookImageURL\":\"https://image.aladin.co.kr/product/17942/89/cover/k862534136_1.jpg\",\"bookDtlUrl\":\"https://data4library.kr/bookV?seq=5357487\"}},{\"doc\":{\"no\":95,\"ranking\":\"95\",\"bookname\":\"(EBS 다큐프라임) 자본주의 \",\"authors\":\"EBS MEDIA 기획 ;EBS <자본주의> 제작팀 지음\",\"publisher\":\"가나문화콘텐츠\",\"publication_year\":\"2013\",\"isbn13\":\"9788957365793\",\"addition_symbol\":\"03320\",\"vol\":\"\",\"class_no\":\"322.01\",\"class_nm\":\"사회과학 > 경제학 > 경제정책\",\"loan_count\":\"1559\",\"bookImageURL\":\"https://bookthumb-phinf.pstatic.net/cover/073/148/07314866.jpg?type=m1&udate=20170801\",\"bookDtlUrl\":\"https://data4library.kr/bookV?seq=1975179\"}},{\"doc\":{\"no\":96,\"ranking\":\"96\",\"bookname\":\"달까지 가자 :장류진 장편소설 \",\"authors\":\"지은이: 장류진\",\"publisher\":\"창비\",\"publication_year\":\"2021\",\"isbn13\":\"9788936434496\",\"addition_symbol\":\"03810\",\"vol\":\"\",\"class_no\":\"813.7\",\"class_nm\":\"문학 > 한국문학 > 소설\",\"loan_count\":\"1557\",\"bookImageURL\":\"https://image.aladin.co.kr/product/25967/86/cover/k122737220_1.jpg\",\"bookDtlUrl\":\"https://data4library.kr/bookV?seq=5957041\"}},{\"doc\":{\"no\":97,\"ranking\":\"97\",\"bookname\":\"나인 :천선란 장편소설 \",\"authors\":\"지은이: 천선란\",\"publisher\":\"창비\",\"publication_year\":\"2021\",\"isbn13\":\"9788936438609\",\"addition_symbol\":\"03810\",\"vol\":\"\",\"class_no\":\"813.7\",\"class_nm\":\"문학 > 한국문학 > 소설\",\"loan_count\":\"1543\",\"bookImageURL\":\"https://image.aladin.co.kr/product/28218/87/cover/8936438603_1.jpg\",\"bookDtlUrl\":\"https://data4library.kr/bookV?seq=6326210\"}},{\"doc\":{\"no\":98,\"ranking\":\"98\",\"bookname\":\"부의 추월차선 :부자들이 말해 주지 않는 진정한 부를 얻는 방법 \",\"authors\":\"엠제이 드마코 지음 ;신소영 옮김\",\"publisher\":\"북새통\",\"publication_year\":\"2013\",\"isbn13\":\"9788994702346\",\"addition_symbol\":\"13320\",\"vol\":\"\",\"class_no\":\"327.04\",\"class_nm\":\"사회과학 > 경제학 > 금융\",\"loan_count\":\"1540\",\"bookImageURL\":\"https://bookthumb-phinf.pstatic.net/cover/072/907/07290748.jpg?type=m1&udate=20130828\",\"bookDtlUrl\":\"https://data4library.kr/bookV?seq=1967528\"}},{\"doc\":{\"no\":99,\"ranking\":\"99\",\"bookname\":\"이끼숲 :천선란 연작소설 \",\"authors\":\"지은이: 천선란 ;일러스트: 점선면\",\"publisher\":\"자이언트북스\",\"publication_year\":\"2023\",\"isbn13\":\"9791191824216\",\"addition_symbol\":\"03810\",\"vol\":\"\",\"class_no\":\"813.7\",\"class_nm\":\"문학 > 한국문학 > 소설\",\"loan_count\":\"1532\",\"bookImageURL\":\"https://image.aladin.co.kr/product/31568/81/cover/k672832652_1.jpg\",\"bookDtlUrl\":\"https://data4library.kr/bookV?seq=6682814\"}},{\"doc\":{\"no\":100,\"ranking\":\"100\",\"bookname\":\"데미안 \",\"authors\":\"지은이: 헤르만 헤세 ;옮긴이: 전영애\",\"publisher\":\"민음사\",\"publication_year\":\"2000\",\"isbn13\":\"9788937460449\",\"addition_symbol\":\"04850\",\"vol\":\"44\",\"class_no\":\"853\",\"class_nm\":\"문학 > 독일문학 > 소설\",\"loan_count\":\"1531\",\"bookImageURL\":\"https://bookthumb-phinf.pstatic.net/cover/000/051/00005186.jpg?type=m1&udate=20160509\",\"bookDtlUrl\":\"https://data4library.kr/bookV?seq=2374415\"}},{\"doc\":{\"no\":101,\"ranking\":\"101\",\"bookname\":\"더 좋은 삶을 위한 철학 \",\"authors\":\"지은이: 마이클 슈어 ;옮긴이: 염지선\",\"publisher\":\"김영사\",\"publication_year\":\"2023\",\"isbn13\":\"9788934965909\",\"addition_symbol\":\"03190\",\"vol\":\"\",\"class_no\":\"190\",\"class_nm\":\"철학 > 윤리학, 도덕철학 > 윤리학, 도덕철학\",\"loan_count\":\"1508\",\"bookImageURL\":\"https://image.aladin.co.kr/product/31132/45/cover/8934965908_1.jpg\",\"bookDtlUrl\":\"https://data4library.kr/bookV?seq=6643878\"}},{\"doc\":{\"no\":102,\"ranking\":\"102\",\"bookname\":\"메리골드 마음 세탁소 =윤정은 장편소설 /Marigold mind laundry \",\"authors\":\"글: 윤정은\",\"publisher\":\"북로망스\",\"publication_year\":\"2023\",\"isbn13\":\"9791191891287\",\"addition_symbol\":\"03810\",\"vol\":\"\",\"class_no\":\"813.7\",\"class_nm\":\"문학 > 한국문학 > 소설\",\"loan_count\":\"1506\",\"bookImageURL\":\"https://image.aladin.co.kr/product/31222/5/cover/k562831250_2.jpg\",\"bookDtlUrl\":\"https://data4library.kr/bookV?seq=6648006\"}},{\"doc\":{\"no\":103,\"ranking\":\"103\",\"bookname\":\"지적 대화를 위한 넓고 얕은 지식 0 :지혜를 찾아 138억 년을 달리는 시간 여행서 \",\"authors\":\"채사장 지음\",\"publisher\":\"Whale Books(웨일북)\",\"publication_year\":\"2019\",\"isbn13\":\"9791190313131\",\"addition_symbol\":\"03100\",\"vol\":\"\",\"class_no\":\"001.3\",\"class_nm\":\"총류 > 총류 > 지식, 학문 일반\",\"loan_count\":\"1501\",\"bookImageURL\":\"https://image.aladin.co.kr/product/21984/15/cover/k622636607_2.jpg\",\"bookDtlUrl\":\"https://data4library.kr/bookV?seq=5534696\"}},{\"doc\":{\"no\":104,\"ranking\":\"104\",\"bookname\":\"참을 수 없는 존재의 가벼움 \",\"authors\":\"지은이: 밀란 쿤데라 ;옮긴이: 이재룡\",\"publisher\":\"민음사\",\"publication_year\":\"2018\",\"isbn13\":\"9788937437564\",\"addition_symbol\":\"03860\",\"vol\":\"\",\"class_no\":\"892.96\",\"class_nm\":\"문학 > 기타 제문학 > 인도-유럽계문학\",\"loan_count\":\"1490\",\"bookImageURL\":\"http://image.aladin.co.kr/product/15251/16/cover/8937437562_1.jpg\",\"bookDtlUrl\":\"https://data4library.kr/bookV?seq=3788932\"}},{\"doc\":{\"no\":105,\"ranking\":\"105\",\"bookname\":\"비행운 :김애란 소설집 \",\"authors\":\"지은이: 김애란\",\"publisher\":\"문학과지성사\",\"publication_year\":\"2012\",\"isbn13\":\"9788932023151\",\"addition_symbol\":\"03810\",\"vol\":\"\",\"class_no\":\"813.7\",\"class_nm\":\"문학 > 한국문학 > 소설\",\"loan_count\":\"1487\",\"bookImageURL\":\"http://image.aladin.co.kr/product/1801/21/cover/8932023158_1.jpg\",\"bookDtlUrl\":\"https://data4library.kr/bookV?seq=1855307\"}},{\"doc\":{\"no\":106,\"ranking\":\"106\",\"bookname\":\"가재가 노래하는 곳 :델리아 오언스 장편소설 \",\"authors\":\"지은이: 델리아 오언스 ;옮긴이: 김선형\",\"publisher\":\"살림출판사\",\"publication_year\":\"2019\",\"isbn13\":\"9788952240569\",\"addition_symbol\":\"03840\",\"vol\":\"\",\"class_no\":\"843.6\",\"class_nm\":\"문학 > 영미문학 > 소설\",\"loan_count\":\"1480\",\"bookImageURL\":\"https://image.aladin.co.kr/product/19469/77/cover/8952240561_2.jpg\",\"bookDtlUrl\":\"https://data4library.kr/bookV?seq=5429697\"}},{\"doc\":{\"no\":107,\"ranking\":\"107\",\"bookname\":\"코스모스 :특별판 \",\"authors\":\"칼 세이건 지음 ;홍승수 옮김\",\"publisher\":\"사이언스북스\",\"publication_year\":\"2006\",\"isbn13\":\"9788983711892\",\"addition_symbol\":\"03400\",\"vol\":\"\",\"class_no\":\"443.1\",\"class_nm\":\"자연과학 > 천문학 > 기술천문학\",\"loan_count\":\"1478\",\"bookImageURL\":\"http://image.aladin.co.kr/product/87/9/cover/8983711892_2.jpg\",\"bookDtlUrl\":\"https://data4library.kr/bookV?seq=2083728\"}},{\"doc\":{\"no\":108,\"ranking\":\"108\",\"bookname\":\"데일 카네기 인간관계론 \",\"authors\":\"데일 카네기 지음 ;임상훈 옮김\",\"publisher\":\"현대지성\",\"publication_year\":\"2019\",\"isbn13\":\"9791187142560\",\"addition_symbol\":\"03320\",\"vol\":\"\",\"class_no\":\"331.18\",\"class_nm\":\"사회과학 > 사회학, 사회문제 > 사회학\",\"loan_count\":\"1470\",\"bookImageURL\":\"https://image.aladin.co.kr/product/20945/79/cover/k032636279_1.jpg\",\"bookDtlUrl\":\"https://data4library.kr/bookV?seq=5484946\"}},{\"doc\":{\"no\":109,\"ranking\":\"109\",\"bookname\":\"레버리지 :자본주의 속에 숨겨진 부의 비밀 \",\"authors\":\"롭 무어 지음 ;김유미 옮김\",\"publisher\":\"다산북스\",\"publication_year\":\"2017\",\"isbn13\":\"9791130612249\",\"addition_symbol\":\"13320\",\"vol\":\"\",\"class_no\":\"327.04\",\"class_nm\":\"사회과학 > 경제학 > 금융\",\"loan_count\":\"1467\",\"bookImageURL\":\"http://image.aladin.co.kr/product/15652/85/cover/k212533034_1.jpg\",\"bookDtlUrl\":\"https://data4library.kr/bookV?seq=3437844\"}},{\"doc\":{\"no\":110,\"ranking\":\"110\",\"bookname\":\"역사의 쓸모 :자유롭고 떳떳한 삶을 위한 22가지 통찰 \",\"authors\":\"최태성 지음\",\"publisher\":\"다산북스\",\"publication_year\":\"2019\",\"isbn13\":\"9791130621968\",\"addition_symbol\":\"03900\",\"vol\":\"\",\"class_no\":\"904\",\"class_nm\":\"역사 > 역사 > 강연집, 사평\",\"loan_count\":\"1466\",\"bookImageURL\":\"https://image.aladin.co.kr/product/19433/93/cover/k152635416_1.jpg\",\"bookDtlUrl\":\"https://data4library.kr/bookV?seq=5428401\"}},{\"doc\":{\"no\":111,\"ranking\":\"111\",\"bookname\":\"이어령의 마지막 수업 \",\"authors\":\"김지수 지음\",\"publisher\":\"열림원\",\"publication_year\":\"2021\",\"isbn13\":\"9791170400523\",\"addition_symbol\":\"03100\",\"vol\":\"\",\"class_no\":\"199.1\",\"class_nm\":\"철학 > 윤리학, 도덕철학 > 도덕훈, 교훈\",\"loan_count\":\"1465\",\"bookImageURL\":\"https://image.aladin.co.kr/product/28212/10/cover/k762835176_2.jpg\",\"bookDtlUrl\":\"https://data4library.kr/bookV?seq=6326227\"}},{\"doc\":{\"no\":112,\"ranking\":\"112\",\"bookname\":\"자존감 수업 :하루에 하나, 나를 사랑하게 되는 자존감 회복 훈련 \",\"authors\":\"윤홍균 지음\",\"publisher\":\"심플라이프\",\"publication_year\":\"2016\",\"isbn13\":\"9791186757093\",\"addition_symbol\":\"03190\",\"vol\":\"\",\"class_no\":\"182.1\",\"class_nm\":\"철학 > 심리학 > 차이심리학\",\"loan_count\":\"1448\",\"bookImageURL\":\"http://image.aladin.co.kr/product/8679/31/cover/k372535696_1.jpg\",\"bookDtlUrl\":\"https://data4library.kr/bookV?seq=3320490\"}},{\"doc\":{\"no\":113,\"ranking\":\"113\",\"bookname\":\"세이노의 가르침 :피보다 진하게 살아라 \",\"authors\":\"세이노 지음\",\"publisher\":\"데이원\",\"publication_year\":\"2023\",\"isbn13\":\"9791168473690\",\"addition_symbol\":\"03190\",\"vol\":\"\",\"class_no\":\"325.211\",\"class_nm\":\"사회과학 > 경제학 > 경영관리\",\"loan_count\":\"1444\",\"bookImageURL\":\"https://image.aladin.co.kr/product/30929/51/cover/k732831392_1.jpg\",\"bookDtlUrl\":\"https://data4library.kr/bookV?seq=6628064\"}},{\"doc\":{\"no\":114,\"ranking\":\"114\",\"bookname\":\"정의란 무엇인가 \",\"authors\":\"지은이: 마이클 샌델 ;옮긴이: 김명철\",\"publisher\":\"미래엔\",\"publication_year\":\"2014\",\"isbn13\":\"9788937834790\",\"addition_symbol\":\"03300\",\"vol\":\"\",\"class_no\":\"193\",\"class_nm\":\"철학 > 윤리학, 도덕철학 > 국가 및 정치윤리\",\"loan_count\":\"1434\",\"bookImageURL\":\"http://image.aladin.co.kr/product/10826/23/cover/k742530554_1.jpg\",\"bookDtlUrl\":\"https://data4library.kr/bookV?seq=2763903\"}},{\"doc\":{\"no\":115,\"ranking\":\"115\",\"bookname\":\"파과 :구병모 장편소설 \",\"authors\":\"지은이: 구병모\",\"publisher\":\"자음과모음\",\"publication_year\":\"2013\",\"isbn13\":\"9788957077740\",\"addition_symbol\":\"03810\",\"vol\":\"\",\"class_no\":\"813.7\",\"class_nm\":\"문학 > 한국문학 > 소설\",\"loan_count\":\"1431\",\"bookImageURL\":\"https://bookthumb-phinf.pstatic.net/cover/072/689/07268920.jpg?type=m1&udate=20150801\",\"bookDtlUrl\":\"https://data4library.kr/bookV?seq=1962669\"}},{\"doc\":{\"no\":116,\"ranking\":\"116\",\"bookname\":\"기분이 태도가 되지 않게 :기분 따라 행동하다 손해 보는 당신을 위한 심리 수업 \",\"authors\":\"레몬심리 지음 ;박영란 옮김\",\"publisher\":\"웅진씽크빅\",\"publication_year\":\"2020\",\"isbn13\":\"9788901243658\",\"addition_symbol\":\"03180\",\"vol\":\"\",\"class_no\":\"181.71\",\"class_nm\":\"철학 > 심리학 > 각론\",\"loan_count\":\"1429\",\"bookImageURL\":\"https://image.aladin.co.kr/product/24368/89/cover/8901243652_1.jpg\",\"bookDtlUrl\":\"https://data4library.kr/bookV?seq=5698929\"}},{\"doc\":{\"no\":117,\"ranking\":\"116\",\"bookname\":\"봉제인형 살인사건 :다니엘 콜 장편소설 \",\"authors\":\"저자: 다니엘 콜 ;옮긴이: 유혜인\",\"publisher\":\"Book plaza(북플라자)\",\"publication_year\":\"2017\",\"isbn13\":\"9788998274931\",\"addition_symbol\":\"03840\",\"vol\":\"\",\"class_no\":\"843.6\",\"class_nm\":\"문학 > 영미문학 > 소설\",\"loan_count\":\"1429\",\"bookImageURL\":\"https://image.aladin.co.kr/product/11997/87/cover/8998274930_1.jpg\",\"bookDtlUrl\":\"https://data4library.kr/bookV?seq=3649594\"}},{\"doc\":{\"no\":118,\"ranking\":\"118\",\"bookname\":\"친밀한 이방인 :정한아 장편소설 \",\"authors\":\"지은이: 정한아\",\"publisher\":\"문학동네\",\"publication_year\":\"2017\",\"isbn13\":\"9788954648523\",\"addition_symbol\":\"03810\",\"vol\":\"\",\"class_no\":\"813.7\",\"class_nm\":\"문학 > 한국문학 > 소설\",\"loan_count\":\"1417\",\"bookImageURL\":\"https://image.aladin.co.kr/product/11945/32/cover/8954648525_1.jpg\",\"bookDtlUrl\":\"https://data4library.kr/bookV?seq=3630749\"}},{\"doc\":{\"no\":119,\"ranking\":\"119\",\"bookname\":\"이기적 유전자 \",\"authors\":\"리처드 도킨스 지음 ;이상임 옮김\",\"publisher\":\"을유문화사\",\"publication_year\":\"2018\",\"isbn13\":\"9788932473901\",\"addition_symbol\":\"03470\",\"vol\":\"\",\"class_no\":\"491.51\",\"class_nm\":\"자연과학 > 동물학 > 일반 동물학\",\"loan_count\":\"1416\",\"bookImageURL\":\"https://image.aladin.co.kr/product/17048/25/cover/8932473900_1.jpg\",\"bookDtlUrl\":\"https://data4library.kr/bookV?seq=3921678\"}},{\"doc\":{\"no\":120,\"ranking\":\"120\",\"bookname\":\"라플라스의 마녀 :히가시노 게이고 장편소설 \",\"authors\":\"지은이: 히가시노 게이고 ;옮긴이: 양윤옥\",\"publisher\":\"현대문학\",\"publication_year\":\"2016\",\"isbn13\":\"9788972757573\",\"addition_symbol\":\"03830\",\"vol\":\"\",\"class_no\":\"833.6\",\"class_nm\":\"문학 > 일본문학 > 소설\",\"loan_count\":\"1403\",\"bookImageURL\":\"http://image.aladin.co.kr/product/7288/55/cover/8972757578_1.jpg\",\"bookDtlUrl\":\"https://data4library.kr/bookV?seq=3107992\"}},{\"doc\":{\"no\":121,\"ranking\":\"121\",\"bookname\":\"날씨가 좋으면 찾아가겠어요 :이도우 장편소설 \",\"authors\":\"지은이: 이도우\",\"publisher\":\"시공사\",\"publication_year\":\"2018\",\"isbn13\":\"9788952791160\",\"addition_symbol\":\"04810\",\"vol\":\"\",\"class_no\":\"813.7\",\"class_nm\":\"문학 > 한국문학 > 소설\",\"loan_count\":\"1400\",\"bookImageURL\":\"https://image.aladin.co.kr/product/15411/84/cover/8952791169_1.jpg\",\"bookDtlUrl\":\"https://data4library.kr/bookV?seq=3793737\"}},{\"doc\":{\"no\":122,\"ranking\":\"122\",\"bookname\":\"총, 균, 쇠 :무기, 병균, 금속 은 인류 의 운명 을 어떻게 바꿨는가 \",\"authors\":\"재레드 다이아몬드 지음 ;김진준 옮김\",\"publisher\":\"문학사상\",\"publication_year\":\"2012\",\"isbn13\":\"9788970127248\",\"addition_symbol\":\"03900\",\"vol\":\"\",\"class_no\":\"389\",\"class_nm\":\"사회과학 > 풍속, 민속학 > 민족학\",\"loan_count\":\"1397\",\"bookImageURL\":\"http://image.aladin.co.kr/product/61/50/cover/8970127240_2.jpg\",\"bookDtlUrl\":\"https://data4library.kr/bookV?seq=954778\"}},{\"doc\":{\"no\":123,\"ranking\":\"123\",\"bookname\":\"어른의 어휘력 :말에 품격을 더하고 세상을 올바르게 이해하는 힘 \",\"authors\":\"유선경 지음\",\"publisher\":\"앤의서재\",\"publication_year\":\"2020\",\"isbn13\":\"9791190710053\",\"addition_symbol\":\"03800\",\"vol\":\"\",\"class_no\":\"802.5\",\"class_nm\":\"문학 > 문학 > 문장작법, 수사학\",\"loan_count\":\"1394\",\"bookImageURL\":\"https://image.aladin.co.kr/product/24779/29/cover/k102631725_1.jpg\",\"bookDtlUrl\":\"https://data4library.kr/bookV?seq=5731697\"}},{\"doc\":{\"no\":124,\"ranking\":\"124\",\"bookname\":\"파친코 :이민진 장편소설 \",\"authors\":\"지은이: 이민진 ;옮긴이: 신승미\",\"publisher\":\"인플루엔셜\",\"publication_year\":\"2022\",\"isbn13\":\"9791168340510\",\"addition_symbol\":\"04840\",\"vol\":\"1\",\"class_no\":\"843.6\",\"class_nm\":\"문학 > 영미문학 > 소설\",\"loan_count\":\"1389\",\"bookImageURL\":\"https://image.aladin.co.kr/product/29496/39/cover/k202838509_2.jpg\",\"bookDtlUrl\":\"https://data4library.kr/bookV?seq=6512857\"}},{\"doc\":{\"no\":125,\"ranking\":\"125\",\"bookname\":\"파쇄 :일단 마음먹고 칼을 집었으면, 뜸 들이지 마 \",\"authors\":\"지은이: 구병모\",\"publisher\":\"위즈덤하우스\",\"publication_year\":\"2023\",\"isbn13\":\"9791168127012\",\"addition_symbol\":\"04810\",\"vol\":\"\",\"class_no\":\"813.7\",\"class_nm\":\"문학 > 한국문학 > 소설\",\"loan_count\":\"1386\",\"bookImageURL\":\"https://image.aladin.co.kr/product/31273/29/cover/k592832565_1.jpg\",\"bookDtlUrl\":\"https://data4library.kr/bookV?seq=6652567\"}},{\"doc\":{\"no\":126,\"ranking\":\"126\",\"bookname\":\"신경 끄기의 기술 :인생에서 가장 중요한것만 남기는 힘 \",\"authors\":\"마크 맨슨 지음 ;한재호 옮김\",\"publisher\":\"웅진씽크빅\",\"publication_year\":\"2017\",\"isbn13\":\"9788901219943\",\"addition_symbol\":\"03190\",\"vol\":\"\",\"class_no\":\"199.1\",\"class_nm\":\"철학 > 윤리학, 도덕철학 > 도덕훈, 교훈\",\"loan_count\":\"1384\",\"bookImageURL\":\"https://image.aladin.co.kr/product/12005/79/cover/8901219948_1.jpg\",\"bookDtlUrl\":\"https://data4library.kr/bookV?seq=3649711\"}},{\"doc\":{\"no\":127,\"ranking\":\"127\",\"bookname\":\"H마트에서 울다 \",\"authors\":\"미셸 자우너 지음 ;정혜윤 옮김\",\"publisher\":\"문학동네\",\"publication_year\":\"2022\",\"isbn13\":\"9788954683371\",\"addition_symbol\":\"03840\",\"vol\":\"\",\"class_no\":\"848\",\"class_nm\":\"문학 > 영미문학 > 르포르타주 및 기타\",\"loan_count\":\"1376\",\"bookImageURL\":\"https://image.aladin.co.kr/product/28962/10/cover/8954683371_1.jpg\",\"bookDtlUrl\":\"https://data4library.kr/bookV?seq=6412735\"}},{\"doc\":{\"no\":128,\"ranking\":\"128\",\"bookname\":\"아비투스 :인간의 품격을 결정하는 7가지 자본 \",\"authors\":\"도리스 메르틴 지음 ;배명자 옮김\",\"publisher\":\"다산북스\",\"publication_year\":\"2020\",\"isbn13\":\"9791130630762\",\"addition_symbol\":\"03300\",\"vol\":\"\",\"class_no\":\"325.211\",\"class_nm\":\"사회과학 > 경제학 > 경영관리\",\"loan_count\":\"1373\",\"bookImageURL\":\"https://bookthumb-phinf.pstatic.net/cover/164/403/16440333.jpg?type=m1&udate=20200801\",\"bookDtlUrl\":\"https://data4library.kr/bookV?seq=5733967\"}},{\"doc\":{\"no\":129,\"ranking\":\"129\",\"bookname\":\"브로콜리 펀치 :이유리 소설집 \",\"authors\":\"지은이: 이유리\",\"publisher\":\"문학과지성사\",\"publication_year\":\"2021\",\"isbn13\":\"9788932039114\",\"addition_symbol\":\"03810\",\"vol\":\"\",\"class_no\":\"813.7\",\"class_nm\":\"문학 > 한국문학 > 소설\",\"loan_count\":\"1364\",\"bookImageURL\":\"https://image.aladin.co.kr/product/28210/51/cover/8932039119_1.jpg\",\"bookDtlUrl\":\"https://data4library.kr/bookV?seq=6326236\"}},{\"doc\":{\"no\":130,\"ranking\":\"129\",\"bookname\":\"(2020) 시는 노래가 되어 \",\"authors\":\"지은이: 한국가곡작사가협회\",\"publisher\":\"조은\",\"publication_year\":\"2020\",\"isbn13\":\"9791196617127\",\"addition_symbol\":\"13810\",\"vol\":\"\",\"class_no\":\"811.7\",\"class_nm\":\"문학 > 한국문학 > 시\",\"loan_count\":\"1364\",\"bookImageURL\":\"https://image.aladin.co.kr/product/29206/93/cover/k922837381_1.jpg\",\"bookDtlUrl\":\"https://data4library.kr/bookV?seq=6438962\"}},{\"doc\":{\"no\":131,\"ranking\":\"131\",\"bookname\":\"우리는 여전히 삶을 사랑하는가 \",\"authors\":\"지은이: 에리히 프롬 ;옮긴이: 장혜경\",\"publisher\":\"김영사\",\"publication_year\":\"2022\",\"isbn13\":\"9788934949671\",\"addition_symbol\":\"03180\",\"vol\":\"\",\"class_no\":\"181.71\",\"class_nm\":\"철학 > 심리학 > 각론\",\"loan_count\":\"1360\",\"bookImageURL\":\"https://image.aladin.co.kr/product/28784/70/cover/8934949678_1.jpg\",\"bookDtlUrl\":\"https://data4library.kr/bookV?seq=6398890\"}},{\"doc\":{\"no\":132,\"ranking\":\"132\",\"bookname\":\"인생의 역사 :신형철 시화 \",\"authors\":\"지은이: 신형철\",\"publisher\":\"난다\",\"publication_year\":\"2022\",\"isbn13\":\"9791191859379\",\"addition_symbol\":\"03810\",\"vol\":\"\",\"class_no\":\"809.1\",\"class_nm\":\"문학 > 문학 > 문학사, 평론\",\"loan_count\":\"1347\",\"bookImageURL\":\"https://image.aladin.co.kr/product/30328/61/cover/k362839230_1.jpg\",\"bookDtlUrl\":\"https://data4library.kr/bookV?seq=6575295\"}},{\"doc\":{\"no\":133,\"ranking\":\"133\",\"bookname\":\"언어의 온도 :말과 글에는 나름의 따뜻함과 차가움이 있다 \",\"authors\":\"지은이: 이기주\",\"publisher\":\"말글터\",\"publication_year\":\"2016\",\"isbn13\":\"9791195522125\",\"addition_symbol\":\"03810\",\"vol\":\"\",\"class_no\":\"818\",\"class_nm\":\"문학 > 한국문학 > 르포르타주 및 기타\",\"loan_count\":\"1338\",\"bookImageURL\":\"http://image.aladin.co.kr/product/14842/6/cover/k742532452_1.jpg\",\"bookDtlUrl\":\"https://data4library.kr/bookV?seq=3278940\"}},{\"doc\":{\"no\":134,\"ranking\":\"134\",\"bookname\":\"트렌드 코리아 2023 :더 높은 도약을 준비하는 검은 토끼의 해 \",\"authors\":\"지은이: 김난도,추예린\",\"publisher\":\"미래의창\",\"publication_year\":\"2022\",\"isbn13\":\"9788959897094\",\"addition_symbol\":\"13320\",\"vol\":\"2023\",\"class_no\":\"320.911\",\"class_nm\":\"사회과학 > 경제학 > 경제학\",\"loan_count\":\"1328\",\"bookImageURL\":\"https://image.aladin.co.kr/product/30169/22/cover/8959897094_2.jpg\",\"bookDtlUrl\":\"https://data4library.kr/bookV?seq=6562784\"}},{\"doc\":{\"no\":135,\"ranking\":\"135\",\"bookname\":\"상실의 시대 :무라카미 하루키 장편소설 \",\"authors\":\"지은이: 무라카미 하루키 ;옮긴이: 유유정\",\"publisher\":\"문학사상\",\"publication_year\":\"2011\",\"isbn13\":\"9788970123691\",\"addition_symbol\":\"03830\",\"vol\":\"\",\"class_no\":\"833.6\",\"class_nm\":\"문학 > 일본문학 > 소설\",\"loan_count\":\"1320\",\"bookImageURL\":\"https://bookthumb-phinf.pstatic.net/cover/000/203/00020349.jpg?type=m1&udate=20120904\",\"bookDtlUrl\":\"https://data4library.kr/bookV?seq=863463\"}},{\"doc\":{\"no\":136,\"ranking\":\"136\",\"bookname\":\"므레모사 :김초엽 소설 \",\"authors\":\"지은이: 김초엽\",\"publisher\":\"H(현대문학)\",\"publication_year\":\"2021\",\"isbn13\":\"9791167900821\",\"addition_symbol\":\"04810\",\"vol\":\"\",\"class_no\":\"813.7\",\"class_nm\":\"문학 > 한국문학 > 소설\",\"loan_count\":\"1313\",\"bookImageURL\":\"https://image.aladin.co.kr/product/28554/97/cover/k162835148_1.jpg\",\"bookDtlUrl\":\"https://data4library.kr/bookV?seq=6368074\"}},{\"doc\":{\"no\":137,\"ranking\":\"137\",\"bookname\":\"노르웨이의 숲 =Norwegian wood \",\"authors\":\"지은이: 무라카미 하루키 ;옮긴이: 양억관\",\"publisher\":\"민음사\",\"publication_year\":\"2017\",\"isbn13\":\"9788937434488\",\"addition_symbol\":\"03830\",\"vol\":\"\",\"class_no\":\"833.6\",\"class_nm\":\"문학 > 일본문학 > 소설\",\"loan_count\":\"1308\",\"bookImageURL\":\"https://bookthumb-phinf.pstatic.net/cover/124/287/12428742.jpg?type=m1&udate=20170930\",\"bookDtlUrl\":\"https://data4library.kr/bookV?seq=3535735\"}},{\"doc\":{\"no\":138,\"ranking\":\"138\",\"bookname\":\"아라의 소설 :정세랑 미니픽션 \",\"authors\":\"지은이: 정세랑\",\"publisher\":\"안온(안온북스)\",\"publication_year\":\"2022\",\"isbn13\":\"9791197873065\",\"addition_symbol\":\"03810\",\"vol\":\"\",\"class_no\":\"813.7\",\"class_nm\":\"문학 > 한국문학 > 소설\",\"loan_count\":\"1307\",\"bookImageURL\":\"https://image.aladin.co.kr/product/29980/87/cover/k172838246_1.jpg\",\"bookDtlUrl\":\"https://data4library.kr/bookV?seq=6543167\"}},{\"doc\":{\"no\":139,\"ranking\":\"139\",\"bookname\":\"지구인만큼 지구를 사랑할 순 없어 :정세랑 에세이 \",\"authors\":\"지은이: 정세랑\",\"publisher\":\"위즈덤하우스\",\"publication_year\":\"2021\",\"isbn13\":\"9791191583793\",\"addition_symbol\":\"03810\",\"vol\":\"\",\"class_no\":\"816.7\",\"class_nm\":\"문학 > 한국문학 > 일기, 서간, 기행\",\"loan_count\":\"1301\",\"bookImageURL\":\"https://image.aladin.co.kr/product/27318/46/cover/k272732228_2.jpg\",\"bookDtlUrl\":\"https://data4library.kr/bookV?seq=6001331\"}},{\"doc\":{\"no\":140,\"ranking\":\"140\",\"bookname\":\"1차원이 되고 싶어 :박상영 장편소설 \",\"authors\":\"지은이: 박상영\",\"publisher\":\"문학동네\",\"publication_year\":\"2021\",\"isbn13\":\"9788954682749\",\"addition_symbol\":\"03810\",\"vol\":\"\",\"class_no\":\"813.7\",\"class_nm\":\"문학 > 한국문학 > 소설\",\"loan_count\":\"1285\",\"bookImageURL\":\"https://image.aladin.co.kr/product/28031/82/cover/895468274x_1.jpg\",\"bookDtlUrl\":\"https://data4library.kr/bookV?seq=6309156\"}},{\"doc\":{\"no\":141,\"ranking\":\"141\",\"bookname\":\"프레임 :나를 바꾸는 심리학의 지혜 \",\"authors\":\"최인철 지음\",\"publisher\":\"21세기북스(북이십일 21세기북스)\",\"publication_year\":\"2016\",\"isbn13\":\"9788950966447\",\"addition_symbol\":\"03320\",\"vol\":\"\",\"class_no\":\"189\",\"class_nm\":\"철학 > 심리학 > 응용심리학 일반\",\"loan_count\":\"1278\",\"bookImageURL\":\"https://bookthumb-phinf.pstatic.net/cover/110/066/11006642.jpg?type=m1&udate=20180728\",\"bookDtlUrl\":\"https://data4library.kr/bookV?seq=3347321\"}},{\"doc\":{\"no\":142,\"ranking\":\"141\",\"bookname\":\"책들의 부엌 :김지혜 장편소설 \",\"authors\":\"지은이: 김지혜\",\"publisher\":\"팩토리나인\",\"publication_year\":\"2022\",\"isbn13\":\"9791165345204\",\"addition_symbol\":\"03810\",\"vol\":\"\",\"class_no\":\"813.7\",\"class_nm\":\"문학 > 한국문학 > 소설\",\"loan_count\":\"1278\",\"bookImageURL\":\"https://image.aladin.co.kr/product/29403/8/cover/k162837610_1.jpg\",\"bookDtlUrl\":\"https://data4library.kr/bookV?seq=6455241\"}},{\"doc\":{\"no\":143,\"ranking\":\"143\",\"bookname\":\"사랑의 기술 \",\"authors\":\"에리히 프롬 지음 ;황문수 옮김\",\"publisher\":\"문예출판사\",\"publication_year\":\"2019\",\"isbn13\":\"9788931011623\",\"addition_symbol\":\"03180\",\"vol\":\"\",\"class_no\":\"181.71\",\"class_nm\":\"철학 > 심리학 > 각론\",\"loan_count\":\"1267\",\"bookImageURL\":\"https://image.aladin.co.kr/product/20329/93/cover/8931011628_1.jpg\",\"bookDtlUrl\":\"https://data4library.kr/bookV?seq=5463382\"}},{\"doc\":{\"no\":144,\"ranking\":\"144\",\"bookname\":\"내가 되는 꿈 :최진영 장편소설 \",\"authors\":\"지은이: 최진영\",\"publisher\":\"H(현대문학)\",\"publication_year\":\"2021\",\"isbn13\":\"9791190885621\",\"addition_symbol\":\"04810\",\"vol\":\"\",\"class_no\":\"813.7\",\"class_nm\":\"문학 > 한국문학 > 소설\",\"loan_count\":\"1265\",\"bookImageURL\":\"https://image.aladin.co.kr/product/26021/21/cover/k892738836_1.jpg\",\"bookDtlUrl\":\"https://data4library.kr/bookV?seq=5928142\"}},{\"doc\":{\"no\":145,\"ranking\":\"144\",\"bookname\":\"죽고 싶지만 떡볶이는 먹고 싶어 :백세희 에세이 \",\"authors\":\"지은이: 백세희\",\"publisher\":\"흔\",\"publication_year\":\"2018\",\"isbn13\":\"9791196394509\",\"addition_symbol\":\"03810\",\"vol\":\"\",\"class_no\":\"818\",\"class_nm\":\"문학 > 한국문학 > 르포르타주 및 기타\",\"loan_count\":\"1265\",\"bookImageURL\":\"https://image.aladin.co.kr/product/15136/29/cover/k962533360_1.jpg\",\"bookDtlUrl\":\"https://data4library.kr/bookV?seq=3768386\"}},{\"doc\":{\"no\":146,\"ranking\":\"146\",\"bookname\":\"그릿 :IQ, 재능, 환경을 뛰어넘는 열정적 끈기의 힘 \",\"authors\":\"앤절라 더크워스 지음 ;김미정 옮김\",\"publisher\":\"비즈니스북스\",\"publication_year\":\"2016\",\"isbn13\":\"9791186805398\",\"addition_symbol\":\"03190\",\"vol\":\"\",\"class_no\":\"325.211\",\"class_nm\":\"사회과학 > 경제학 > 경영관리\",\"loan_count\":\"1263\",\"bookImageURL\":\"https://bookthumb-phinf.pstatic.net/cover/111/660/11166008.jpg?type=m1&udate=20171115\",\"bookDtlUrl\":\"https://data4library.kr/bookV?seq=3355591\"}},{\"doc\":{\"no\":147,\"ranking\":\"147\",\"bookname\":\"1Q84 :무라카미 하루키 장편소설\",\"authors\":\"지은이: 무라카미 하루키 ;옮긴이: 양윤옥\",\"publisher\":\"문학동네\",\"publication_year\":\"2009\",\"isbn13\":\"9788954608640\",\"addition_symbol\":\"04830\",\"vol\":\"1\",\"class_no\":\"833.6\",\"class_nm\":\"문학 > 일본문학 > 소설\",\"loan_count\":\"1260\",\"bookImageURL\":\"https://bookthumb-phinf.pstatic.net/cover/060/537/06053729.jpg?type=m1&udate=20130406\",\"bookDtlUrl\":\"https://data4library.kr/bookV?seq=2370295\"}},{\"doc\":{\"no\":148,\"ranking\":\"148\",\"bookname\":\"젊은 ADHD의 슬픔 :정지음 에세이 \",\"authors\":\"지은이: 정지음\",\"publisher\":\"민음사\",\"publication_year\":\"2021\",\"isbn13\":\"9788937472114\",\"addition_symbol\":\"03810\",\"vol\":\"\",\"class_no\":\"513.854904\",\"class_nm\":\"기술과학 > 의학 > 내과학\",\"loan_count\":\"1257\",\"bookImageURL\":\"https://image.aladin.co.kr/product/27432/73/cover/8937472112_1.jpg\",\"bookDtlUrl\":\"https://data4library.kr/bookV?seq=6039548\"}},{\"doc\":{\"no\":149,\"ranking\":\"149\",\"bookname\":\"마법소녀 은퇴합니다 :박서련 소설 \",\"authors\":\"지은이: 박서련\",\"publisher\":\"창비\",\"publication_year\":\"2022\",\"isbn13\":\"9788936438739\",\"addition_symbol\":\"03810\",\"vol\":\"\",\"class_no\":\"813.7\",\"class_nm\":\"문학 > 한국문학 > 소설\",\"loan_count\":\"1256\",\"bookImageURL\":\"https://image.aladin.co.kr/product/29250/64/cover/8936438735_1.jpg\",\"bookDtlUrl\":\"https://data4library.kr/bookV?seq=6442398\"}},{\"doc\":{\"no\":150,\"ranking\":\"149\",\"bookname\":\"불안 \",\"authors\":\"지은이: 알랭 드 보통 ;정영목 옮김\",\"publisher\":\"은행나무\",\"publication_year\":\"2012\",\"isbn13\":\"9788956605593\",\"addition_symbol\":\"03840\",\"vol\":\"\",\"class_no\":\"332.6\",\"class_nm\":\"사회과학 > 사회학, 사회문제 > 사회조직 및 제도\",\"loan_count\":\"1256\",\"bookImageURL\":\"https://bookthumb-phinf.pstatic.net/cover/067/930/06793081.jpg?type=m1&udate=20171011\",\"bookDtlUrl\":\"https://data4library.kr/bookV?seq=1226611\"}},{\"doc\":{\"no\":151,\"ranking\":\"151\",\"bookname\":\"다섯 번째 감각 :김보영 소설집 \",\"authors\":\"지은이: 김보영\",\"publisher\":\"아작\",\"publication_year\":\"2022\",\"isbn13\":\"9791166686603\",\"addition_symbol\":\"03810\",\"vol\":\"\",\"class_no\":\"813.7\",\"class_nm\":\"문학 > 한국문학 > 소설\",\"loan_count\":\"1255\",\"bookImageURL\":\"https://image.aladin.co.kr/product/28736/71/cover/k442836780_1.jpg\",\"bookDtlUrl\":\"https://data4library.kr/bookV?seq=6393113\"}},{\"doc\":{\"no\":152,\"ranking\":\"152\",\"bookname\":\"옥상에서 만나요 :정세랑 소설집 \",\"authors\":\"지은이: 정세랑\",\"publisher\":\"창비\",\"publication_year\":\"2018\",\"isbn13\":\"9788936437534\",\"addition_symbol\":\"03810\",\"vol\":\"\",\"class_no\":\"813.7\",\"class_nm\":\"문학 > 한국문학 > 소설\",\"loan_count\":\"1249\",\"bookImageURL\":\"https://image.aladin.co.kr/product/16234/13/cover/8936437534_1.jpg\",\"bookDtlUrl\":\"https://data4library.kr/bookV?seq=5232202\"}},{\"doc\":{\"no\":153,\"ranking\":\"153\",\"bookname\":\"여기는 커스터드, 특별한 도시락을 팝니다 \",\"authors\":\"가토 겐 지음 ;양지윤 옮김\",\"publisher\":\"필름(필름 출판사)\",\"publication_year\":\"2022\",\"isbn13\":\"9791192403076\",\"addition_symbol\":\"03830\",\"vol\":\"\",\"class_no\":\"833.6\",\"class_nm\":\"문학 > 일본문학 > 소설\",\"loan_count\":\"1246\",\"bookImageURL\":\"https://image.aladin.co.kr/product/29782/66/cover/k452838501_1.jpg\",\"bookDtlUrl\":\"https://data4library.kr/bookV?seq=6513281\"}},{\"doc\":{\"no\":154,\"ranking\":\"154\",\"bookname\":\"더 셜리 클럽 :박서련 장편소설 \",\"authors\":\"지은이: 박서련\",\"publisher\":\"민음사\",\"publication_year\":\"2020\",\"isbn13\":\"9788937473296\",\"addition_symbol\":\"04810\",\"vol\":\"\",\"class_no\":\"813.7\",\"class_nm\":\"문학 > 한국문학 > 소설\",\"loan_count\":\"1244\",\"bookImageURL\":\"https://image.aladin.co.kr/product/24944/10/cover/8937473291_1.jpg\",\"bookDtlUrl\":\"https://data4library.kr/bookV?seq=5744567\"}},{\"doc\":{\"no\":155,\"ranking\":\"155\",\"bookname\":\"12가지 인생의 법칙 :혼돈의 해독제 \",\"authors\":\"조던 B. 피터슨 지음 ;강주헌 옮김\",\"publisher\":\"메이븐\",\"publication_year\":\"2018\",\"isbn13\":\"9791196067694\",\"addition_symbol\":\"03180\",\"vol\":\"\",\"class_no\":\"199.1\",\"class_nm\":\"철학 > 윤리학, 도덕철학 > 도덕훈, 교훈\",\"loan_count\":\"1242\",\"bookImageURL\":\"https://image.aladin.co.kr/product/17215/26/cover/k442534993_1.jpg\",\"bookDtlUrl\":\"https://data4library.kr/bookV?seq=5230775\"}},{\"doc\":{\"no\":156,\"ranking\":\"156\",\"bookname\":\"아주 오랜만에 행복하다는 느낌 :백수린 에세이 \",\"authors\":\"지은이: 백수린\",\"publisher\":\"창비\",\"publication_year\":\"2022\",\"isbn13\":\"9788936438869\",\"addition_symbol\":\"03810\",\"vol\":\"\",\"class_no\":\"814.7\",\"class_nm\":\"문학 > 한국문학 > 수필\",\"loan_count\":\"1235\",\"bookImageURL\":\"https://image.aladin.co.kr/product/30276/23/cover/8936438867_1.jpg\",\"bookDtlUrl\":\"https://data4library.kr/bookV?seq=6571872\"}},{\"doc\":{\"no\":157,\"ranking\":\"172\",\"bookname\":\"지적 대화를 위한 넓고 얕은 지식\",\"authors\":\"채사장 지음\",\"publisher\":\"한빛비즈\",\"publication_year\":\"2014\",\"isbn13\":\"9788994120966\",\"addition_symbol\":\"13100\",\"vol\":\"\",\"class_no\":\"001.3\",\"class_nm\":\"총류 > 총류 > 지식, 학문 일반\",\"loan_count\":\"1169\",\"bookImageURL\":\"https://bookthumb-phinf.pstatic.net/cover/084/030/08403038.jpg?type=m1&udate=20171223\",\"bookDtlUrl\":\"https://data4library.kr/bookV?seq=2396928\"}},{\"doc\":{\"no\":158,\"ranking\":\"158\",\"bookname\":\"(서울 자가에 대기업 다니는) 김 부장 이야기 \",\"authors\":\"송희구 지음\",\"publisher\":\"서삼독\",\"publication_year\":\"2021\",\"isbn13\":\"9791165343996\",\"addition_symbol\":\"03320\",\"vol\":\"1\",\"class_no\":\"325.04\",\"class_nm\":\"사회과학 > 경제학 > 경영관리\",\"loan_count\":\"1220\",\"bookImageURL\":\"https://image.aladin.co.kr/product/27794/22/cover/k862734063_1.jpg\",\"bookDtlUrl\":\"https://data4library.kr/bookV?seq=6078845\"}},{\"doc\":{\"no\":159,\"ranking\":\"159\",\"bookname\":\"떨림과 울림 :물리학자 김상욱이 바라본 우주와 세계 그리고 우리 \",\"authors\":\"김상욱 지음\",\"publisher\":\"동아시아\",\"publication_year\":\"2018\",\"isbn13\":\"9788962622508\",\"addition_symbol\":\"03400\",\"vol\":\"\",\"class_no\":\"420.04\",\"class_nm\":\"자연과학 > 물리학 > 물리학\",\"loan_count\":\"1207\",\"bookImageURL\":\"https://image.aladin.co.kr/product/17299/89/cover/8962622505_1.jpg\",\"bookDtlUrl\":\"https://data4library.kr/bookV?seq=5231590\"}},{\"doc\":{\"no\":160,\"ranking\":\"159\",\"bookname\":\"테라피스트 :B.A. 패리스 장편소설 \",\"authors\":\"지은이: B.A. 패리스 ;옮긴이: 박설영\",\"publisher\":\"바이포엠\",\"publication_year\":\"2021\",\"isbn13\":\"9791191043518\",\"addition_symbol\":\"03840\",\"vol\":\"\",\"class_no\":\"843.6\",\"class_nm\":\"문학 > 영미문학 > 소설\",\"loan_count\":\"1207\",\"bookImageURL\":\"https://image.aladin.co.kr/product/28446/67/cover/k512835515_1.jpg\",\"bookDtlUrl\":\"https://data4library.kr/bookV?seq=6357174\"}},{\"doc\":{\"no\":161,\"ranking\":\"161\",\"bookname\":\"데일 카네기 자기관리론 \",\"authors\":\"데일 카네기 지음 ;임상훈 옮김\",\"publisher\":\"현대지성\",\"publication_year\":\"2021\",\"isbn13\":\"9791191280333\",\"addition_symbol\":\"03320\",\"vol\":\"\",\"class_no\":\"189\",\"class_nm\":\"철학 > 심리학 > 응용심리학 일반\",\"loan_count\":\"1204\",\"bookImageURL\":\"https://image.aladin.co.kr/product/26057/28/cover/k432737052_1.jpg\",\"bookDtlUrl\":\"https://data4library.kr/bookV?seq=5849800\"}},{\"doc\":{\"no\":162,\"ranking\":\"162\",\"bookname\":\"러브 몬스터 =이두온 장편소설 /Love monster \",\"authors\":\"지은이: 이두온\",\"publisher\":\"창비\",\"publication_year\":\"2023\",\"isbn13\":\"9788936438999\",\"addition_symbol\":\"03810\",\"vol\":\"\",\"class_no\":\"813.7\",\"class_nm\":\"문학 > 한국문학 > 소설\",\"loan_count\":\"1202\",\"bookImageURL\":\"https://image.aladin.co.kr/product/31010/63/cover/8936438999_1.jpg\",\"bookDtlUrl\":\"https://data4library.kr/bookV?seq=6632987\"}},{\"doc\":{\"no\":163,\"ranking\":\"162\",\"bookname\":\"지적 대화를 위한 넓고 얕은 지식 :한 권으로 현실을 통찰하게 하는 지식 여행서\",\"authors\":\"채사장 지음\",\"publisher\":\"Whale Books(웨일북)\",\"publication_year\":\"2020\",\"isbn13\":\"9791190313193\",\"addition_symbol\":\"03100\",\"vol\":\"2\",\"class_no\":\"001.3\",\"class_nm\":\"총류 > 총류 > 지식, 학문 일반\",\"loan_count\":\"1202\",\"bookImageURL\":\"https://image.aladin.co.kr/product/22872/85/cover/k912636841_1.jpg\",\"bookDtlUrl\":\"https://data4library.kr/bookV?seq=5584763\"}},{\"doc\":{\"no\":164,\"ranking\":\"164\",\"bookname\":\"지적 대화를 위한 넓고 얕은 지식\",\"authors\":\"채사장 지음\",\"publisher\":\"한빛비즈\",\"publication_year\":\"2015\",\"isbn13\":\"9788994120997\",\"addition_symbol\":\"13100\",\"vol\":\"2\",\"class_no\":\"001.3\",\"class_nm\":\"총류 > 총류 > 지식, 학문 일반\",\"loan_count\":\"1197\",\"bookImageURL\":\"https://bookthumb-phinf.pstatic.net/cover/086/571/08657103.jpg?type=m1&udate=20171111\",\"bookDtlUrl\":\"https://data4library.kr/bookV?seq=2396939\"}},{\"doc\":{\"no\":165,\"ranking\":\"165\",\"bookname\":\"기분이 태도가 되지 말자 :감정조절이 필요한 당신을 위한 책 \",\"authors\":\"김수현 지음\",\"publisher\":\"H(하이스트 출판사)\",\"publication_year\":\"2022\",\"isbn13\":\"9791197647666\",\"addition_symbol\":\"\",\"vol\":\"\",\"class_no\":\"818\",\"class_nm\":\"문학 > 한국문학 > 르포르타주 및 기타\",\"loan_count\":\"1192\",\"bookImageURL\":\"https://image.aladin.co.kr/product/30571/67/cover/k892830719_1.jpg\",\"bookDtlUrl\":\"https://data4library.kr/bookV?seq=6601147\"}},{\"doc\":{\"no\":166,\"ranking\":\"166\",\"bookname\":\"아가미 :구병모 장편소설 \",\"authors\":\"지은이: 구병모\",\"publisher\":\"자음과모음\",\"publication_year\":\"2011\",\"isbn13\":\"9788957075425\",\"addition_symbol\":\"03810\",\"vol\":\"\",\"class_no\":\"813.7\",\"class_nm\":\"문학 > 한국문학 > 소설\",\"loan_count\":\"1191\",\"bookImageURL\":\"http://image.aladin.co.kr/product/1103/66/cover/8957075429_1.jpg\",\"bookDtlUrl\":\"https://data4library.kr/bookV?seq=1156213\"}},{\"doc\":{\"no\":167,\"ranking\":\"167\",\"bookname\":\"마지막 몰입 :나를 넘어서는 힘 \",\"authors\":\"짐 퀵 지음 ;김미정 옮김\",\"publisher\":\"비즈니스북스\",\"publication_year\":\"2021\",\"isbn13\":\"9791162541968\",\"addition_symbol\":\"03190\",\"vol\":\"\",\"class_no\":\"325.211\",\"class_nm\":\"사회과학 > 경제학 > 경영관리\",\"loan_count\":\"1184\",\"bookImageURL\":\"https://image.aladin.co.kr/product/26400/21/cover/k152738321_1.jpg\",\"bookDtlUrl\":\"https://data4library.kr/bookV?seq=5861284\"}},{\"doc\":{\"no\":168,\"ranking\":\"168\",\"bookname\":\"곰탕 :김영탁 장편소설 \",\"authors\":\"지은이: 김영탁\",\"publisher\":\"Arte(아르테)\",\"publication_year\":\"2018\",\"isbn13\":\"9788950973759\",\"addition_symbol\":\"04810\",\"vol\":\"1\",\"class_no\":\"813.7\",\"class_nm\":\"문학 > 한국문학 > 소설\",\"loan_count\":\"1182\",\"bookImageURL\":\"https://bookthumb-phinf.pstatic.net/cover/134/460/13446026.jpg?type=m1&udate=20180322\",\"bookDtlUrl\":\"https://data4library.kr/bookV?seq=3725494\"}},{\"doc\":{\"no\":169,\"ranking\":\"168\",\"bookname\":\"프리즘 :손원평 장편소설 \",\"authors\":\"지은이: 손원평\",\"publisher\":\"은행나무\",\"publication_year\":\"2020\",\"isbn13\":\"9791191071030\",\"addition_symbol\":\"03810\",\"vol\":\"\",\"class_no\":\"813.7\",\"class_nm\":\"문학 > 한국문학 > 소설\",\"loan_count\":\"1182\",\"bookImageURL\":\"https://image.aladin.co.kr/product/25044/86/cover/k782632029_1.jpg\",\"bookDtlUrl\":\"https://data4library.kr/bookV?seq=5747854\"}},{\"doc\":{\"no\":170,\"ranking\":\"170\",\"bookname\":\"내가 틀릴 수도 있습니다 =숲속의 현자가 전하는 마지막 인생수업 /I may be wrong \",\"authors\":\"비욘 나티코 린데블라드 지음 ;박미경 옮김\",\"publisher\":\"다산북스\",\"publication_year\":\"2022\",\"isbn13\":\"9791130689890\",\"addition_symbol\":\"03100\",\"vol\":\"\",\"class_no\":\"220.4\",\"class_nm\":\"종교 > 불교 > 불교\",\"loan_count\":\"1177\",\"bookImageURL\":\"https://image.aladin.co.kr/product/29269/12/cover/k822837807_1.jpg\",\"bookDtlUrl\":\"https://data4library.kr/bookV?seq=6445483\"}},{\"doc\":{\"no\":171,\"ranking\":\"171\",\"bookname\":\"웰씽킹 =부를 창조하는 생각의 뿌리 /Wealthinking \",\"authors\":\"켈리 최 지음\",\"publisher\":\"다산북스\",\"publication_year\":\"2021\",\"isbn13\":\"9791130677774\",\"addition_symbol\":\"03190\",\"vol\":\"\",\"class_no\":\"325.211\",\"class_nm\":\"사회과학 > 경제학 > 경영관리\",\"loan_count\":\"1170\",\"bookImageURL\":\"https://image.aladin.co.kr/product/28273/37/cover/k852835990_1.jpg\",\"bookDtlUrl\":\"https://data4library.kr/bookV?seq=6332829\"}},{\"doc\":{\"no\":172,\"ranking\":\"172\",\"bookname\":\"지적 대화를 위한 넓고 얕은 지식\",\"authors\":\"채사장 지음\",\"publisher\":\"한빛비즈\",\"publication_year\":\"2014\",\"isbn13\":\"9788994120966\",\"addition_symbol\":\"13100\",\"vol\":\"\",\"class_no\":\"001.3\",\"class_nm\":\"총류 > 총류 > 지식, 학문 일반\",\"loan_count\":\"1169\",\"bookImageURL\":\"https://bookthumb-phinf.pstatic.net/cover/084/030/08403038.jpg?type=m1&udate=20171223\",\"bookDtlUrl\":\"https://data4library.kr/bookV?seq=2396928\"}},{\"doc\":{\"no\":173,\"ranking\":\"173\",\"bookname\":\"백광 :렌조 미키히코 장편소설 \",\"authors\":\"지은이: 렌조 미키히코 ;옮긴이: 양윤옥\",\"publisher\":\"바이포엠 스튜디오\",\"publication_year\":\"2022\",\"isbn13\":\"9791191043617\",\"addition_symbol\":\"03830\",\"vol\":\"\",\"class_no\":\"833.6\",\"class_nm\":\"문학 > 일본문학 > 소설\",\"loan_count\":\"1163\",\"bookImageURL\":\"https://image.aladin.co.kr/product/28875/60/cover/k652836302_2.jpg\",\"bookDtlUrl\":\"https://data4library.kr/bookV?seq=6402711\"}},{\"doc\":{\"no\":174,\"ranking\":\"174\",\"bookname\":\"마당이 있는 집 \",\"authors\":\"김진영 지음\",\"publisher\":\"문학동네\",\"publication_year\":\"2018\",\"isbn13\":\"9788954651059\",\"addition_symbol\":\"03810\",\"vol\":\"\",\"class_no\":\"813.7\",\"class_nm\":\"문학 > 한국문학 > 소설\",\"loan_count\":\"1161\",\"bookImageURL\":\"http://image.aladin.co.kr/product/14331/78/cover/8954651054_1.jpg\",\"bookDtlUrl\":\"https://data4library.kr/bookV?seq=3746102\"}},{\"doc\":{\"no\":175,\"ranking\":\"175\",\"bookname\":\"빠르게 실패하기 :20년간 진행된 스탠퍼드대학교 <인생 성장 프로젝트> 천 개의 성공을 만든 작은 행동의 힘 \",\"authors\":\"존 크럼볼츠,도연 옮김\",\"publisher\":\"Snowfox(스노우폭스북스)\",\"publication_year\":\"2022\",\"isbn13\":\"9791191769203\",\"addition_symbol\":\"03190\",\"vol\":\"\",\"class_no\":\"325.211\",\"class_nm\":\"사회과학 > 경제학 > 경영관리\",\"loan_count\":\"1152\",\"bookImageURL\":\"https://image.aladin.co.kr/product/30070/40/cover/k892839663_1.jpg\",\"bookDtlUrl\":\"https://data4library.kr/bookV?seq=6555034\"}},{\"doc\":{\"no\":176,\"ranking\":\"176\",\"bookname\":\"나는 4시간만 일한다 :디지털 노마드 시대 완전히 새로운 삶의 방식 \",\"authors\":\"팀 페리스 지음 ;윤동준 옮김\",\"publisher\":\"빛과향기\",\"publication_year\":\"2017\",\"isbn13\":\"9791185584454\",\"addition_symbol\":\"03320\",\"vol\":\"\",\"class_no\":\"325.211\",\"class_nm\":\"사회과학 > 경제학 > 경영관리\",\"loan_count\":\"1150\",\"bookImageURL\":\"https://image.aladin.co.kr/product/11956/55/cover/k392531430_1.jpg\",\"bookDtlUrl\":\"https://data4library.kr/bookV?seq=3646824\"}},{\"doc\":{\"no\":177,\"ranking\":\"177\",\"bookname\":\"돈의 심리학 :당신은 왜 부자가 되지 못했는가 \",\"authors\":\"모건 하우절 지음 ;이지연 옮김\",\"publisher\":\"인플루엔셜\",\"publication_year\":\"2021\",\"isbn13\":\"9791191056372\",\"addition_symbol\":\"03320\",\"vol\":\"\",\"class_no\":\"327.04\",\"class_nm\":\"사회과학 > 경제학 > 금융\",\"loan_count\":\"1149\",\"bookImageURL\":\"https://image.aladin.co.kr/product/25967/85/cover/k412737326_1.jpg\",\"bookDtlUrl\":\"https://data4library.kr/bookV?seq=5846583\"}},{\"doc\":{\"no\":178,\"ranking\":\"178\",\"bookname\":\"동급생 \",\"authors\":\"프레드 울만 지음 ;황보석 옮김\",\"publisher\":\"열린책들\",\"publication_year\":\"2017\",\"isbn13\":\"9788932918143\",\"addition_symbol\":\"03840\",\"vol\":\"\",\"class_no\":\"843.5\",\"class_nm\":\"문학 > 영미문학 > 소설\",\"loan_count\":\"1148\",\"bookImageURL\":\"http://image.aladin.co.kr/product/10217/55/cover/8932918147_1.jpg\",\"bookDtlUrl\":\"https://data4library.kr/bookV?seq=3412255\"}},{\"doc\":{\"no\":179,\"ranking\":\"179\",\"bookname\":\"아몬드 :손원평 장편소설 \",\"authors\":\"지은이: 손원평\",\"publisher\":\"창비\",\"publication_year\":\"2017\",\"isbn13\":\"9788936456788\",\"addition_symbol\":\"43810\",\"vol\":\"\",\"class_no\":\"813.7\",\"class_nm\":\"문학 > 한국문학 > 소설\",\"loan_count\":\"1147\",\"bookImageURL\":\"http://image.aladin.co.kr/product/10636/66/cover/8936456784_1.jpg\",\"bookDtlUrl\":\"https://data4library.kr/bookV?seq=3428065\"}},{\"doc\":{\"no\":180,\"ranking\":\"180\",\"bookname\":\"녹나무의 파수꾼 =The camphorwood custodian \",\"authors\":\"저자: 히가시노 게이고 ;옮긴이: 양윤옥\",\"publisher\":\"소미미디어\",\"publication_year\":\"2020\",\"isbn13\":\"9791165075064\",\"addition_symbol\":\"03830\",\"vol\":\"\",\"class_no\":\"833.6\",\"class_nm\":\"문학 > 일본문학 > 소설\",\"loan_count\":\"1141\",\"bookImageURL\":\"https://image.aladin.co.kr/product/23456/86/cover/k362638685_1.jpg\",\"bookDtlUrl\":\"https://data4library.kr/bookV?seq=5609821\"}},{\"doc\":{\"no\":181,\"ranking\":\"181\",\"bookname\":\"일인칭 단수 :무라카미 하루키 소설 \",\"authors\":\"지은이: 무라카미 하루키 ;옮긴이: 홍은주\",\"publisher\":\"문학동네\",\"publication_year\":\"2020\",\"isbn13\":\"9788954675987\",\"addition_symbol\":\"03830\",\"vol\":\"\",\"class_no\":\"833.6\",\"class_nm\":\"문학 > 일본문학 > 소설\",\"loan_count\":\"1138\",\"bookImageURL\":\"https://image.aladin.co.kr/product/25638/33/cover/8954675980_2.jpg\",\"bookDtlUrl\":\"https://data4library.kr/bookV?seq=5814186\"}},{\"doc\":{\"no\":182,\"ranking\":\"182\",\"bookname\":\"슬픔을 공부하는 슬픔 :신형철 산문 \",\"authors\":\"지은이: 신형철\",\"publisher\":\"한겨레출판\",\"publication_year\":\"2018\",\"isbn13\":\"9791160401967\",\"addition_symbol\":\"03810\",\"vol\":\"\",\"class_no\":\"814.7\",\"class_nm\":\"문학 > 한국문학 > 수필\",\"loan_count\":\"1137\",\"bookImageURL\":\"https://image.aladin.co.kr/product/16234/14/cover/k322534566_1.jpg\",\"bookDtlUrl\":\"https://data4library.kr/bookV?seq=3901754\"}},{\"doc\":{\"no\":183,\"ranking\":\"183\",\"bookname\":\"여덟 단어 :인생을 대하는 우리의 자세 \",\"authors\":\"박웅현 지음\",\"publisher\":\"북하우스 퍼블리셔스\",\"publication_year\":\"2013\",\"isbn13\":\"9788956056531\",\"addition_symbol\":\"03810\",\"vol\":\"\",\"class_no\":\"818\",\"class_nm\":\"문학 > 한국문학 > 르포르타주 및 기타\",\"loan_count\":\"1130\",\"bookImageURL\":\"https://bookthumb-phinf.pstatic.net/cover/072/024/07202413.jpg?type=m1&udate=20140911\",\"bookDtlUrl\":\"https://data4library.kr/bookV?seq=1940355\"}},{\"doc\":{\"no\":184,\"ranking\":\"183\",\"bookname\":\"(비전공자를 위한 이해할 수 있는) IT 지식 \",\"authors\":\"최원영 지음\",\"publisher\":\"T.W.I.G(티더블유아이지)\",\"publication_year\":\"2020\",\"isbn13\":\"9791196918033\",\"addition_symbol\":\"13000\",\"vol\":\"\",\"class_no\":\"004\",\"class_nm\":\"총류 > 총류 > 전산학\",\"loan_count\":\"1130\",\"bookImageURL\":\"https://image.aladin.co.kr/product/24606/45/cover/k662631176_1.jpg\",\"bookDtlUrl\":\"https://data4library.kr/bookV?seq=5708360\"}},{\"doc\":{\"no\":185,\"ranking\":\"185\",\"bookname\":\"부자의 그릇 :남을 위해 돈 쓰는 능력을 키우는 법 \",\"authors\":\"이즈미 마사토 지음 ;김윤수 옮김\",\"publisher\":\"다산북스\",\"publication_year\":\"2015\",\"isbn13\":\"9791130604787\",\"addition_symbol\":\"13320\",\"vol\":\"\",\"class_no\":\"327.04\",\"class_nm\":\"사회과학 > 경제학 > 금융\",\"loan_count\":\"1122\",\"bookImageURL\":\"http://image.aladin.co.kr/product/5380/75/cover/1130604780_2.jpg\",\"bookDtlUrl\":\"https://data4library.kr/bookV?seq=2645749\"}},{\"doc\":{\"no\":186,\"ranking\":\"186\",\"bookname\":\"브람스를 좋아하세요 \",\"authors\":\"프랑수아즈 사강 [지음] ;김남주 옮김\",\"publisher\":\"민음사\",\"publication_year\":\"2008\",\"isbn13\":\"9788937461798\",\"addition_symbol\":\"04800\",\"vol\":\"179\",\"class_no\":\"863\",\"class_nm\":\"문학 > 프랑스문학 > 소설\",\"loan_count\":\"1121\",\"bookImageURL\":\"https://bookthumb-phinf.pstatic.net/cover/045/694/04569434.jpg?type=m1&udate=20130412\",\"bookDtlUrl\":\"https://data4library.kr/bookV?seq=2374505\"}},{\"doc\":{\"no\":187,\"ranking\":\"187\",\"bookname\":\"오베라는 남자 :프레드릭 배크만 장편소설 \",\"authors\":\"지은이: 프레드릭 배크만 ;옮긴이: 최민우\",\"publisher\":\"다산북스\",\"publication_year\":\"2015\",\"isbn13\":\"9791130605210\",\"addition_symbol\":\"03850\",\"vol\":\"\",\"class_no\":\"859.7\",\"class_nm\":\"문학 > 독일문학 > 기타 게르만 문학\",\"loan_count\":\"1120\",\"bookImageURL\":\"https://bookthumb-phinf.pstatic.net/cover/090/537/09053751.jpg?type=m1&udate=20180717\",\"bookDtlUrl\":\"https://data4library.kr/bookV?seq=2396935\"}},{\"doc\":{\"no\":188,\"ranking\":\"188\",\"bookname\":\"(서울 자가에 대기업 다니는) 김 부장 이야기 \",\"authors\":\"송희구 지음\",\"publisher\":\"서삼독\",\"publication_year\":\"2021\",\"isbn13\":\"9791165344009\",\"addition_symbol\":\"03320\",\"vol\":\"2\",\"class_no\":\"325.04\",\"class_nm\":\"사회과학 > 경제학 > 경영관리\",\"loan_count\":\"1117\",\"bookImageURL\":\"https://image.aladin.co.kr/product/27794/38/cover/k752734064_1.jpg\",\"bookDtlUrl\":\"https://data4library.kr/bookV?seq=6078846\"}},{\"doc\":{\"no\":189,\"ranking\":\"189\",\"bookname\":\"음식 중독 :먹고 싶어서 먹는다는 착각 \",\"authors\":\"지은이: 마이클 모스 ;옮긴이: 연아람\",\"publisher\":\"민음사\",\"publication_year\":\"2023\",\"isbn13\":\"9788937469268\",\"addition_symbol\":\"03300\",\"vol\":\"\",\"class_no\":\"517.52\",\"class_nm\":\"기술과학 > 의학 > 위생학, 공공의학\",\"loan_count\":\"1116\",\"bookImageURL\":\"https://image.aladin.co.kr/product/30934/14/cover/893746926x_1.jpg\",\"bookDtlUrl\":\"https://data4library.kr/bookV?seq=6628497\"}},{\"doc\":{\"no\":190,\"ranking\":\"189\",\"bookname\":\"재와 물거품 \",\"authors\":\"지은이: 김청귤\",\"publisher\":\"안전가옥\",\"publication_year\":\"2021\",\"isbn13\":\"9791191193114\",\"addition_symbol\":\"03810\",\"vol\":\"\",\"class_no\":\"813.7\",\"class_nm\":\"문학 > 한국문학 > 소설\",\"loan_count\":\"1116\",\"bookImageURL\":\"https://image.aladin.co.kr/product/27256/81/cover/k192732699_1.jpg\",\"bookDtlUrl\":\"https://data4library.kr/bookV?seq=5996596\"}},{\"doc\":{\"no\":191,\"ranking\":\"191\",\"bookname\":\"정리하는 뇌 :디지털 시대, 정보와 선택 과부하로 뒤엉킨 머릿속과 일상을 정리하는 기술 \",\"authors\":\"대니얼 J. 레비틴 지음 ;김성훈 옮김\",\"publisher\":\"미래엔\",\"publication_year\":\"2014\",\"isbn13\":\"9788937837654\",\"addition_symbol\":\"03180\",\"vol\":\"\",\"class_no\":\"181.3\",\"class_nm\":\"철학 > 심리학 > 각론\",\"loan_count\":\"1113\",\"bookImageURL\":\"http://image.aladin.co.kr/product/6176/20/cover/893783765x_1.jpg\",\"bookDtlUrl\":\"https://data4library.kr/bookV?seq=2646781\"}},{\"doc\":{\"no\":192,\"ranking\":\"191\",\"bookname\":\"나는 나로 살기로 했다 :냉담한 현실에서 어른살이를 위한 to do list \",\"authors\":\"글·그림: 김수현\",\"publisher\":\"마음의숲\",\"publication_year\":\"2016\",\"isbn13\":\"9791187119845\",\"addition_symbol\":\"03810\",\"vol\":\"\",\"class_no\":\"818\",\"class_nm\":\"문학 > 한국문학 > 르포르타주 및 기타\",\"loan_count\":\"1113\",\"bookImageURL\":\"http://image.aladin.co.kr/product/16751/86/cover/k642534567_2.jpg\",\"bookDtlUrl\":\"https://data4library.kr/bookV?seq=3395679\"}},{\"doc\":{\"no\":193,\"ranking\":\"193\",\"bookname\":\"크리스마스 타일 :김금희 연작소설 \",\"authors\":\"지은이: 김금희\",\"publisher\":\"창비\",\"publication_year\":\"2022\",\"isbn13\":\"9788936438890\",\"addition_symbol\":\"03810\",\"vol\":\"\",\"class_no\":\"813.7\",\"class_nm\":\"문학 > 한국문학 > 소설\",\"loan_count\":\"1110\",\"bookImageURL\":\"https://image.aladin.co.kr/product/30520/41/cover/8936438891_1.jpg\",\"bookDtlUrl\":\"https://data4library.kr/bookV?seq=6595121\"}},{\"doc\":{\"no\":194,\"ranking\":\"194\",\"bookname\":\"방구석 미술관 :가볍고 편하게 시작하는 유쾌한 교양 미술 \",\"authors\":\"조원재 지음\",\"publisher\":\"백도씨\",\"publication_year\":\"2018\",\"isbn13\":\"9788968331862\",\"addition_symbol\":\"03600\",\"vol\":\"\",\"class_no\":\"650.4\",\"class_nm\":\"예술 > 회화, 도화 > 회화, 도화\",\"loan_count\":\"1109\",\"bookImageURL\":\"https://bookthumb-phinf.pstatic.net/cover/138/339/13833956.jpg?type=m1&udate=20180803\",\"bookDtlUrl\":\"https://data4library.kr/bookV?seq=3858776\"}},{\"doc\":{\"no\":195,\"ranking\":\"195\",\"bookname\":\"위저드 베이커리 =구병모 장편소설 /Wizard bakery \",\"authors\":\"지은이: 구병모\",\"publisher\":\"창비\",\"publication_year\":\"2009\",\"isbn13\":\"9788936433697\",\"addition_symbol\":\"03810\",\"vol\":\"\",\"class_no\":\"813.7\",\"class_nm\":\"문학 > 한국문학 > 소설\",\"loan_count\":\"1102\",\"bookImageURL\":\"http://image.aladin.co.kr/product/346/0/cover/8936433695_1.jpg\",\"bookDtlUrl\":\"https://data4library.kr/bookV?seq=2314042\"}},{\"doc\":{\"no\":196,\"ranking\":\"196\",\"bookname\":\"멘탈을 바꿔야 인생이 바뀐다 :나의 잠재력을 최대로 끌어올려 100% 성공하는 삶을 사는 방법 \",\"authors\":\"박세니 지음\",\"publisher\":\"바이포엠 스튜디오\",\"publication_year\":\"2022\",\"isbn13\":\"9791191043761\",\"addition_symbol\":\"03190\",\"vol\":\"\",\"class_no\":\"325.211\",\"class_nm\":\"사회과학 > 경제학 > 경영관리\",\"loan_count\":\"1101\",\"bookImageURL\":\"https://image.aladin.co.kr/product/29307/68/cover/k732837606_2.jpg\",\"bookDtlUrl\":\"https://data4library.kr/bookV?seq=6450204\"}},{\"doc\":{\"no\":197,\"ranking\":\"197\",\"bookname\":\"나주에 대하여 :김화진 소설 \",\"authors\":\"지은이: 김화진\",\"publisher\":\"문학동네\",\"publication_year\":\"2022\",\"isbn13\":\"9788954688994\",\"addition_symbol\":\"03810\",\"vol\":\"\",\"class_no\":\"813.7\",\"class_nm\":\"문학 > 한국문학 > 소설\",\"loan_count\":\"1096\",\"bookImageURL\":\"https://image.aladin.co.kr/product/30347/9/cover/8954688993_1.jpg\",\"bookDtlUrl\":\"https://data4library.kr/bookV?seq=6577033\"}},{\"doc\":{\"no\":198,\"ranking\":\"198\",\"bookname\":\"(나를 숨 쉬게 하는) 보통의 언어들 \",\"authors\":\"김이나 지음\",\"publisher\":\"위즈덤하우스\",\"publication_year\":\"2020\",\"isbn13\":\"9791190786355\",\"addition_symbol\":\"03810\",\"vol\":\"\",\"class_no\":\"818\",\"class_nm\":\"문학 > 한국문학 > 르포르타주 및 기타\",\"loan_count\":\"1094\",\"bookImageURL\":\"https://image.aladin.co.kr/product/24088/61/cover/k182639239_1.jpg\",\"bookDtlUrl\":\"https://data4library.kr/bookV?seq=5671695\"}},{\"doc\":{\"no\":199,\"ranking\":\"199\",\"bookname\":\"뉴서울파크 젤리장수 대학살 :조예은 장편소설 \",\"authors\":\"지은이: 조예은\",\"publisher\":\"안전가옥\",\"publication_year\":\"2019\",\"isbn13\":\"9791196347048\",\"addition_symbol\":\"03810\",\"vol\":\"\",\"class_no\":\"813.7\",\"class_nm\":\"문학 > 한국문학 > 소설\",\"loan_count\":\"1089\",\"bookImageURL\":\"https://image.aladin.co.kr/product/19539/29/cover/k672635129_1.jpg\",\"bookDtlUrl\":\"https://data4library.kr/bookV?seq=5435792\"}},{\"doc\":{\"no\":200,\"ranking\":\"200\",\"bookname\":\"연금술사\",\"authors\":\"파울로 코엘료 지음;최정수 옮김\",\"publisher\":\"문학동네\",\"publication_year\":\"2001\",\"isbn13\":\"9788982814471\",\"addition_symbol\":\"03860\",\"vol\":\"\",\"class_no\":\"879\",\"class_nm\":\"문학 > 스페인문학 > 포르투갈문학\",\"loan_count\":\"1084\",\"bookImageURL\":\"http://image.aladin.co.kr/product/30/73/cover/8982814477_2.jpg\",\"bookDtlUrl\":\"https://data4library.kr/bookV?seq=126479\"}}]}}\n",
      "{'response': {'request': {'startDt': '2023-01-01', 'endDt': '2023-12-30', 'age': '20', 'pageNo': 1, 'pageSize': 200}, 'resultNum': 200, 'numFound': 5000, 'docs': [{'doc': {'no': 1, 'ranking': '1', 'bookname': '물고기는 존재하지 않는다 :상실, 사랑 그리고 숨어 있는 삶의 질서에 관한 이야기 ', 'authors': '룰루 밀러 지음 ;정지인 옮김', 'publisher': '곰출판', 'publication_year': '2021', 'isbn13': '9791189327156', 'addition_symbol': '03400', 'vol': '', 'class_no': '490.99', 'class_nm': '자연과학 > 동물학 > 동물학', 'loan_count': '5907', 'bookImageURL': 'https://image.aladin.co.kr/product/28465/73/cover/k092835920_1.jpg', 'bookDtlUrl': 'https://data4library.kr/bookV?seq=6360937'}}, {'doc': {'no': 2, 'ranking': '2', 'bookname': '지구 끝의 온실 :김초엽 장편소설 ', 'authors': '지은이: 김초엽', 'publisher': 'Giant Books(자이언트북스)', 'publication_year': '2021', 'isbn13': '9791191824001', 'addition_symbol': '03810', 'vol': '', 'class_no': '813.7', 'class_nm': '문학 > 한국문학 > 소설', 'loan_count': '5186', 'bookImageURL': 'https://image.aladin.co.kr/product/27692/63/cover/k082733434_1.jpg', 'bookDtlUrl': 'https://data4library.kr/bookV?seq=6065686'}}, {'doc': {'no': 3, 'ranking': '3', 'bookname': '불편한 편의점 :김호연 장편소설 ', 'authors': '지은이: 김호연', 'publisher': '나무옆의자', 'publication_year': '2021', 'isbn13': '9791161571188', 'addition_symbol': '03810', 'vol': '', 'class_no': '813.7', 'class_nm': '문학 > 한국문학 > 소설', 'loan_count': '5131', 'bookImageURL': 'https://image.aladin.co.kr/product/26942/84/cover/k582730818_1.jpg', 'bookDtlUrl': 'https://data4library.kr/bookV?seq=5962217'}}, {'doc': {'no': 4, 'ranking': '4', 'bookname': '달러구트 꿈 백화점 :이미예 장편소설', 'authors': '지은이: 이미예', 'publisher': '팩토리나인', 'publication_year': '2020', 'isbn13': '9791165341909', 'addition_symbol': '03810', 'vol': '', 'class_no': '813.7', 'class_nm': '문학 > 한국문학 > 소설', 'loan_count': '5085', 'bookImageURL': 'https://image.aladin.co.kr/product/24512/70/cover/k392630952_1.jpg', 'bookDtlUrl': 'https://data4library.kr/bookV?seq=5707051'}}, {'doc': {'no': 5, 'ranking': '5', 'bookname': '우리가 빛의 속도로 갈 수 없다면 :김초엽 소설 ', 'authors': '지은이: 김초엽', 'publisher': '허블', 'publication_year': '2019', 'isbn13': '9791190090018', 'addition_symbol': '03810', 'vol': '', 'class_no': '813.7', 'class_nm': '문학 > 한국문학 > 소설', 'loan_count': '4730', 'bookImageURL': 'https://image.aladin.co.kr/product/19359/16/cover/s972635417_1.jpg', 'bookDtlUrl': 'https://data4library.kr/bookV?seq=5430429'}}, {'doc': {'no': 6, 'ranking': '6', 'bookname': '시선으로부터, :정세랑 장편소설 ', 'authors': '지은이: 정세랑', 'publisher': '문학동네', 'publication_year': '2020', 'isbn13': '9788954672214', 'addition_symbol': '03810', 'vol': '', 'class_no': '813.7', 'class_nm': '문학 > 한국문학 > 소설', 'loan_count': '4455', 'bookImageURL': 'https://image.aladin.co.kr/product/24131/37/cover/8954672213_1.jpg', 'bookDtlUrl': 'https://data4library.kr/bookV?seq=5674475'}}, {'doc': {'no': 7, 'ranking': '7', 'bookname': '홍학의 자리 :정해연 장편소설 ', 'authors': '지은이: 정해연', 'publisher': '문학동네', 'publication_year': '2021', 'isbn13': '9788954681155', 'addition_symbol': '03810', 'vol': '', 'class_no': '813.7', 'class_nm': '문학 > 한국문학 > 소설', 'loan_count': '4409', 'bookImageURL': 'https://image.aladin.co.kr/product/27587/94/cover/8954681158_1.jpg', 'bookDtlUrl': 'https://data4library.kr/bookV?seq=6050062'}}, {'doc': {'no': 8, 'ranking': '8', 'bookname': '밝은 밤 :최은영 장편소설 ', 'authors': '지은이: 최은영', 'publisher': '문학동네', 'publication_year': '2021', 'isbn13': '9788954681179', 'addition_symbol': '03810', 'vol': '', 'class_no': '813.7', 'class_nm': '문학 > 한국문학 > 소설', 'loan_count': '4104', 'bookImageURL': 'https://image.aladin.co.kr/product/27541/91/cover/8954681174_1.jpg', 'bookDtlUrl': 'https://data4library.kr/bookV?seq=6045915'}}, {'doc': {'no': 9, 'ranking': '9', 'bookname': '천 개의 파랑 :천선란 장편소설 ', 'authors': '지은이: 천선란', 'publisher': '허블', 'publication_year': '2020', 'isbn13': '9791190090261', 'addition_symbol': '03810', 'vol': '', 'class_no': '813.7', 'class_nm': '문학 > 한국문학 > 소설', 'loan_count': '4096', 'bookImageURL': 'https://image.aladin.co.kr/product/24895/69/cover/k882632470_2.jpg', 'bookDtlUrl': 'https://data4library.kr/bookV?seq=5738747'}}, {'doc': {'no': 10, 'ranking': '10', 'bookname': '칵테일, 러브, 좀비 ', 'authors': '지은이: 조예은', 'publisher': '안전가옥', 'publication_year': '2020', 'isbn13': '9791190174756', 'addition_symbol': '03810', 'vol': '', 'class_no': '813.7', 'class_nm': '문학 > 한국문학 > 소설', 'loan_count': '3989', 'bookImageURL': 'https://image.aladin.co.kr/product/23736/85/cover/k692639764_1.jpg', 'bookDtlUrl': 'https://data4library.kr/bookV?seq=5650149'}}, {'doc': {'no': 11, 'ranking': '11', 'bookname': '지구에서 한아뿐 :정세랑 장편소설 ', 'authors': '지은이: 정세랑', 'publisher': '난다', 'publication_year': '2019', 'isbn13': '9791188862290', 'addition_symbol': '03810', 'vol': '', 'class_no': '813.7', 'class_nm': '문학 > 한국문학 > 소설', 'loan_count': '3836', 'bookImageURL': 'https://image.aladin.co.kr/product/19804/82/cover/k072635131_1.jpg', 'bookDtlUrl': 'https://data4library.kr/bookV?seq=5446546'}}, {'doc': {'no': 12, 'ranking': '12', 'bookname': '구의 증명 :최진영 소설 ', 'authors': '지은이: 최진영', 'publisher': '은행나무', 'publication_year': '2015', 'isbn13': '9788956608556', 'addition_symbol': '03810', 'vol': '', 'class_no': '813.7', 'class_nm': '문학 > 한국문학 > 소설', 'loan_count': '3700', 'bookImageURL': 'http://image.aladin.co.kr/product/5527/50/cover/8956608555_1.jpg', 'bookDtlUrl': 'https://data4library.kr/bookV?seq=2619618'}}, {'doc': {'no': 13, 'ranking': '13', 'bookname': '달러구트 꿈 백화점 :이미예 장편소설', 'authors': '지은이: 이미예', 'publisher': '팩토리나인', 'publication_year': '2021', 'isbn13': '9791165343729', 'addition_symbol': '03810', 'vol': '2', 'class_no': '813.7', 'class_nm': '문학 > 한국문학 > 소설', 'loan_count': '3695', 'bookImageURL': 'https://image.aladin.co.kr/product/27587/47/cover/k962733015_1.jpg', 'bookDtlUrl': 'https://data4library.kr/bookV?seq=6049391'}}, {'doc': {'no': 14, 'ranking': '14', 'bookname': '아몬드손원평 장편소설', 'authors': '손원평', 'publisher': '창비', 'publication_year': '2017', 'isbn13': '9788936434267', 'addition_symbol': '03810', 'vol': '', 'class_no': '813.7', 'class_nm': '문학 > 한국문학 > 소설', 'loan_count': '3609', 'bookImageURL': 'http://image.aladin.co.kr/product/16839/4/cover/k492534773_1.jpg', 'bookDtlUrl': 'https://data4library.kr/bookV?seq=3423096'}}, {'doc': {'no': 15, 'ranking': '15', 'bookname': '나는 소망한다 내게 금지된 것을 :양귀자 장편소설 ', 'authors': '지은이: 양귀자', 'publisher': '쓰다', 'publication_year': '2019', 'isbn13': '9788998441074', 'addition_symbol': '03810', 'vol': '', 'class_no': '813.62', 'class_nm': '문학 > 한국문학 > 소설', 'loan_count': '3581', 'bookImageURL': 'https://image.aladin.co.kr/product/18936/52/cover/8998441071_1.jpg', 'bookDtlUrl': 'https://data4library.kr/bookV?seq=5395822'}}, {'doc': {'no': 16, 'ranking': '16', 'bookname': '미드나잇 라이브러리 ', 'authors': '매트 헤이그 지음 ;노진선 옮김', 'publisher': '인플루엔셜', 'publication_year': '2021', 'isbn13': '9791191056556', 'addition_symbol': '03840', 'vol': '', 'class_no': '843.6', 'class_nm': '문학 > 영미문학 > 소설', 'loan_count': '3566', 'bookImageURL': 'https://image.aladin.co.kr/product/26987/37/cover/k962730610_1.jpg', 'bookDtlUrl': 'https://data4library.kr/bookV?seq=5965665'}}, {'doc': {'no': 17, 'ranking': '17', 'bookname': '트로피컬 나이트 =조예은 소설집 /Tropical night ', 'authors': '지은이: 조예은', 'publisher': '한겨레엔', 'publication_year': '2022', 'isbn13': '9791160408331', 'addition_symbol': '03810', 'vol': '', 'class_no': '813.7', 'class_nm': '문학 > 한국문학 > 소설', 'loan_count': '3500', 'bookImageURL': 'https://image.aladin.co.kr/product/29946/7/cover/k962838741_1.jpg', 'bookDtlUrl': 'https://data4library.kr/bookV?seq=6541800'}}, {'doc': {'no': 18, 'ranking': '18', 'bookname': '나미야 잡화점의 기적 :히가시노 게이고 장편소설 ', 'authors': '지은이: 히가시노 게이고 ;옮긴이: 양윤옥', 'publisher': '현대문학', 'publication_year': '2012', 'isbn13': '9788972756194', 'addition_symbol': '03830', 'vol': '', 'class_no': '833.6', 'class_nm': '문학 > 일본문학 > 소설', 'loan_count': '3188', 'bookImageURL': 'http://image.aladin.co.kr/product/15848/6/cover/k622533431_1.jpg', 'bookDtlUrl': 'https://data4library.kr/bookV?seq=1902173'}}, {'doc': {'no': 19, 'ranking': '19', 'bookname': '종의 기원 =정유정 장편소설 /The origin of species ', 'authors': '지은이: 정유정', 'publisher': '은행나무', 'publication_year': '2016', 'isbn13': '9788956609959', 'addition_symbol': '03810', 'vol': '', 'class_no': '813.7', 'class_nm': '문학 > 한국문학 > 소설', 'loan_count': '3172', 'bookImageURL': 'http://image.aladin.co.kr/product/7492/9/cover/8956609950_2.jpg', 'bookDtlUrl': 'https://data4library.kr/bookV?seq=3151708'}}, {'doc': {'no': 20, 'ranking': '20', 'bookname': '모순 :양귀자 장편소설 ', 'authors': '지은이: 양귀자', 'publisher': '쓰다', 'publication_year': '2013', 'isbn13': '9788998441012', 'addition_symbol': '03810', 'vol': '', 'class_no': '813.62', 'class_nm': '문학 > 한국문학 > 소설', 'loan_count': '3162', 'bookImageURL': 'https://bookthumb-phinf.pstatic.net/cover/071/902/07190270.jpg?type=m1&udate=20170801', 'bookDtlUrl': 'https://data4library.kr/bookV?seq=1938053'}}, {'doc': {'no': 21, 'ranking': '21', 'bookname': '다정한 것이 살아남는다 ', 'authors': '지은이: 브라이언 헤어,옮긴이: 이민아', 'publisher': '디플롯', 'publication_year': '2021', 'isbn13': '9791197413025', 'addition_symbol': '03400', 'vol': '', 'class_no': '182.4', 'class_nm': '철학 > 심리학 > 차이심리학', 'loan_count': '3129', 'bookImageURL': 'https://image.aladin.co.kr/product/27608/83/cover/k722733028_1.jpg', 'bookDtlUrl': 'https://data4library.kr/bookV?seq=6060921'}}, {'doc': {'no': 22, 'ranking': '22', 'bookname': '소년이 온다 :한강 장편소설 ', 'authors': '지은이: 한강', 'publisher': '창비', 'publication_year': '2014', 'isbn13': '9788936434120', 'addition_symbol': '03810', 'vol': '', 'class_no': '813.62', 'class_nm': '문학 > 한국문학 > 소설', 'loan_count': '3103', 'bookImageURL': 'http://image.aladin.co.kr/product/4086/97/cover/8936434128_2.jpg', 'bookDtlUrl': 'https://data4library.kr/bookV?seq=2037399'}}, {'doc': {'no': 23, 'ranking': '23', 'bookname': '역행자 :돈·시간·운명으로부터 완전한 자유를 얻는 7단계 인생 공략집 ', 'authors': '자청 지음', 'publisher': '웅진씽크빅', 'publication_year': '2022', 'isbn13': '9788901260716', 'addition_symbol': '03320', 'vol': '', 'class_no': '325.211', 'class_nm': '사회과학 > 경제학 > 경영관리', 'loan_count': '3057', 'bookImageURL': 'https://image.aladin.co.kr/product/29521/63/cover/8901260719_1.jpg', 'bookDtlUrl': 'https://data4library.kr/bookV?seq=6468069'}}, {'doc': {'no': 24, 'ranking': '24', 'bookname': '완전한 행복 :정유정 장편소설 ', 'authors': '지은이: 정유정', 'publisher': '은행나무', 'publication_year': '2021', 'isbn13': '9791167370280', 'addition_symbol': '03810', 'vol': '', 'class_no': '813.7', 'class_nm': '문학 > 한국문학 > 소설', 'loan_count': '3040', 'bookImageURL': 'https://image.aladin.co.kr/product/27225/29/cover/k432732398_2.jpg', 'bookDtlUrl': 'https://data4library.kr/bookV?seq=5987427'}}, {'doc': {'no': 25, 'ranking': '25', 'bookname': '아버지의 해방일지 :정지아 장편소설 ', 'authors': '지은이: 정지아', 'publisher': '창비', 'publication_year': '2022', 'isbn13': '9788936438838', 'addition_symbol': '03810', 'vol': '', 'class_no': '813.62', 'class_nm': '문학 > 한국문학 > 소설', 'loan_count': '3022', 'bookImageURL': 'https://image.aladin.co.kr/product/30048/51/cover/8936438832_1.jpg', 'bookDtlUrl': 'https://data4library.kr/bookV?seq=6551957'}}, {'doc': {'no': 26, 'ranking': '26', 'bookname': '쇼코의 미소 :최은영 소설 ', 'authors': '지은이: 최은영', 'publisher': '문학동네', 'publication_year': '2016', 'isbn13': '9788954641630', 'addition_symbol': '03810', 'vol': '', 'class_no': '813.7', 'class_nm': '문학 > 한국문학 > 소설', 'loan_count': '2952', 'bookImageURL': 'https://bookthumb-phinf.pstatic.net/cover/107/859/10785953.jpg?type=m1&udate=20180717', 'bookDtlUrl': 'https://data4library.kr/bookV?seq=3190615'}}, {'doc': {'no': 27, 'ranking': '27', 'bookname': '어서오세요, 휴남동 서점입니다 :황보름 장편소설 ', 'authors': '지은이: 황보름', 'publisher': '클레이하우스', 'publication_year': '2022', 'isbn13': '9791197377143', 'addition_symbol': '03810', 'vol': '', 'class_no': '813.7', 'class_nm': '문학 > 한국문학 > 소설', 'loan_count': '2891', 'bookImageURL': 'https://image.aladin.co.kr/product/28685/95/cover/k362836265_1.jpg', 'bookDtlUrl': 'https://data4library.kr/bookV?seq=6389692'}}, {'doc': {'no': 28, 'ranking': '28', 'bookname': '불편한 편의점 :김호연 장편소설', 'authors': '지은이: 김호연', 'publisher': '나무옆의자', 'publication_year': '2022', 'isbn13': '9791161571379', 'addition_symbol': '03810', 'vol': '2', 'class_no': '813.7', 'class_nm': '문학 > 한국문학 > 소설', 'loan_count': '2864', 'bookImageURL': 'https://image.aladin.co.kr/product/29858/98/cover/k432838027_1.jpg', 'bookDtlUrl': 'https://data4library.kr/bookV?seq=6529613'}}, {'doc': {'no': 29, 'ranking': '29', 'bookname': '공정하다는 착각 :능력주의는 모두에게 같은 기회를 제공하는가 ', 'authors': '마이클 샌델 지음 ;함규진 옮김', 'publisher': '미래엔', 'publication_year': '2020', 'isbn13': '9791164136452', 'addition_symbol': '03300', 'vol': '', 'class_no': '332.6', 'class_nm': '사회과학 > 사회학, 사회문제 > 사회조직 및 제도', 'loan_count': '2849', 'bookImageURL': 'https://image.aladin.co.kr/product/25470/6/cover/k092633826_1.jpg', 'bookDtlUrl': 'https://data4library.kr/bookV?seq=5791228'}}, {'doc': {'no': 30, 'ranking': '30', 'bookname': '피프티 피플 :정세랑 장편소설 ', 'authors': '지은이: 정세랑', 'publisher': '창비', 'publication_year': '2016', 'isbn13': '9788936434243', 'addition_symbol': '03810', 'vol': '', 'class_no': '813.7', 'class_nm': '문학 > 한국문학 > 소설', 'loan_count': '2822', 'bookImageURL': 'https://bookthumb-phinf.pstatic.net/cover/113/062/11306271.jpg?type=m1&udate=20180117', 'bookDtlUrl': 'https://data4library.kr/bookV?seq=3391014'}}, {'doc': {'no': 31, 'ranking': '31', 'bookname': '심판 ', 'authors': '베르나르 베르베르 지음 ;전미연 옮김', 'publisher': '열린책들', 'publication_year': '2020', 'isbn13': '9788932920405', 'addition_symbol': '03860', 'vol': '', 'class_no': '862', 'class_nm': '문학 > 프랑스문학 > 희곡', 'loan_count': '2721', 'bookImageURL': 'https://image.aladin.co.kr/product/24919/70/cover/8932920400_1.jpg', 'bookDtlUrl': 'https://data4library.kr/bookV?seq=5738734'}}, {'doc': {'no': 32, 'ranking': '31', 'bookname': '타이탄의 도구들 :1만 시간의 법칙을 깬 거인들의 61가지 전략 ', 'authors': '팀 페리스 지음 ;정지현 옮김', 'publisher': 'Tornado(토네이도)', 'publication_year': '2017', 'isbn13': '9791158510619', 'addition_symbol': '03190', 'vol': '', 'class_no': '325.211', 'class_nm': '사회과학 > 경제학 > 경영관리', 'loan_count': '2721', 'bookImageURL': 'http://image.aladin.co.kr/product/10590/57/cover/k162530537_1.jpg', 'bookDtlUrl': 'https://data4library.kr/bookV?seq=3423727'}}, {'doc': {'no': 33, 'ranking': '33', 'bookname': '도파민네이션 :쾌락 과잉 시대에서 균형 찾기 ', 'authors': '애나 렘키 지음 ;김두완 옮김', 'publisher': '흐름출판', 'publication_year': '2022', 'isbn13': '9788965965046', 'addition_symbol': '03180', 'vol': '', 'class_no': '181.71', 'class_nm': '철학 > 심리학 > 각론', 'loan_count': '2672', 'bookImageURL': 'https://image.aladin.co.kr/product/29125/5/cover/8965965047_1.jpg', 'bookDtlUrl': 'https://data4library.kr/bookV?seq=6428072'}}, {'doc': {'no': 34, 'ranking': '34', 'bookname': '방금 떠나온 세계 :김초엽 소설집 ', 'authors': '지은이: 김초엽', 'publisher': '한겨레엔', 'publication_year': '2021', 'isbn13': '9791160406504', 'addition_symbol': '03810', 'vol': '', 'class_no': '813.7', 'class_nm': '문학 > 한국문학 > 소설', 'loan_count': '2650', 'bookImageURL': 'https://image.aladin.co.kr/product/28170/22/cover/k032835560_1.jpg', 'bookDtlUrl': 'https://data4library.kr/bookV?seq=6322276'}}, {'doc': {'no': 35, 'ranking': '35', 'bookname': '내게 무해한 사람 :최은영 소설 ', 'authors': '지은이: 최은영', 'publisher': '문학동네', 'publication_year': '2018', 'isbn13': '9788954651820', 'addition_symbol': '03810', 'vol': '', 'class_no': '813.7', 'class_nm': '문학 > 한국문학 > 소설', 'loan_count': '2605', 'bookImageURL': 'https://image.aladin.co.kr/product/15133/51/cover/8954651828_1.jpg', 'bookDtlUrl': 'https://data4library.kr/bookV?seq=3774162'}}, {'doc': {'no': 36, 'ranking': '36', 'bookname': '오늘 밤, 세계에서 이 사랑이 사라진다 해도 ', 'authors': '이치조 미사키 지음 ;권영주 옮김', 'publisher': '바이포엠', 'publication_year': '2021', 'isbn13': '9791191043297', 'addition_symbol': '03830', 'vol': '', 'class_no': '833.6', 'class_nm': '문학 > 일본문학 > 소설', 'loan_count': '2582', 'bookImageURL': 'https://image.aladin.co.kr/product/27407/79/cover/k362732558_1.jpg', 'bookDtlUrl': 'https://data4library.kr/bookV?seq=6036502'}}, {'doc': {'no': 37, 'ranking': '37', 'bookname': '파과 :구병모 장편소설 ', 'authors': '지은이: 구병모', 'publisher': '위즈덤하우스 미디어그룹', 'publication_year': '2018', 'isbn13': '9791162203620', 'addition_symbol': '03810', 'vol': '', 'class_no': '813.7', 'class_nm': '문학 > 한국문학 > 소설', 'loan_count': '2546', 'bookImageURL': 'http://image.aladin.co.kr/product/14224/40/cover/k872532537_1.jpg', 'bookDtlUrl': 'https://data4library.kr/bookV?seq=3742540'}}, {'doc': {'no': 38, 'ranking': '38', 'bookname': '사피엔스 :유인원에서 사이보그까지, 인간 역사의 대담하고 위대한 질문 ', 'authors': '지은이: 유발 하라리 ;옮긴이: 조현욱', 'publisher': '김영사', 'publication_year': '2015', 'isbn13': '9788934972464', 'addition_symbol': '03900', 'vol': '', 'class_no': '909', 'class_nm': '역사 > 역사 > 세계사, 세계문화사', 'loan_count': '2540', 'bookImageURL': 'https://bookthumb-phinf.pstatic.net/cover/097/807/09780781.jpg?type=m1&udate=20180721', 'bookDtlUrl': 'https://data4library.kr/bookV?seq=3027835'}}, {'doc': {'no': 39, 'ranking': '39', 'bookname': '작별인사 :김영하 장편소설 ', 'authors': '지은이: 김영하', 'publisher': '복복서가', 'publication_year': '2022', 'isbn13': '9791191114225', 'addition_symbol': '03810', 'vol': '', 'class_no': '813.62', 'class_nm': '문학 > 한국문학 > 소설', 'loan_count': '2527', 'bookImageURL': 'https://image.aladin.co.kr/product/29281/68/cover/k122837904_1.jpg', 'bookDtlUrl': 'https://data4library.kr/bookV?seq=6446085'}}, {'doc': {'no': 40, 'ranking': '40', 'bookname': '아주 작은 습관의 힘 :최고의 변화는 어떻게 만들어지는가 ', 'authors': '제임스 클리어 지음 ;이한이 옮김', 'publisher': '비즈니스북스', 'publication_year': '2019', 'isbn13': '9791162540640', 'addition_symbol': '03190', 'vol': '', 'class_no': '181.845', 'class_nm': '철학 > 심리학 > 각론', 'loan_count': '2508', 'bookImageURL': 'https://image.aladin.co.kr/product/18228/51/cover/k832534441_1.jpg', 'bookDtlUrl': 'https://data4library.kr/bookV?seq=5368180'}}, {'doc': {'no': 41, 'ranking': '41', 'bookname': '돈은 좋지만 재테크는 겁나는 너에게 ', 'authors': '뿅글이 지음', 'publisher': '첨단', 'publication_year': '2023', 'isbn13': '9788960306134', 'addition_symbol': '03320', 'vol': '', 'class_no': '327.04', 'class_nm': '사회과학 > 경제학 > 금융', 'loan_count': '2482', 'bookImageURL': 'https://image.aladin.co.kr/product/30921/24/cover/8960306134_2.jpg', 'bookDtlUrl': 'https://data4library.kr/bookV?seq=6627400'}}, {'doc': {'no': 42, 'ranking': '42', 'bookname': '채식주의자:한강 연작소설', 'authors': '한강', 'publisher': '창비', 'publication_year': '2007', 'isbn13': '9788936433598', 'addition_symbol': '03810', 'vol': '', 'class_no': '813.6', 'class_nm': '문학 > 한국문학 > 소설', 'loan_count': '2468', 'bookImageURL': 'https://bookthumb-phinf.pstatic.net/cover/033/094/03309417.jpg?type=m1&udate=20180609', 'bookDtlUrl': 'https://data4library.kr/bookV?seq=2155671'}}, {'doc': {'no': 43, 'ranking': '43', 'bookname': '돈의 속성 :최상위 부자가 말하는 돈에 대한 모든 것 ', 'authors': '지은이: 김승호', 'publisher': 'Snowfox(스노우폭스북스)', 'publication_year': '2020', 'isbn13': '9791188331796', 'addition_symbol': '03320', 'vol': '', 'class_no': '327.04', 'class_nm': '사회과학 > 경제학 > 금융', 'loan_count': '2430', 'bookImageURL': 'https://image.aladin.co.kr/product/24191/64/cover/k562639753_1.jpg', 'bookDtlUrl': 'https://data4library.kr/bookV?seq=5678862'}}, {'doc': {'no': 44, 'ranking': '44', 'bookname': '바깥은 여름 :김애란 소설 ', 'authors': '지은이: 김애란', 'publisher': '문학동네', 'publication_year': '2017', 'isbn13': '9788954646079', 'addition_symbol': '03810', 'vol': '', 'class_no': '813.7', 'class_nm': '문학 > 한국문학 > 소설', 'loan_count': '2425', 'bookImageURL': 'http://image.aladin.co.kr/product/15533/81/cover/k852533629_1.jpg', 'bookDtlUrl': 'https://data4library.kr/bookV?seq=3451595'}}, {'doc': {'no': 45, 'ranking': '45', 'bookname': '원씽 :복잡한 세상을 이기는 단순함의 힘 ', 'authors': '게리 켈러,구세희 옮김', 'publisher': '비즈니스북스', 'publication_year': '2013', 'isbn13': '9788997575169', 'addition_symbol': '13190', 'vol': '', 'class_no': '325.04', 'class_nm': '사회과학 > 경제학 > 경영관리', 'loan_count': '2362', 'bookImageURL': 'https://bookthumb-phinf.pstatic.net/cover/072/793/07279338.jpg?type=m1&udate=20171117', 'bookDtlUrl': 'https://data4library.kr/bookV?seq=1967433'}}, {'doc': {'no': 46, 'ranking': '46', 'bookname': '파친코 :이민진 장편소설', 'authors': '이민진 지음 ;이미정 옮김', 'publisher': '문학사상', 'publication_year': '2018', 'isbn13': '9788970129815', 'addition_symbol': '04840', 'vol': '1', 'class_no': '843.6', 'class_nm': '문학 > 영미문학 > 소설', 'loan_count': '2347', 'bookImageURL': 'https://bookthumb-phinf.pstatic.net/cover/134/282/13428208.jpg?type=m1&udate=20180331', 'bookDtlUrl': 'https://data4library.kr/bookV?seq=3723218'}}, {'doc': {'no': 47, 'ranking': '47', 'bookname': '프로젝트 헤일메리 ', 'authors': '앤디 위어 지음 ;강동혁 옮김', 'publisher': 'RHK(알에이치코리아)', 'publication_year': '2021', 'isbn13': '9788925588735', 'addition_symbol': '04840', 'vol': '', 'class_no': '843.6', 'class_nm': '문학 > 영미문학 > 소설', 'loan_count': '2330', 'bookImageURL': 'https://image.aladin.co.kr/product/27045/43/cover/8925588730_1.jpg', 'bookDtlUrl': 'https://data4library.kr/bookV?seq=5969086'}}, {'doc': {'no': 48, 'ranking': '48', 'bookname': '부자 아빠 가난한 아빠 :20주년 특별 기념판 ', 'authors': '지은이: 로버트 기요사키 ;옮긴이: 안진환', 'publisher': '민음인', 'publication_year': '2018', 'isbn13': '9791158883591', 'addition_symbol': '03320', 'vol': '', 'class_no': '327.04', 'class_nm': '사회과학 > 경제학 > 금융', 'loan_count': '2300', 'bookImageURL': 'http://image.aladin.co.kr/product/13492/56/cover/k162532501_1.jpg', 'bookDtlUrl': 'https://data4library.kr/bookV?seq=3701374'}}, {'doc': {'no': 49, 'ranking': '49', 'bookname': '세상의 마지막 기차역 ', 'authors': '무라세 다케시 지음 ;김지연 옮김', 'publisher': '바이포엠 스튜디오', 'publication_year': '2022', 'isbn13': '9791191043754', 'addition_symbol': '03830', 'vol': '', 'class_no': '833.6', 'class_nm': '문학 > 일본문학 > 소설', 'loan_count': '2283', 'bookImageURL': 'https://image.aladin.co.kr/product/29442/51/cover/k762837520_1.jpg', 'bookDtlUrl': 'https://data4library.kr/bookV?seq=6460241'}}, {'doc': {'no': 50, 'ranking': '50', 'bookname': '해가 지는 곳으로 :최진영 장편소설 ', 'authors': '지은이: 최진영', 'publisher': '민음사', 'publication_year': '2017', 'isbn13': '9788937473166', 'addition_symbol': '04810', 'vol': '', 'class_no': '813.7', 'class_nm': '문학 > 한국문학 > 소설', 'loan_count': '2265', 'bookImageURL': 'http://image.aladin.co.kr/product/11281/18/cover/893747316x_1.jpg', 'bookDtlUrl': 'https://data4library.kr/bookV?seq=3468676'}}, {'doc': {'no': 51, 'ranking': '51', 'bookname': '여행의 이유 :김영하 산문 ', 'authors': '지은이: 김영하', 'publisher': '문학동네', 'publication_year': '2019', 'isbn13': '9788954655972', 'addition_symbol': '03810', 'vol': '', 'class_no': '816.62', 'class_nm': '문학 > 한국문학 > 일기, 서간, 기행', 'loan_count': '2247', 'bookImageURL': 'https://image.aladin.co.kr/product/18827/60/cover/8954655971_2.jpg', 'bookDtlUrl': 'https://data4library.kr/bookV?seq=5390731'}}, {'doc': {'no': 52, 'ranking': '52', 'bookname': '일의 기쁨과 슬픔 :장류진 소설집 ', 'authors': '지은이: 장류진', 'publisher': '창비', 'publication_year': '2019', 'isbn13': '9788936438036', 'addition_symbol': '03810', 'vol': '', 'class_no': '813.7', 'class_nm': '문학 > 한국문학 > 소설', 'loan_count': '2213', 'bookImageURL': 'https://image.aladin.co.kr/product/21292/13/cover/8936438034_1.jpg', 'bookDtlUrl': 'https://data4library.kr/bookV?seq=5508125'}}, {'doc': {'no': 53, 'ranking': '53', 'bookname': '이토록 평범한 미래 :김연수 소설 ', 'authors': '지은이: 김연수', 'publisher': '문학동네', 'publication_year': '2022', 'isbn13': '9788954680004', 'addition_symbol': '03810', 'vol': '', 'class_no': '813.62', 'class_nm': '문학 > 한국문학 > 소설', 'loan_count': '2134', 'bookImageURL': 'https://image.aladin.co.kr/product/30211/80/cover/8954680003_1.jpg', 'bookDtlUrl': 'https://data4library.kr/bookV?seq=6567245'}}, {'doc': {'no': 54, 'ranking': '54', 'bookname': '어린이라는 세계 :김소영 에세이 ', 'authors': '지은이: 김소영', 'publisher': '사계절(사계절출판사)', 'publication_year': '2020', 'isbn13': '9791160946918', 'addition_symbol': '03810', 'vol': '', 'class_no': '818', 'class_nm': '문학 > 한국문학 > 르포르타주 및 기타', 'loan_count': '2127', 'bookImageURL': 'https://image.aladin.co.kr/product/25509/75/cover/k132633125_1.jpg', 'bookDtlUrl': 'https://data4library.kr/bookV?seq=5795911'}}, {'doc': {'no': 55, 'ranking': '55', 'bookname': '여름의 빌라 :백수린 소설 ', 'authors': '지은이: 백수린', 'publisher': '문학동네', 'publication_year': '2020', 'isbn13': '9788954673105', 'addition_symbol': '03810', 'vol': '', 'class_no': '813.7', 'class_nm': '문학 > 한국문학 > 소설', 'loan_count': '2081', 'bookImageURL': 'https://image.aladin.co.kr/product/24489/98/cover/8954673104_1.jpg', 'bookDtlUrl': 'https://data4library.kr/bookV?seq=5703910'}}, {'doc': {'no': 56, 'ranking': '56', 'bookname': '아가미 :구병모 장편소설 ', 'authors': '지은이: 구병모', 'publisher': '위즈덤하우스', 'publication_year': '2018', 'isbn13': '9791162203392', 'addition_symbol': '03810', 'vol': '', 'class_no': '813.7', 'class_nm': '문학 > 한국문학 > 소설', 'loan_count': '2034', 'bookImageURL': 'http://image.aladin.co.kr/product/13925/89/cover/k732532525_1.jpg', 'bookDtlUrl': 'https://data4library.kr/bookV?seq=3732414'}}, {'doc': {'no': 57, 'ranking': '57', 'bookname': '선량한 차별주의자 ', 'authors': '김지혜 지음', 'publisher': '창비', 'publication_year': '2019', 'isbn13': '9788936477196', 'addition_symbol': '03300', 'vol': '', 'class_no': '334', 'class_nm': '사회과학 > 사회학, 사회문제 > 사회문제', 'loan_count': '1995', 'bookImageURL': 'https://image.aladin.co.kr/product/19874/76/cover/8936477196_1.jpg', 'bookDtlUrl': 'https://data4library.kr/bookV?seq=5448422'}}, {'doc': {'no': 58, 'ranking': '58', 'bookname': '가면산장 살인사건 ', 'authors': '지은이: 히가시노 게이고 ;옮긴이: 김난주', 'publisher': '재인', 'publication_year': '2014', 'isbn13': '9788990982575', 'addition_symbol': '03830', 'vol': '', 'class_no': '833.6', 'class_nm': '문학 > 일본문학 > 소설', 'loan_count': '1984', 'bookImageURL': 'http://image.aladin.co.kr/product/4745/51/cover/899098257x_2.jpg', 'bookDtlUrl': 'https://data4library.kr/bookV?seq=2427470'}}, {'doc': {'no': 59, 'ranking': '59', 'bookname': '지적 대화를 위한 넓고 얕은 지식 1 - 현실 편 : 역사 / 경제 / 정치 / 사회 / 윤리', 'authors': '채사장 (지은이)', 'publisher': '웨일북', 'publication_year': '2020', 'isbn13': '9791190313186', 'addition_symbol': '', 'vol': '1', 'class_no': '001.3', 'class_nm': '총류 > 총류 > 지식, 학문 일반', 'loan_count': '1976', 'bookImageURL': 'https://image.aladin.co.kr/product/22872/79/cover/k992636841_2.jpg', 'bookDtlUrl': 'https://data4library.kr/bookV?seq=5584764'}}, {'doc': {'no': 60, 'ranking': '60', 'bookname': '돌이킬 수 있는 =문목하 장편소설 /Eversible ', 'authors': '지은이: 문목하', 'publisher': '아작', 'publication_year': '2018', 'isbn13': '9791189015381', 'addition_symbol': '03810', 'vol': '', 'class_no': '813.7', 'class_nm': '문학 > 한국문학 > 소설', 'loan_count': '1962', 'bookImageURL': 'https://image.aladin.co.kr/product/17531/63/cover/k062534304_1.jpg', 'bookDtlUrl': 'https://data4library.kr/bookV?seq=5253241'}}, {'doc': {'no': 61, 'ranking': '61', 'bookname': '천문학자는 별을 보지 않는다 ', 'authors': '심채경 지음', 'publisher': '문학동네', 'publication_year': '2021', 'isbn13': '9788954677257', 'addition_symbol': '03810', 'vol': '', 'class_no': '440.4', 'class_nm': '자연과학 > 천문학 > 천문학', 'loan_count': '1938', 'bookImageURL': 'https://image.aladin.co.kr/product/26429/15/cover/8954677258_1.jpg', 'bookDtlUrl': 'https://data4library.kr/bookV?seq=5926266'}}, {'doc': {'no': 62, 'ranking': '62', 'bookname': '목소리를 드릴게요 :정세랑 소설집 ', 'authors': '지은이: 정세랑', 'publisher': '아작', 'publication_year': '2020', 'isbn13': '9791165300005', 'addition_symbol': '03810', 'vol': '', 'class_no': '813.7', 'class_nm': '문학 > 한국문학 > 소설', 'loan_count': '1926', 'bookImageURL': 'https://image.aladin.co.kr/product/22246/11/cover/k842636722_1.jpg', 'bookDtlUrl': 'https://data4library.kr/bookV?seq=5549987'}}, {'doc': {'no': 63, 'ranking': '63', 'bookname': '어느 날, 내 죽음에 네가 들어왔다 ', 'authors': '세이카 료겐 지음 ;김윤경 옮김', 'publisher': '바이포엠 스튜디오', 'publication_year': '2022', 'isbn13': '9791191043723', 'addition_symbol': '03830', 'vol': '', 'class_no': '833.6', 'class_nm': '문학 > 일본문학 > 소설', 'loan_count': '1921', 'bookImageURL': 'https://image.aladin.co.kr/product/29396/69/cover/k402837513_1.jpg', 'bookDtlUrl': 'https://data4library.kr/bookV?seq=6455125'}}, {'doc': {'no': 64, 'ranking': '64', 'bookname': '스노볼 드라이브 :조예은 장편소설 ', 'authors': '지은이: 조예은', 'publisher': '민음사', 'publication_year': '2021', 'isbn13': '9788937473319', 'addition_symbol': '04810', 'vol': '', 'class_no': '813.7', 'class_nm': '문학 > 한국문학 > 소설', 'loan_count': '1920', 'bookImageURL': 'https://bookthumb-phinf.pstatic.net/cover/180/045/18004516.jpg?type=m1&udate=20210218', 'bookDtlUrl': 'https://data4library.kr/bookV?seq=5882740'}}, {'doc': {'no': 65, 'ranking': '65', 'bookname': '소크라테스 익스프레스 :철학이 우리 인생에 스며드는 순간 ', 'authors': '에릭 와이너 지음 ;김하현 옮김', 'publisher': '어크로스(어크로스출판그룹)', 'publication_year': '2021', 'isbn13': '9791190030922', 'addition_symbol': '03100', 'vol': '', 'class_no': '102', 'class_nm': '철학 > 철학 > 잡저', 'loan_count': '1889', 'bookImageURL': 'https://image.aladin.co.kr/product/27025/39/cover/k822730528_1.jpg', 'bookDtlUrl': 'https://data4library.kr/bookV?seq=5967644'}}, {'doc': {'no': 66, 'ranking': '66', 'bookname': '용의자 X의 헌신 ', 'authors': '히가시노 게이고 지음 ;양억관 옮김', 'publisher': '재인', 'publication_year': '2017', 'isbn13': '9788990982704', 'addition_symbol': '03830', 'vol': '', 'class_no': '833.6', 'class_nm': '문학 > 일본문학 > 소설', 'loan_count': '1864', 'bookImageURL': 'https://bookthumb-phinf.pstatic.net/cover/124/818/12481857.jpg?type=m1&udate=20170914', 'bookDtlUrl': 'https://data4library.kr/bookV?seq=3541024'}}, {'doc': {'no': 67, 'ranking': '66', 'bookname': '미움받을 용기 :자유롭고 행복한 삶을 위한 아들러의 가르침 ', 'authors': '기시미 이치로,전경아 옮김', 'publisher': '인플루엔셜', 'publication_year': '2014', 'isbn13': '9788996991342', 'addition_symbol': '13180', 'vol': '', 'class_no': '189.2', 'class_nm': '철학 > 심리학 > 응용심리학 일반', 'loan_count': '1864', 'bookImageURL': 'https://bookthumb-phinf.pstatic.net/cover/083/399/08339910.jpg?type=m1&udate=20180616', 'bookDtlUrl': 'https://data4library.kr/bookV?seq=2396926'}}, {'doc': {'no': 68, 'ranking': '68', 'bookname': '7년의 밤 :정유정 장편소설 ', 'authors': '지은이: 정유정', 'publisher': '은행나무', 'publication_year': '2011', 'isbn13': '9788956604992', 'addition_symbol': '03810', 'vol': '', 'class_no': '813.7', 'class_nm': '문학 > 한국문학 > 소설', 'loan_count': '1861', 'bookImageURL': 'http://image.aladin.co.kr/product/14712/55/cover/k202532053_1.jpg', 'bookDtlUrl': 'https://data4library.kr/bookV?seq=1153285'}}, {'doc': {'no': 69, 'ranking': '69', 'bookname': '가녀장의 시대 :이슬아 장편소설 ', 'authors': '지은이: 이슬아', 'publisher': '문학동네', 'publication_year': '2022', 'isbn13': '9788954688796', 'addition_symbol': '03810', 'vol': '', 'class_no': '813.7', 'class_nm': '문학 > 한국문학 > 소설', 'loan_count': '1859', 'bookImageURL': 'https://image.aladin.co.kr/product/30261/10/cover/8954688799_1.jpg', 'bookDtlUrl': 'https://data4library.kr/bookV?seq=6570833'}}, {'doc': {'no': 70, 'ranking': '70', 'bookname': '팩트풀니스 :우리가 세상을 오해하는 10가지 이유와 세상이 생각보다 괜찮은 이유 ', 'authors': '지은이: 한스 로슬링,옮긴이: 이창신', 'publisher': '김영사', 'publication_year': '2019', 'isbn13': '9788934985068', 'addition_symbol': '03300', 'vol': '', 'class_no': '331.1', 'class_nm': '사회과학 > 사회학, 사회문제 > 사회학', 'loan_count': '1851', 'bookImageURL': 'https://image.aladin.co.kr/product/18456/45/cover/8934985062_1.jpg', 'bookDtlUrl': 'https://data4library.kr/bookV?seq=5371595'}}, {'doc': {'no': 71, 'ranking': '71', 'bookname': '작별하지 않는다 :한강 장편소설 ', 'authors': '지은이: 한강', 'publisher': '문학동네', 'publication_year': '2021', 'isbn13': '9788954682152', 'addition_symbol': '03810', 'vol': '', 'class_no': '813.62', 'class_nm': '문학 > 한국문학 > 소설', 'loan_count': '1836', 'bookImageURL': 'https://image.aladin.co.kr/product/27877/5/cover/8954682154_1.jpg', 'bookDtlUrl': 'https://data4library.kr/bookV?seq=6086446'}}, {'doc': {'no': 72, 'ranking': '72', 'bookname': '당신은 결국 무엇이든 해내는 사람 :김상현 에세이 ', 'authors': '지은이: 김상현', 'publisher': '필름(필름출판사)', 'publication_year': '2022', 'isbn13': '9791188469994', 'addition_symbol': '03810', 'vol': '', 'class_no': '818', 'class_nm': '문학 > 한국문학 > 르포르타주 및 기타', 'loan_count': '1831', 'bookImageURL': 'https://image.aladin.co.kr/product/29234/19/cover/k572837292_1.jpg', 'bookDtlUrl': 'https://data4library.kr/bookV?seq=6441556'}}, {'doc': {'no': 73, 'ranking': '73', 'bookname': '도둑맞은 집중력 :집중력 위기의 시대, 삶의 주도권을 되찾는 법 ', 'authors': '요한 하리 지음 ;김하현 옮김', 'publisher': '어크로스(어크로스출판그룹)', 'publication_year': '2023', 'isbn13': '9791167740984', 'addition_symbol': '03180', 'vol': '', 'class_no': '181.27', 'class_nm': '철학 > 심리학 > 각론', 'loan_count': '1824', 'bookImageURL': 'https://image.aladin.co.kr/product/31559/97/cover/k682832859_1.jpg', 'bookDtlUrl': 'https://data4library.kr/bookV?seq=6682845'}}, {'doc': {'no': 74, 'ranking': '74', 'bookname': '럭키 드로우 =나만의 길을 찾을 때까지 인생의 레버를 당기는 법 /Lucky draw ', 'authors': '드로우앤드류 지음', 'publisher': '다산북스', 'publication_year': '2022', 'isbn13': '9791130679822', 'addition_symbol': '03190', 'vol': '', 'class_no': '325.211', 'class_nm': '사회과학 > 경제학 > 경영관리', 'loan_count': '1819', 'bookImageURL': 'https://image.aladin.co.kr/product/28738/4/cover/k052836785_1.jpg', 'bookDtlUrl': 'https://data4library.kr/bookV?seq=6393384'}}, {'doc': {'no': 75, 'ranking': '75', 'bookname': '랑과 나의 사막 :천선란 소설 ', 'authors': '지은이: 천선란', 'publisher': 'H(현대문학)', 'publication_year': '2022', 'isbn13': '9791167901354', 'addition_symbol': '04810', 'vol': '', 'class_no': '813.7', 'class_nm': '문학 > 한국문학 > 소설', 'loan_count': '1817', 'bookImageURL': 'https://image.aladin.co.kr/product/30395/18/cover/k572830160_1.jpg', 'bookDtlUrl': 'https://data4library.kr/bookV?seq=6580839'}}, {'doc': {'no': 76, 'ranking': '76', 'bookname': '왜 나는 너를 사랑하는가', 'authors': '알랭 드 보통 [지음];정영목 옮김', 'publisher': '청미래', 'publication_year': '2007', 'isbn13': '9788986836240', 'addition_symbol': '03840', 'vol': '', 'class_no': '843', 'class_nm': '문학 > 영미문학 > 소설', 'loan_count': '1794', 'bookImageURL': 'https://bookthumb-phinf.pstatic.net/cover/030/257/03025716.jpg?type=m1&udate=20180227', 'bookDtlUrl': 'https://data4library.kr/bookV?seq=2130072'}}, {'doc': {'no': 77, 'ranking': '77', 'bookname': '하얼빈 :김훈 장편소설 ', 'authors': '지은이: 김훈', 'publisher': '문학동네', 'publication_year': '2022', 'isbn13': '9788954699914', 'addition_symbol': '03810', 'vol': '', 'class_no': '813.62', 'class_nm': '문학 > 한국문학 > 소설', 'loan_count': '1782', 'bookImageURL': 'https://image.aladin.co.kr/product/29857/0/cover/895469991x_1.jpg', 'bookDtlUrl': 'https://data4library.kr/bookV?seq=6529620'}}, {'doc': {'no': 78, 'ranking': '78', 'bookname': '어떤 물질의 사랑 :천선란 소설집 ', 'authors': '지은이: 천선란', 'publisher': '아작', 'publication_year': '2020', 'isbn13': '9791165508340', 'addition_symbol': '03810', 'vol': '', 'class_no': '813.7', 'class_nm': '문학 > 한국문학 > 소설', 'loan_count': '1778', 'bookImageURL': 'https://image.aladin.co.kr/product/24605/89/cover/k532631174_1.jpg', 'bookDtlUrl': 'https://data4library.kr/bookV?seq=5708343'}}, {'doc': {'no': 79, 'ranking': '79', 'bookname': '행성어 서점 :김초엽 짧은 소설 ', 'authors': '지은이: 김초엽 ;그린이: 최인호', 'publisher': '마음산책', 'publication_year': '2021', 'isbn13': '9788960907003', 'addition_symbol': '03810', 'vol': '', 'class_no': '813.7', 'class_nm': '문학 > 한국문학 > 소설', 'loan_count': '1753', 'bookImageURL': 'https://image.aladin.co.kr/product/28219/93/cover/8960907006_1.jpg', 'bookDtlUrl': 'https://data4library.kr/bookV?seq=6326208'}}, {'doc': {'no': 80, 'ranking': '80', 'bookname': '파친코 :이민진 장편소설', 'authors': '이민진 지음 ;이미정 옮김', 'publisher': '문학사상', 'publication_year': '2018', 'isbn13': '9788970129822', 'addition_symbol': '04840', 'vol': '2', 'class_no': '843.6', 'class_nm': '문학 > 영미문학 > 소설', 'loan_count': '1749', 'bookImageURL': 'https://bookthumb-phinf.pstatic.net/cover/134/282/13428213.jpg?type=m1&udate=20180331', 'bookDtlUrl': 'https://data4library.kr/bookV?seq=3723461'}}, {'doc': {'no': 81, 'ranking': '81', 'bookname': '튜브 :손원평 장편소설 ', 'authors': '지은이: 손원평', 'publisher': '창비', 'publication_year': '2022', 'isbn13': '9788936434625', 'addition_symbol': '03810', 'vol': '', 'class_no': '813.7', 'class_nm': '문학 > 한국문학 > 소설', 'loan_count': '1739', 'bookImageURL': 'https://image.aladin.co.kr/product/29807/65/cover/8936434624_1.jpg', 'bookDtlUrl': 'https://data4library.kr/bookV?seq=6519670'}}, {'doc': {'no': 82, 'ranking': '82', 'bookname': '돌이킬 수 없는 약속 :야쿠마루 가쿠 장편소설 ', 'authors': '저자: 야쿠마루 가쿠 ;옮긴이: 김성미', 'publisher': 'Book plaza(북플라자)', 'publication_year': '2017', 'isbn13': '9788998274795', 'addition_symbol': '03830', 'vol': '', 'class_no': '833.6', 'class_nm': '문학 > 일본문학 > 소설', 'loan_count': '1725', 'bookImageURL': 'http://image.aladin.co.kr/product/10174/56/cover/s572533950_1.jpg', 'bookDtlUrl': 'https://data4library.kr/bookV?seq=3411733'}}, {'doc': {'no': 83, 'ranking': '83', 'bookname': '인간 실격', 'authors': '다자이 오사무 지음;김춘미 옮김', 'publisher': '민음사', 'publication_year': '2004', 'isbn13': '9788937461033', 'addition_symbol': '04830', 'vol': '103', 'class_no': '833.6', 'class_nm': '문학 > 일본문학 > 소설', 'loan_count': '1713', 'bookImageURL': 'https://bookthumb-phinf.pstatic.net/cover/001/510/00151055.jpg?type=m1&udate=20130129', 'bookDtlUrl': 'https://data4library.kr/bookV?seq=2376187'}}, {'doc': {'no': 84, 'ranking': '84', 'bookname': '언스크립티드 :부의 추월차선 완결판 ', 'authors': '엠제이 드마코 지음 ;안시열 옮김', 'publisher': '토트', 'publication_year': '2018', 'isbn13': '9791187444213', 'addition_symbol': '13320', 'vol': '', 'class_no': '325.211', 'class_nm': '사회과학 > 경제학 > 경영관리', 'loan_count': '1701', 'bookImageURL': 'http://image.aladin.co.kr/product/12926/54/cover/k702532384_1.jpg', 'bookDtlUrl': 'https://data4library.kr/bookV?seq=3690012'}}, {'doc': {'no': 85, 'ranking': '85', 'bookname': '노랜드 :천선란 소설집 ', 'authors': '지은이: 천선란', 'publisher': '한겨레엔', 'publication_year': '2022', 'isbn13': '9791160404944', 'addition_symbol': '03810', 'vol': '', 'class_no': '813.7', 'class_nm': '문학 > 한국문학 > 소설', 'loan_count': '1695', 'bookImageURL': 'https://image.aladin.co.kr/product/29647/97/cover/k862838785_1.jpg', 'bookDtlUrl': 'https://data4library.kr/bookV?seq=6482649'}}, {'doc': {'no': 86, 'ranking': '86', 'bookname': '유령의 마음으로 :임선우 소설집 ', 'authors': '지은이: 임선우', 'publisher': '민음사', 'publication_year': '2022', 'isbn13': '9788937442698', 'addition_symbol': '03810', 'vol': '', 'class_no': '813.7', 'class_nm': '문학 > 한국문학 > 소설', 'loan_count': '1685', 'bookImageURL': 'https://image.aladin.co.kr/product/29154/60/cover/8937442698_1.jpg', 'bookDtlUrl': 'https://data4library.kr/bookV?seq=6431218'}}, {'doc': {'no': 87, 'ranking': '87', 'bookname': '대도시의 사랑법 :박상영 연작소설 ', 'authors': '지은이: 박상영', 'publisher': '창비', 'publication_year': '2019', 'isbn13': '9788936437978', 'addition_symbol': '03810', 'vol': '', 'class_no': '813.7', 'class_nm': '문학 > 한국문학 > 소설', 'loan_count': '1684', 'bookImageURL': 'https://image.aladin.co.kr/product/19543/91/cover/8936437976_1.jpg', 'bookDtlUrl': 'https://data4library.kr/bookV?seq=5435897'}}, {'doc': {'no': 88, 'ranking': '88', 'bookname': '애쓰지 않아도 :최은영 짧은 소설 ', 'authors': '지은이: 최은영 ;그린이: 김세희', 'publisher': '마음산책', 'publication_year': '2022', 'isbn13': '9788960907348', 'addition_symbol': '03810', 'vol': '', 'class_no': '813.7', 'class_nm': '문학 > 한국문학 > 소설', 'loan_count': '1672', 'bookImageURL': 'https://image.aladin.co.kr/product/29377/31/cover/8960907340_1.jpg', 'bookDtlUrl': 'https://data4library.kr/bookV?seq=6453102'}}, {'doc': {'no': 89, 'ranking': '89', 'bookname': '살인자의 기억법 :김영하 장편소설 ', 'authors': '지은이: 김영하', 'publisher': '문학동네', 'publication_year': '2013', 'isbn13': '9788954622035', 'addition_symbol': '03810', 'vol': '', 'class_no': '813.62', 'class_nm': '문학 > 한국문학 > 소설', 'loan_count': '1661', 'bookImageURL': 'https://bookthumb-phinf.pstatic.net/cover/072/622/07262295.jpg?type=m1&udate=20180314', 'bookDtlUrl': 'https://data4library.kr/bookV?seq=1962014'}}, {'doc': {'no': 90, 'ranking': '90', 'bookname': '저주토끼 (리커버)', 'authors': '정보라 (지은이)', 'publisher': '아작', 'publication_year': '2022', 'isbn13': '9791166686665', 'addition_symbol': '', 'vol': '', 'class_no': '', 'class_nm': ' >  > ', 'loan_count': '1651', 'bookImageURL': 'https://image.aladin.co.kr/product/29084/68/cover/k122836656_1.jpg', 'bookDtlUrl': 'https://data4library.kr/bookV?seq=6424905'}}, {'doc': {'no': 91, 'ranking': '91', 'bookname': '우울할 땐 뇌과학 ', 'authors': '앨릭스 코브 지음 ;정지인 옮김', 'publisher': '푸른숲', 'publication_year': '2018', 'isbn13': '9791156757344', 'addition_symbol': '03180', 'vol': '', 'class_no': '513.8525', 'class_nm': '기술과학 > 의학 > 내과학', 'loan_count': '1650', 'bookImageURL': 'http://image.aladin.co.kr/product/13494/71/cover/k052532504_2.jpg', 'bookDtlUrl': 'https://data4library.kr/bookV?seq=3701387'}}, {'doc': {'no': 92, 'ranking': '92', 'bookname': '인스타 브레인 =몰입을 빼앗긴 시대, 똑똑한 뇌 사용법 /Insta brain ', 'authors': '안데르스 한센 지음 ;김아영 옮김', 'publisher': '동양북스', 'publication_year': '2020', 'isbn13': '9791157686179', 'addition_symbol': '03180', 'vol': '', 'class_no': '511.1813', 'class_nm': '기술과학 > 의학 > 기초의학', 'loan_count': '1645', 'bookImageURL': 'https://image.aladin.co.kr/product/23973/11/cover/k422639014_1.jpg', 'bookDtlUrl': 'https://data4library.kr/bookV?seq=5662297'}}, {'doc': {'no': 93, 'ranking': '93', 'bookname': '오늘 밤, 세계에서 이 눈물이 사라진다 해도 ', 'authors': '이치조 미사키 지음 ;김윤경 옮김', 'publisher': '바이포엠 스튜디오', 'publication_year': '2022', 'isbn13': '9791191043976', 'addition_symbol': '03830', 'vol': '', 'class_no': '833.6', 'class_nm': '문학 > 일본문학 > 소설', 'loan_count': '1585', 'bookImageURL': 'https://bookthumb-phinf.pstatic.net/cover/225/848/22584874.jpg?type=m1&udate=20220714', 'bookDtlUrl': 'https://data4library.kr/bookV?seq=6520904'}}, {'doc': {'no': 94, 'ranking': '94', 'bookname': '철학은 어떻게 삶의 무기가 되는가 :불확실한 삶을 돌파하는 50가지 생각 도구 ', 'authors': '야마구치 슈 지음 ;김윤경 옮김', 'publisher': '다산북스', 'publication_year': '2019', 'isbn13': '9791130620459', 'addition_symbol': '03100', 'vol': '', 'class_no': '100', 'class_nm': '철학 > 철학 > 철학', 'loan_count': '1575', 'bookImageURL': 'https://image.aladin.co.kr/product/17942/89/cover/k862534136_1.jpg', 'bookDtlUrl': 'https://data4library.kr/bookV?seq=5357487'}}, {'doc': {'no': 95, 'ranking': '95', 'bookname': '(EBS 다큐프라임) 자본주의 ', 'authors': 'EBS MEDIA 기획 ;EBS <자본주의> 제작팀 지음', 'publisher': '가나문화콘텐츠', 'publication_year': '2013', 'isbn13': '9788957365793', 'addition_symbol': '03320', 'vol': '', 'class_no': '322.01', 'class_nm': '사회과학 > 경제학 > 경제정책', 'loan_count': '1559', 'bookImageURL': 'https://bookthumb-phinf.pstatic.net/cover/073/148/07314866.jpg?type=m1&udate=20170801', 'bookDtlUrl': 'https://data4library.kr/bookV?seq=1975179'}}, {'doc': {'no': 96, 'ranking': '96', 'bookname': '달까지 가자 :장류진 장편소설 ', 'authors': '지은이: 장류진', 'publisher': '창비', 'publication_year': '2021', 'isbn13': '9788936434496', 'addition_symbol': '03810', 'vol': '', 'class_no': '813.7', 'class_nm': '문학 > 한국문학 > 소설', 'loan_count': '1557', 'bookImageURL': 'https://image.aladin.co.kr/product/25967/86/cover/k122737220_1.jpg', 'bookDtlUrl': 'https://data4library.kr/bookV?seq=5957041'}}, {'doc': {'no': 97, 'ranking': '97', 'bookname': '나인 :천선란 장편소설 ', 'authors': '지은이: 천선란', 'publisher': '창비', 'publication_year': '2021', 'isbn13': '9788936438609', 'addition_symbol': '03810', 'vol': '', 'class_no': '813.7', 'class_nm': '문학 > 한국문학 > 소설', 'loan_count': '1543', 'bookImageURL': 'https://image.aladin.co.kr/product/28218/87/cover/8936438603_1.jpg', 'bookDtlUrl': 'https://data4library.kr/bookV?seq=6326210'}}, {'doc': {'no': 98, 'ranking': '98', 'bookname': '부의 추월차선 :부자들이 말해 주지 않는 진정한 부를 얻는 방법 ', 'authors': '엠제이 드마코 지음 ;신소영 옮김', 'publisher': '북새통', 'publication_year': '2013', 'isbn13': '9788994702346', 'addition_symbol': '13320', 'vol': '', 'class_no': '327.04', 'class_nm': '사회과학 > 경제학 > 금융', 'loan_count': '1540', 'bookImageURL': 'https://bookthumb-phinf.pstatic.net/cover/072/907/07290748.jpg?type=m1&udate=20130828', 'bookDtlUrl': 'https://data4library.kr/bookV?seq=1967528'}}, {'doc': {'no': 99, 'ranking': '99', 'bookname': '이끼숲 :천선란 연작소설 ', 'authors': '지은이: 천선란 ;일러스트: 점선면', 'publisher': '자이언트북스', 'publication_year': '2023', 'isbn13': '9791191824216', 'addition_symbol': '03810', 'vol': '', 'class_no': '813.7', 'class_nm': '문학 > 한국문학 > 소설', 'loan_count': '1532', 'bookImageURL': 'https://image.aladin.co.kr/product/31568/81/cover/k672832652_1.jpg', 'bookDtlUrl': 'https://data4library.kr/bookV?seq=6682814'}}, {'doc': {'no': 100, 'ranking': '100', 'bookname': '데미안 ', 'authors': '지은이: 헤르만 헤세 ;옮긴이: 전영애', 'publisher': '민음사', 'publication_year': '2000', 'isbn13': '9788937460449', 'addition_symbol': '04850', 'vol': '44', 'class_no': '853', 'class_nm': '문학 > 독일문학 > 소설', 'loan_count': '1531', 'bookImageURL': 'https://bookthumb-phinf.pstatic.net/cover/000/051/00005186.jpg?type=m1&udate=20160509', 'bookDtlUrl': 'https://data4library.kr/bookV?seq=2374415'}}, {'doc': {'no': 101, 'ranking': '101', 'bookname': '더 좋은 삶을 위한 철학 ', 'authors': '지은이: 마이클 슈어 ;옮긴이: 염지선', 'publisher': '김영사', 'publication_year': '2023', 'isbn13': '9788934965909', 'addition_symbol': '03190', 'vol': '', 'class_no': '190', 'class_nm': '철학 > 윤리학, 도덕철학 > 윤리학, 도덕철학', 'loan_count': '1508', 'bookImageURL': 'https://image.aladin.co.kr/product/31132/45/cover/8934965908_1.jpg', 'bookDtlUrl': 'https://data4library.kr/bookV?seq=6643878'}}, {'doc': {'no': 102, 'ranking': '102', 'bookname': '메리골드 마음 세탁소 =윤정은 장편소설 /Marigold mind laundry ', 'authors': '글: 윤정은', 'publisher': '북로망스', 'publication_year': '2023', 'isbn13': '9791191891287', 'addition_symbol': '03810', 'vol': '', 'class_no': '813.7', 'class_nm': '문학 > 한국문학 > 소설', 'loan_count': '1506', 'bookImageURL': 'https://image.aladin.co.kr/product/31222/5/cover/k562831250_2.jpg', 'bookDtlUrl': 'https://data4library.kr/bookV?seq=6648006'}}, {'doc': {'no': 103, 'ranking': '103', 'bookname': '지적 대화를 위한 넓고 얕은 지식 0 :지혜를 찾아 138억 년을 달리는 시간 여행서 ', 'authors': '채사장 지음', 'publisher': 'Whale Books(웨일북)', 'publication_year': '2019', 'isbn13': '9791190313131', 'addition_symbol': '03100', 'vol': '', 'class_no': '001.3', 'class_nm': '총류 > 총류 > 지식, 학문 일반', 'loan_count': '1501', 'bookImageURL': 'https://image.aladin.co.kr/product/21984/15/cover/k622636607_2.jpg', 'bookDtlUrl': 'https://data4library.kr/bookV?seq=5534696'}}, {'doc': {'no': 104, 'ranking': '104', 'bookname': '참을 수 없는 존재의 가벼움 ', 'authors': '지은이: 밀란 쿤데라 ;옮긴이: 이재룡', 'publisher': '민음사', 'publication_year': '2018', 'isbn13': '9788937437564', 'addition_symbol': '03860', 'vol': '', 'class_no': '892.96', 'class_nm': '문학 > 기타 제문학 > 인도-유럽계문학', 'loan_count': '1490', 'bookImageURL': 'http://image.aladin.co.kr/product/15251/16/cover/8937437562_1.jpg', 'bookDtlUrl': 'https://data4library.kr/bookV?seq=3788932'}}, {'doc': {'no': 105, 'ranking': '105', 'bookname': '비행운 :김애란 소설집 ', 'authors': '지은이: 김애란', 'publisher': '문학과지성사', 'publication_year': '2012', 'isbn13': '9788932023151', 'addition_symbol': '03810', 'vol': '', 'class_no': '813.7', 'class_nm': '문학 > 한국문학 > 소설', 'loan_count': '1487', 'bookImageURL': 'http://image.aladin.co.kr/product/1801/21/cover/8932023158_1.jpg', 'bookDtlUrl': 'https://data4library.kr/bookV?seq=1855307'}}, {'doc': {'no': 106, 'ranking': '106', 'bookname': '가재가 노래하는 곳 :델리아 오언스 장편소설 ', 'authors': '지은이: 델리아 오언스 ;옮긴이: 김선형', 'publisher': '살림출판사', 'publication_year': '2019', 'isbn13': '9788952240569', 'addition_symbol': '03840', 'vol': '', 'class_no': '843.6', 'class_nm': '문학 > 영미문학 > 소설', 'loan_count': '1480', 'bookImageURL': 'https://image.aladin.co.kr/product/19469/77/cover/8952240561_2.jpg', 'bookDtlUrl': 'https://data4library.kr/bookV?seq=5429697'}}, {'doc': {'no': 107, 'ranking': '107', 'bookname': '코스모스 :특별판 ', 'authors': '칼 세이건 지음 ;홍승수 옮김', 'publisher': '사이언스북스', 'publication_year': '2006', 'isbn13': '9788983711892', 'addition_symbol': '03400', 'vol': '', 'class_no': '443.1', 'class_nm': '자연과학 > 천문학 > 기술천문학', 'loan_count': '1478', 'bookImageURL': 'http://image.aladin.co.kr/product/87/9/cover/8983711892_2.jpg', 'bookDtlUrl': 'https://data4library.kr/bookV?seq=2083728'}}, {'doc': {'no': 108, 'ranking': '108', 'bookname': '데일 카네기 인간관계론 ', 'authors': '데일 카네기 지음 ;임상훈 옮김', 'publisher': '현대지성', 'publication_year': '2019', 'isbn13': '9791187142560', 'addition_symbol': '03320', 'vol': '', 'class_no': '331.18', 'class_nm': '사회과학 > 사회학, 사회문제 > 사회학', 'loan_count': '1470', 'bookImageURL': 'https://image.aladin.co.kr/product/20945/79/cover/k032636279_1.jpg', 'bookDtlUrl': 'https://data4library.kr/bookV?seq=5484946'}}, {'doc': {'no': 109, 'ranking': '109', 'bookname': '레버리지 :자본주의 속에 숨겨진 부의 비밀 ', 'authors': '롭 무어 지음 ;김유미 옮김', 'publisher': '다산북스', 'publication_year': '2017', 'isbn13': '9791130612249', 'addition_symbol': '13320', 'vol': '', 'class_no': '327.04', 'class_nm': '사회과학 > 경제학 > 금융', 'loan_count': '1467', 'bookImageURL': 'http://image.aladin.co.kr/product/15652/85/cover/k212533034_1.jpg', 'bookDtlUrl': 'https://data4library.kr/bookV?seq=3437844'}}, {'doc': {'no': 110, 'ranking': '110', 'bookname': '역사의 쓸모 :자유롭고 떳떳한 삶을 위한 22가지 통찰 ', 'authors': '최태성 지음', 'publisher': '다산북스', 'publication_year': '2019', 'isbn13': '9791130621968', 'addition_symbol': '03900', 'vol': '', 'class_no': '904', 'class_nm': '역사 > 역사 > 강연집, 사평', 'loan_count': '1466', 'bookImageURL': 'https://image.aladin.co.kr/product/19433/93/cover/k152635416_1.jpg', 'bookDtlUrl': 'https://data4library.kr/bookV?seq=5428401'}}, {'doc': {'no': 111, 'ranking': '111', 'bookname': '이어령의 마지막 수업 ', 'authors': '김지수 지음', 'publisher': '열림원', 'publication_year': '2021', 'isbn13': '9791170400523', 'addition_symbol': '03100', 'vol': '', 'class_no': '199.1', 'class_nm': '철학 > 윤리학, 도덕철학 > 도덕훈, 교훈', 'loan_count': '1465', 'bookImageURL': 'https://image.aladin.co.kr/product/28212/10/cover/k762835176_2.jpg', 'bookDtlUrl': 'https://data4library.kr/bookV?seq=6326227'}}, {'doc': {'no': 112, 'ranking': '112', 'bookname': '자존감 수업 :하루에 하나, 나를 사랑하게 되는 자존감 회복 훈련 ', 'authors': '윤홍균 지음', 'publisher': '심플라이프', 'publication_year': '2016', 'isbn13': '9791186757093', 'addition_symbol': '03190', 'vol': '', 'class_no': '182.1', 'class_nm': '철학 > 심리학 > 차이심리학', 'loan_count': '1448', 'bookImageURL': 'http://image.aladin.co.kr/product/8679/31/cover/k372535696_1.jpg', 'bookDtlUrl': 'https://data4library.kr/bookV?seq=3320490'}}, {'doc': {'no': 113, 'ranking': '113', 'bookname': '세이노의 가르침 :피보다 진하게 살아라 ', 'authors': '세이노 지음', 'publisher': '데이원', 'publication_year': '2023', 'isbn13': '9791168473690', 'addition_symbol': '03190', 'vol': '', 'class_no': '325.211', 'class_nm': '사회과학 > 경제학 > 경영관리', 'loan_count': '1444', 'bookImageURL': 'https://image.aladin.co.kr/product/30929/51/cover/k732831392_1.jpg', 'bookDtlUrl': 'https://data4library.kr/bookV?seq=6628064'}}, {'doc': {'no': 114, 'ranking': '114', 'bookname': '정의란 무엇인가 ', 'authors': '지은이: 마이클 샌델 ;옮긴이: 김명철', 'publisher': '미래엔', 'publication_year': '2014', 'isbn13': '9788937834790', 'addition_symbol': '03300', 'vol': '', 'class_no': '193', 'class_nm': '철학 > 윤리학, 도덕철학 > 국가 및 정치윤리', 'loan_count': '1434', 'bookImageURL': 'http://image.aladin.co.kr/product/10826/23/cover/k742530554_1.jpg', 'bookDtlUrl': 'https://data4library.kr/bookV?seq=2763903'}}, {'doc': {'no': 115, 'ranking': '115', 'bookname': '파과 :구병모 장편소설 ', 'authors': '지은이: 구병모', 'publisher': '자음과모음', 'publication_year': '2013', 'isbn13': '9788957077740', 'addition_symbol': '03810', 'vol': '', 'class_no': '813.7', 'class_nm': '문학 > 한국문학 > 소설', 'loan_count': '1431', 'bookImageURL': 'https://bookthumb-phinf.pstatic.net/cover/072/689/07268920.jpg?type=m1&udate=20150801', 'bookDtlUrl': 'https://data4library.kr/bookV?seq=1962669'}}, {'doc': {'no': 116, 'ranking': '116', 'bookname': '기분이 태도가 되지 않게 :기분 따라 행동하다 손해 보는 당신을 위한 심리 수업 ', 'authors': '레몬심리 지음 ;박영란 옮김', 'publisher': '웅진씽크빅', 'publication_year': '2020', 'isbn13': '9788901243658', 'addition_symbol': '03180', 'vol': '', 'class_no': '181.71', 'class_nm': '철학 > 심리학 > 각론', 'loan_count': '1429', 'bookImageURL': 'https://image.aladin.co.kr/product/24368/89/cover/8901243652_1.jpg', 'bookDtlUrl': 'https://data4library.kr/bookV?seq=5698929'}}, {'doc': {'no': 117, 'ranking': '116', 'bookname': '봉제인형 살인사건 :다니엘 콜 장편소설 ', 'authors': '저자: 다니엘 콜 ;옮긴이: 유혜인', 'publisher': 'Book plaza(북플라자)', 'publication_year': '2017', 'isbn13': '9788998274931', 'addition_symbol': '03840', 'vol': '', 'class_no': '843.6', 'class_nm': '문학 > 영미문학 > 소설', 'loan_count': '1429', 'bookImageURL': 'https://image.aladin.co.kr/product/11997/87/cover/8998274930_1.jpg', 'bookDtlUrl': 'https://data4library.kr/bookV?seq=3649594'}}, {'doc': {'no': 118, 'ranking': '118', 'bookname': '친밀한 이방인 :정한아 장편소설 ', 'authors': '지은이: 정한아', 'publisher': '문학동네', 'publication_year': '2017', 'isbn13': '9788954648523', 'addition_symbol': '03810', 'vol': '', 'class_no': '813.7', 'class_nm': '문학 > 한국문학 > 소설', 'loan_count': '1417', 'bookImageURL': 'https://image.aladin.co.kr/product/11945/32/cover/8954648525_1.jpg', 'bookDtlUrl': 'https://data4library.kr/bookV?seq=3630749'}}, {'doc': {'no': 119, 'ranking': '119', 'bookname': '이기적 유전자 ', 'authors': '리처드 도킨스 지음 ;이상임 옮김', 'publisher': '을유문화사', 'publication_year': '2018', 'isbn13': '9788932473901', 'addition_symbol': '03470', 'vol': '', 'class_no': '491.51', 'class_nm': '자연과학 > 동물학 > 일반 동물학', 'loan_count': '1416', 'bookImageURL': 'https://image.aladin.co.kr/product/17048/25/cover/8932473900_1.jpg', 'bookDtlUrl': 'https://data4library.kr/bookV?seq=3921678'}}, {'doc': {'no': 120, 'ranking': '120', 'bookname': '라플라스의 마녀 :히가시노 게이고 장편소설 ', 'authors': '지은이: 히가시노 게이고 ;옮긴이: 양윤옥', 'publisher': '현대문학', 'publication_year': '2016', 'isbn13': '9788972757573', 'addition_symbol': '03830', 'vol': '', 'class_no': '833.6', 'class_nm': '문학 > 일본문학 > 소설', 'loan_count': '1403', 'bookImageURL': 'http://image.aladin.co.kr/product/7288/55/cover/8972757578_1.jpg', 'bookDtlUrl': 'https://data4library.kr/bookV?seq=3107992'}}, {'doc': {'no': 121, 'ranking': '121', 'bookname': '날씨가 좋으면 찾아가겠어요 :이도우 장편소설 ', 'authors': '지은이: 이도우', 'publisher': '시공사', 'publication_year': '2018', 'isbn13': '9788952791160', 'addition_symbol': '04810', 'vol': '', 'class_no': '813.7', 'class_nm': '문학 > 한국문학 > 소설', 'loan_count': '1400', 'bookImageURL': 'https://image.aladin.co.kr/product/15411/84/cover/8952791169_1.jpg', 'bookDtlUrl': 'https://data4library.kr/bookV?seq=3793737'}}, {'doc': {'no': 122, 'ranking': '122', 'bookname': '총, 균, 쇠 :무기, 병균, 금속 은 인류 의 운명 을 어떻게 바꿨는가 ', 'authors': '재레드 다이아몬드 지음 ;김진준 옮김', 'publisher': '문학사상', 'publication_year': '2012', 'isbn13': '9788970127248', 'addition_symbol': '03900', 'vol': '', 'class_no': '389', 'class_nm': '사회과학 > 풍속, 민속학 > 민족학', 'loan_count': '1397', 'bookImageURL': 'http://image.aladin.co.kr/product/61/50/cover/8970127240_2.jpg', 'bookDtlUrl': 'https://data4library.kr/bookV?seq=954778'}}, {'doc': {'no': 123, 'ranking': '123', 'bookname': '어른의 어휘력 :말에 품격을 더하고 세상을 올바르게 이해하는 힘 ', 'authors': '유선경 지음', 'publisher': '앤의서재', 'publication_year': '2020', 'isbn13': '9791190710053', 'addition_symbol': '03800', 'vol': '', 'class_no': '802.5', 'class_nm': '문학 > 문학 > 문장작법, 수사학', 'loan_count': '1394', 'bookImageURL': 'https://image.aladin.co.kr/product/24779/29/cover/k102631725_1.jpg', 'bookDtlUrl': 'https://data4library.kr/bookV?seq=5731697'}}, {'doc': {'no': 124, 'ranking': '124', 'bookname': '파친코 :이민진 장편소설 ', 'authors': '지은이: 이민진 ;옮긴이: 신승미', 'publisher': '인플루엔셜', 'publication_year': '2022', 'isbn13': '9791168340510', 'addition_symbol': '04840', 'vol': '1', 'class_no': '843.6', 'class_nm': '문학 > 영미문학 > 소설', 'loan_count': '1389', 'bookImageURL': 'https://image.aladin.co.kr/product/29496/39/cover/k202838509_2.jpg', 'bookDtlUrl': 'https://data4library.kr/bookV?seq=6512857'}}, {'doc': {'no': 125, 'ranking': '125', 'bookname': '파쇄 :일단 마음먹고 칼을 집었으면, 뜸 들이지 마 ', 'authors': '지은이: 구병모', 'publisher': '위즈덤하우스', 'publication_year': '2023', 'isbn13': '9791168127012', 'addition_symbol': '04810', 'vol': '', 'class_no': '813.7', 'class_nm': '문학 > 한국문학 > 소설', 'loan_count': '1386', 'bookImageURL': 'https://image.aladin.co.kr/product/31273/29/cover/k592832565_1.jpg', 'bookDtlUrl': 'https://data4library.kr/bookV?seq=6652567'}}, {'doc': {'no': 126, 'ranking': '126', 'bookname': '신경 끄기의 기술 :인생에서 가장 중요한것만 남기는 힘 ', 'authors': '마크 맨슨 지음 ;한재호 옮김', 'publisher': '웅진씽크빅', 'publication_year': '2017', 'isbn13': '9788901219943', 'addition_symbol': '03190', 'vol': '', 'class_no': '199.1', 'class_nm': '철학 > 윤리학, 도덕철학 > 도덕훈, 교훈', 'loan_count': '1384', 'bookImageURL': 'https://image.aladin.co.kr/product/12005/79/cover/8901219948_1.jpg', 'bookDtlUrl': 'https://data4library.kr/bookV?seq=3649711'}}, {'doc': {'no': 127, 'ranking': '127', 'bookname': 'H마트에서 울다 ', 'authors': '미셸 자우너 지음 ;정혜윤 옮김', 'publisher': '문학동네', 'publication_year': '2022', 'isbn13': '9788954683371', 'addition_symbol': '03840', 'vol': '', 'class_no': '848', 'class_nm': '문학 > 영미문학 > 르포르타주 및 기타', 'loan_count': '1376', 'bookImageURL': 'https://image.aladin.co.kr/product/28962/10/cover/8954683371_1.jpg', 'bookDtlUrl': 'https://data4library.kr/bookV?seq=6412735'}}, {'doc': {'no': 128, 'ranking': '128', 'bookname': '아비투스 :인간의 품격을 결정하는 7가지 자본 ', 'authors': '도리스 메르틴 지음 ;배명자 옮김', 'publisher': '다산북스', 'publication_year': '2020', 'isbn13': '9791130630762', 'addition_symbol': '03300', 'vol': '', 'class_no': '325.211', 'class_nm': '사회과학 > 경제학 > 경영관리', 'loan_count': '1373', 'bookImageURL': 'https://bookthumb-phinf.pstatic.net/cover/164/403/16440333.jpg?type=m1&udate=20200801', 'bookDtlUrl': 'https://data4library.kr/bookV?seq=5733967'}}, {'doc': {'no': 129, 'ranking': '129', 'bookname': '브로콜리 펀치 :이유리 소설집 ', 'authors': '지은이: 이유리', 'publisher': '문학과지성사', 'publication_year': '2021', 'isbn13': '9788932039114', 'addition_symbol': '03810', 'vol': '', 'class_no': '813.7', 'class_nm': '문학 > 한국문학 > 소설', 'loan_count': '1364', 'bookImageURL': 'https://image.aladin.co.kr/product/28210/51/cover/8932039119_1.jpg', 'bookDtlUrl': 'https://data4library.kr/bookV?seq=6326236'}}, {'doc': {'no': 130, 'ranking': '129', 'bookname': '(2020) 시는 노래가 되어 ', 'authors': '지은이: 한국가곡작사가협회', 'publisher': '조은', 'publication_year': '2020', 'isbn13': '9791196617127', 'addition_symbol': '13810', 'vol': '', 'class_no': '811.7', 'class_nm': '문학 > 한국문학 > 시', 'loan_count': '1364', 'bookImageURL': 'https://image.aladin.co.kr/product/29206/93/cover/k922837381_1.jpg', 'bookDtlUrl': 'https://data4library.kr/bookV?seq=6438962'}}, {'doc': {'no': 131, 'ranking': '131', 'bookname': '우리는 여전히 삶을 사랑하는가 ', 'authors': '지은이: 에리히 프롬 ;옮긴이: 장혜경', 'publisher': '김영사', 'publication_year': '2022', 'isbn13': '9788934949671', 'addition_symbol': '03180', 'vol': '', 'class_no': '181.71', 'class_nm': '철학 > 심리학 > 각론', 'loan_count': '1360', 'bookImageURL': 'https://image.aladin.co.kr/product/28784/70/cover/8934949678_1.jpg', 'bookDtlUrl': 'https://data4library.kr/bookV?seq=6398890'}}, {'doc': {'no': 132, 'ranking': '132', 'bookname': '인생의 역사 :신형철 시화 ', 'authors': '지은이: 신형철', 'publisher': '난다', 'publication_year': '2022', 'isbn13': '9791191859379', 'addition_symbol': '03810', 'vol': '', 'class_no': '809.1', 'class_nm': '문학 > 문학 > 문학사, 평론', 'loan_count': '1347', 'bookImageURL': 'https://image.aladin.co.kr/product/30328/61/cover/k362839230_1.jpg', 'bookDtlUrl': 'https://data4library.kr/bookV?seq=6575295'}}, {'doc': {'no': 133, 'ranking': '133', 'bookname': '언어의 온도 :말과 글에는 나름의 따뜻함과 차가움이 있다 ', 'authors': '지은이: 이기주', 'publisher': '말글터', 'publication_year': '2016', 'isbn13': '9791195522125', 'addition_symbol': '03810', 'vol': '', 'class_no': '818', 'class_nm': '문학 > 한국문학 > 르포르타주 및 기타', 'loan_count': '1338', 'bookImageURL': 'http://image.aladin.co.kr/product/14842/6/cover/k742532452_1.jpg', 'bookDtlUrl': 'https://data4library.kr/bookV?seq=3278940'}}, {'doc': {'no': 134, 'ranking': '134', 'bookname': '트렌드 코리아 2023 :더 높은 도약을 준비하는 검은 토끼의 해 ', 'authors': '지은이: 김난도,추예린', 'publisher': '미래의창', 'publication_year': '2022', 'isbn13': '9788959897094', 'addition_symbol': '13320', 'vol': '2023', 'class_no': '320.911', 'class_nm': '사회과학 > 경제학 > 경제학', 'loan_count': '1328', 'bookImageURL': 'https://image.aladin.co.kr/product/30169/22/cover/8959897094_2.jpg', 'bookDtlUrl': 'https://data4library.kr/bookV?seq=6562784'}}, {'doc': {'no': 135, 'ranking': '135', 'bookname': '상실의 시대 :무라카미 하루키 장편소설 ', 'authors': '지은이: 무라카미 하루키 ;옮긴이: 유유정', 'publisher': '문학사상', 'publication_year': '2011', 'isbn13': '9788970123691', 'addition_symbol': '03830', 'vol': '', 'class_no': '833.6', 'class_nm': '문학 > 일본문학 > 소설', 'loan_count': '1320', 'bookImageURL': 'https://bookthumb-phinf.pstatic.net/cover/000/203/00020349.jpg?type=m1&udate=20120904', 'bookDtlUrl': 'https://data4library.kr/bookV?seq=863463'}}, {'doc': {'no': 136, 'ranking': '136', 'bookname': '므레모사 :김초엽 소설 ', 'authors': '지은이: 김초엽', 'publisher': 'H(현대문학)', 'publication_year': '2021', 'isbn13': '9791167900821', 'addition_symbol': '04810', 'vol': '', 'class_no': '813.7', 'class_nm': '문학 > 한국문학 > 소설', 'loan_count': '1313', 'bookImageURL': 'https://image.aladin.co.kr/product/28554/97/cover/k162835148_1.jpg', 'bookDtlUrl': 'https://data4library.kr/bookV?seq=6368074'}}, {'doc': {'no': 137, 'ranking': '137', 'bookname': '노르웨이의 숲 =Norwegian wood ', 'authors': '지은이: 무라카미 하루키 ;옮긴이: 양억관', 'publisher': '민음사', 'publication_year': '2017', 'isbn13': '9788937434488', 'addition_symbol': '03830', 'vol': '', 'class_no': '833.6', 'class_nm': '문학 > 일본문학 > 소설', 'loan_count': '1308', 'bookImageURL': 'https://bookthumb-phinf.pstatic.net/cover/124/287/12428742.jpg?type=m1&udate=20170930', 'bookDtlUrl': 'https://data4library.kr/bookV?seq=3535735'}}, {'doc': {'no': 138, 'ranking': '138', 'bookname': '아라의 소설 :정세랑 미니픽션 ', 'authors': '지은이: 정세랑', 'publisher': '안온(안온북스)', 'publication_year': '2022', 'isbn13': '9791197873065', 'addition_symbol': '03810', 'vol': '', 'class_no': '813.7', 'class_nm': '문학 > 한국문학 > 소설', 'loan_count': '1307', 'bookImageURL': 'https://image.aladin.co.kr/product/29980/87/cover/k172838246_1.jpg', 'bookDtlUrl': 'https://data4library.kr/bookV?seq=6543167'}}, {'doc': {'no': 139, 'ranking': '139', 'bookname': '지구인만큼 지구를 사랑할 순 없어 :정세랑 에세이 ', 'authors': '지은이: 정세랑', 'publisher': '위즈덤하우스', 'publication_year': '2021', 'isbn13': '9791191583793', 'addition_symbol': '03810', 'vol': '', 'class_no': '816.7', 'class_nm': '문학 > 한국문학 > 일기, 서간, 기행', 'loan_count': '1301', 'bookImageURL': 'https://image.aladin.co.kr/product/27318/46/cover/k272732228_2.jpg', 'bookDtlUrl': 'https://data4library.kr/bookV?seq=6001331'}}, {'doc': {'no': 140, 'ranking': '140', 'bookname': '1차원이 되고 싶어 :박상영 장편소설 ', 'authors': '지은이: 박상영', 'publisher': '문학동네', 'publication_year': '2021', 'isbn13': '9788954682749', 'addition_symbol': '03810', 'vol': '', 'class_no': '813.7', 'class_nm': '문학 > 한국문학 > 소설', 'loan_count': '1285', 'bookImageURL': 'https://image.aladin.co.kr/product/28031/82/cover/895468274x_1.jpg', 'bookDtlUrl': 'https://data4library.kr/bookV?seq=6309156'}}, {'doc': {'no': 141, 'ranking': '141', 'bookname': '프레임 :나를 바꾸는 심리학의 지혜 ', 'authors': '최인철 지음', 'publisher': '21세기북스(북이십일 21세기북스)', 'publication_year': '2016', 'isbn13': '9788950966447', 'addition_symbol': '03320', 'vol': '', 'class_no': '189', 'class_nm': '철학 > 심리학 > 응용심리학 일반', 'loan_count': '1278', 'bookImageURL': 'https://bookthumb-phinf.pstatic.net/cover/110/066/11006642.jpg?type=m1&udate=20180728', 'bookDtlUrl': 'https://data4library.kr/bookV?seq=3347321'}}, {'doc': {'no': 142, 'ranking': '141', 'bookname': '책들의 부엌 :김지혜 장편소설 ', 'authors': '지은이: 김지혜', 'publisher': '팩토리나인', 'publication_year': '2022', 'isbn13': '9791165345204', 'addition_symbol': '03810', 'vol': '', 'class_no': '813.7', 'class_nm': '문학 > 한국문학 > 소설', 'loan_count': '1278', 'bookImageURL': 'https://image.aladin.co.kr/product/29403/8/cover/k162837610_1.jpg', 'bookDtlUrl': 'https://data4library.kr/bookV?seq=6455241'}}, {'doc': {'no': 143, 'ranking': '143', 'bookname': '사랑의 기술 ', 'authors': '에리히 프롬 지음 ;황문수 옮김', 'publisher': '문예출판사', 'publication_year': '2019', 'isbn13': '9788931011623', 'addition_symbol': '03180', 'vol': '', 'class_no': '181.71', 'class_nm': '철학 > 심리학 > 각론', 'loan_count': '1267', 'bookImageURL': 'https://image.aladin.co.kr/product/20329/93/cover/8931011628_1.jpg', 'bookDtlUrl': 'https://data4library.kr/bookV?seq=5463382'}}, {'doc': {'no': 144, 'ranking': '144', 'bookname': '내가 되는 꿈 :최진영 장편소설 ', 'authors': '지은이: 최진영', 'publisher': 'H(현대문학)', 'publication_year': '2021', 'isbn13': '9791190885621', 'addition_symbol': '04810', 'vol': '', 'class_no': '813.7', 'class_nm': '문학 > 한국문학 > 소설', 'loan_count': '1265', 'bookImageURL': 'https://image.aladin.co.kr/product/26021/21/cover/k892738836_1.jpg', 'bookDtlUrl': 'https://data4library.kr/bookV?seq=5928142'}}, {'doc': {'no': 145, 'ranking': '144', 'bookname': '죽고 싶지만 떡볶이는 먹고 싶어 :백세희 에세이 ', 'authors': '지은이: 백세희', 'publisher': '흔', 'publication_year': '2018', 'isbn13': '9791196394509', 'addition_symbol': '03810', 'vol': '', 'class_no': '818', 'class_nm': '문학 > 한국문학 > 르포르타주 및 기타', 'loan_count': '1265', 'bookImageURL': 'https://image.aladin.co.kr/product/15136/29/cover/k962533360_1.jpg', 'bookDtlUrl': 'https://data4library.kr/bookV?seq=3768386'}}, {'doc': {'no': 146, 'ranking': '146', 'bookname': '그릿 :IQ, 재능, 환경을 뛰어넘는 열정적 끈기의 힘 ', 'authors': '앤절라 더크워스 지음 ;김미정 옮김', 'publisher': '비즈니스북스', 'publication_year': '2016', 'isbn13': '9791186805398', 'addition_symbol': '03190', 'vol': '', 'class_no': '325.211', 'class_nm': '사회과학 > 경제학 > 경영관리', 'loan_count': '1263', 'bookImageURL': 'https://bookthumb-phinf.pstatic.net/cover/111/660/11166008.jpg?type=m1&udate=20171115', 'bookDtlUrl': 'https://data4library.kr/bookV?seq=3355591'}}, {'doc': {'no': 147, 'ranking': '147', 'bookname': '1Q84 :무라카미 하루키 장편소설', 'authors': '지은이: 무라카미 하루키 ;옮긴이: 양윤옥', 'publisher': '문학동네', 'publication_year': '2009', 'isbn13': '9788954608640', 'addition_symbol': '04830', 'vol': '1', 'class_no': '833.6', 'class_nm': '문학 > 일본문학 > 소설', 'loan_count': '1260', 'bookImageURL': 'https://bookthumb-phinf.pstatic.net/cover/060/537/06053729.jpg?type=m1&udate=20130406', 'bookDtlUrl': 'https://data4library.kr/bookV?seq=2370295'}}, {'doc': {'no': 148, 'ranking': '148', 'bookname': '젊은 ADHD의 슬픔 :정지음 에세이 ', 'authors': '지은이: 정지음', 'publisher': '민음사', 'publication_year': '2021', 'isbn13': '9788937472114', 'addition_symbol': '03810', 'vol': '', 'class_no': '513.854904', 'class_nm': '기술과학 > 의학 > 내과학', 'loan_count': '1257', 'bookImageURL': 'https://image.aladin.co.kr/product/27432/73/cover/8937472112_1.jpg', 'bookDtlUrl': 'https://data4library.kr/bookV?seq=6039548'}}, {'doc': {'no': 149, 'ranking': '149', 'bookname': '마법소녀 은퇴합니다 :박서련 소설 ', 'authors': '지은이: 박서련', 'publisher': '창비', 'publication_year': '2022', 'isbn13': '9788936438739', 'addition_symbol': '03810', 'vol': '', 'class_no': '813.7', 'class_nm': '문학 > 한국문학 > 소설', 'loan_count': '1256', 'bookImageURL': 'https://image.aladin.co.kr/product/29250/64/cover/8936438735_1.jpg', 'bookDtlUrl': 'https://data4library.kr/bookV?seq=6442398'}}, {'doc': {'no': 150, 'ranking': '149', 'bookname': '불안 ', 'authors': '지은이: 알랭 드 보통 ;정영목 옮김', 'publisher': '은행나무', 'publication_year': '2012', 'isbn13': '9788956605593', 'addition_symbol': '03840', 'vol': '', 'class_no': '332.6', 'class_nm': '사회과학 > 사회학, 사회문제 > 사회조직 및 제도', 'loan_count': '1256', 'bookImageURL': 'https://bookthumb-phinf.pstatic.net/cover/067/930/06793081.jpg?type=m1&udate=20171011', 'bookDtlUrl': 'https://data4library.kr/bookV?seq=1226611'}}, {'doc': {'no': 151, 'ranking': '151', 'bookname': '다섯 번째 감각 :김보영 소설집 ', 'authors': '지은이: 김보영', 'publisher': '아작', 'publication_year': '2022', 'isbn13': '9791166686603', 'addition_symbol': '03810', 'vol': '', 'class_no': '813.7', 'class_nm': '문학 > 한국문학 > 소설', 'loan_count': '1255', 'bookImageURL': 'https://image.aladin.co.kr/product/28736/71/cover/k442836780_1.jpg', 'bookDtlUrl': 'https://data4library.kr/bookV?seq=6393113'}}, {'doc': {'no': 152, 'ranking': '152', 'bookname': '옥상에서 만나요 :정세랑 소설집 ', 'authors': '지은이: 정세랑', 'publisher': '창비', 'publication_year': '2018', 'isbn13': '9788936437534', 'addition_symbol': '03810', 'vol': '', 'class_no': '813.7', 'class_nm': '문학 > 한국문학 > 소설', 'loan_count': '1249', 'bookImageURL': 'https://image.aladin.co.kr/product/16234/13/cover/8936437534_1.jpg', 'bookDtlUrl': 'https://data4library.kr/bookV?seq=5232202'}}, {'doc': {'no': 153, 'ranking': '153', 'bookname': '여기는 커스터드, 특별한 도시락을 팝니다 ', 'authors': '가토 겐 지음 ;양지윤 옮김', 'publisher': '필름(필름 출판사)', 'publication_year': '2022', 'isbn13': '9791192403076', 'addition_symbol': '03830', 'vol': '', 'class_no': '833.6', 'class_nm': '문학 > 일본문학 > 소설', 'loan_count': '1246', 'bookImageURL': 'https://image.aladin.co.kr/product/29782/66/cover/k452838501_1.jpg', 'bookDtlUrl': 'https://data4library.kr/bookV?seq=6513281'}}, {'doc': {'no': 154, 'ranking': '154', 'bookname': '더 셜리 클럽 :박서련 장편소설 ', 'authors': '지은이: 박서련', 'publisher': '민음사', 'publication_year': '2020', 'isbn13': '9788937473296', 'addition_symbol': '04810', 'vol': '', 'class_no': '813.7', 'class_nm': '문학 > 한국문학 > 소설', 'loan_count': '1244', 'bookImageURL': 'https://image.aladin.co.kr/product/24944/10/cover/8937473291_1.jpg', 'bookDtlUrl': 'https://data4library.kr/bookV?seq=5744567'}}, {'doc': {'no': 155, 'ranking': '155', 'bookname': '12가지 인생의 법칙 :혼돈의 해독제 ', 'authors': '조던 B. 피터슨 지음 ;강주헌 옮김', 'publisher': '메이븐', 'publication_year': '2018', 'isbn13': '9791196067694', 'addition_symbol': '03180', 'vol': '', 'class_no': '199.1', 'class_nm': '철학 > 윤리학, 도덕철학 > 도덕훈, 교훈', 'loan_count': '1242', 'bookImageURL': 'https://image.aladin.co.kr/product/17215/26/cover/k442534993_1.jpg', 'bookDtlUrl': 'https://data4library.kr/bookV?seq=5230775'}}, {'doc': {'no': 156, 'ranking': '156', 'bookname': '아주 오랜만에 행복하다는 느낌 :백수린 에세이 ', 'authors': '지은이: 백수린', 'publisher': '창비', 'publication_year': '2022', 'isbn13': '9788936438869', 'addition_symbol': '03810', 'vol': '', 'class_no': '814.7', 'class_nm': '문학 > 한국문학 > 수필', 'loan_count': '1235', 'bookImageURL': 'https://image.aladin.co.kr/product/30276/23/cover/8936438867_1.jpg', 'bookDtlUrl': 'https://data4library.kr/bookV?seq=6571872'}}, {'doc': {'no': 157, 'ranking': '172', 'bookname': '지적 대화를 위한 넓고 얕은 지식', 'authors': '채사장 지음', 'publisher': '한빛비즈', 'publication_year': '2014', 'isbn13': '9788994120966', 'addition_symbol': '13100', 'vol': '', 'class_no': '001.3', 'class_nm': '총류 > 총류 > 지식, 학문 일반', 'loan_count': '1169', 'bookImageURL': 'https://bookthumb-phinf.pstatic.net/cover/084/030/08403038.jpg?type=m1&udate=20171223', 'bookDtlUrl': 'https://data4library.kr/bookV?seq=2396928'}}, {'doc': {'no': 158, 'ranking': '158', 'bookname': '(서울 자가에 대기업 다니는) 김 부장 이야기 ', 'authors': '송희구 지음', 'publisher': '서삼독', 'publication_year': '2021', 'isbn13': '9791165343996', 'addition_symbol': '03320', 'vol': '1', 'class_no': '325.04', 'class_nm': '사회과학 > 경제학 > 경영관리', 'loan_count': '1220', 'bookImageURL': 'https://image.aladin.co.kr/product/27794/22/cover/k862734063_1.jpg', 'bookDtlUrl': 'https://data4library.kr/bookV?seq=6078845'}}, {'doc': {'no': 159, 'ranking': '159', 'bookname': '떨림과 울림 :물리학자 김상욱이 바라본 우주와 세계 그리고 우리 ', 'authors': '김상욱 지음', 'publisher': '동아시아', 'publication_year': '2018', 'isbn13': '9788962622508', 'addition_symbol': '03400', 'vol': '', 'class_no': '420.04', 'class_nm': '자연과학 > 물리학 > 물리학', 'loan_count': '1207', 'bookImageURL': 'https://image.aladin.co.kr/product/17299/89/cover/8962622505_1.jpg', 'bookDtlUrl': 'https://data4library.kr/bookV?seq=5231590'}}, {'doc': {'no': 160, 'ranking': '159', 'bookname': '테라피스트 :B.A. 패리스 장편소설 ', 'authors': '지은이: B.A. 패리스 ;옮긴이: 박설영', 'publisher': '바이포엠', 'publication_year': '2021', 'isbn13': '9791191043518', 'addition_symbol': '03840', 'vol': '', 'class_no': '843.6', 'class_nm': '문학 > 영미문학 > 소설', 'loan_count': '1207', 'bookImageURL': 'https://image.aladin.co.kr/product/28446/67/cover/k512835515_1.jpg', 'bookDtlUrl': 'https://data4library.kr/bookV?seq=6357174'}}, {'doc': {'no': 161, 'ranking': '161', 'bookname': '데일 카네기 자기관리론 ', 'authors': '데일 카네기 지음 ;임상훈 옮김', 'publisher': '현대지성', 'publication_year': '2021', 'isbn13': '9791191280333', 'addition_symbol': '03320', 'vol': '', 'class_no': '189', 'class_nm': '철학 > 심리학 > 응용심리학 일반', 'loan_count': '1204', 'bookImageURL': 'https://image.aladin.co.kr/product/26057/28/cover/k432737052_1.jpg', 'bookDtlUrl': 'https://data4library.kr/bookV?seq=5849800'}}, {'doc': {'no': 162, 'ranking': '162', 'bookname': '러브 몬스터 =이두온 장편소설 /Love monster ', 'authors': '지은이: 이두온', 'publisher': '창비', 'publication_year': '2023', 'isbn13': '9788936438999', 'addition_symbol': '03810', 'vol': '', 'class_no': '813.7', 'class_nm': '문학 > 한국문학 > 소설', 'loan_count': '1202', 'bookImageURL': 'https://image.aladin.co.kr/product/31010/63/cover/8936438999_1.jpg', 'bookDtlUrl': 'https://data4library.kr/bookV?seq=6632987'}}, {'doc': {'no': 163, 'ranking': '162', 'bookname': '지적 대화를 위한 넓고 얕은 지식 :한 권으로 현실을 통찰하게 하는 지식 여행서', 'authors': '채사장 지음', 'publisher': 'Whale Books(웨일북)', 'publication_year': '2020', 'isbn13': '9791190313193', 'addition_symbol': '03100', 'vol': '2', 'class_no': '001.3', 'class_nm': '총류 > 총류 > 지식, 학문 일반', 'loan_count': '1202', 'bookImageURL': 'https://image.aladin.co.kr/product/22872/85/cover/k912636841_1.jpg', 'bookDtlUrl': 'https://data4library.kr/bookV?seq=5584763'}}, {'doc': {'no': 164, 'ranking': '164', 'bookname': '지적 대화를 위한 넓고 얕은 지식', 'authors': '채사장 지음', 'publisher': '한빛비즈', 'publication_year': '2015', 'isbn13': '9788994120997', 'addition_symbol': '13100', 'vol': '2', 'class_no': '001.3', 'class_nm': '총류 > 총류 > 지식, 학문 일반', 'loan_count': '1197', 'bookImageURL': 'https://bookthumb-phinf.pstatic.net/cover/086/571/08657103.jpg?type=m1&udate=20171111', 'bookDtlUrl': 'https://data4library.kr/bookV?seq=2396939'}}, {'doc': {'no': 165, 'ranking': '165', 'bookname': '기분이 태도가 되지 말자 :감정조절이 필요한 당신을 위한 책 ', 'authors': '김수현 지음', 'publisher': 'H(하이스트 출판사)', 'publication_year': '2022', 'isbn13': '9791197647666', 'addition_symbol': '', 'vol': '', 'class_no': '818', 'class_nm': '문학 > 한국문학 > 르포르타주 및 기타', 'loan_count': '1192', 'bookImageURL': 'https://image.aladin.co.kr/product/30571/67/cover/k892830719_1.jpg', 'bookDtlUrl': 'https://data4library.kr/bookV?seq=6601147'}}, {'doc': {'no': 166, 'ranking': '166', 'bookname': '아가미 :구병모 장편소설 ', 'authors': '지은이: 구병모', 'publisher': '자음과모음', 'publication_year': '2011', 'isbn13': '9788957075425', 'addition_symbol': '03810', 'vol': '', 'class_no': '813.7', 'class_nm': '문학 > 한국문학 > 소설', 'loan_count': '1191', 'bookImageURL': 'http://image.aladin.co.kr/product/1103/66/cover/8957075429_1.jpg', 'bookDtlUrl': 'https://data4library.kr/bookV?seq=1156213'}}, {'doc': {'no': 167, 'ranking': '167', 'bookname': '마지막 몰입 :나를 넘어서는 힘 ', 'authors': '짐 퀵 지음 ;김미정 옮김', 'publisher': '비즈니스북스', 'publication_year': '2021', 'isbn13': '9791162541968', 'addition_symbol': '03190', 'vol': '', 'class_no': '325.211', 'class_nm': '사회과학 > 경제학 > 경영관리', 'loan_count': '1184', 'bookImageURL': 'https://image.aladin.co.kr/product/26400/21/cover/k152738321_1.jpg', 'bookDtlUrl': 'https://data4library.kr/bookV?seq=5861284'}}, {'doc': {'no': 168, 'ranking': '168', 'bookname': '곰탕 :김영탁 장편소설 ', 'authors': '지은이: 김영탁', 'publisher': 'Arte(아르테)', 'publication_year': '2018', 'isbn13': '9788950973759', 'addition_symbol': '04810', 'vol': '1', 'class_no': '813.7', 'class_nm': '문학 > 한국문학 > 소설', 'loan_count': '1182', 'bookImageURL': 'https://bookthumb-phinf.pstatic.net/cover/134/460/13446026.jpg?type=m1&udate=20180322', 'bookDtlUrl': 'https://data4library.kr/bookV?seq=3725494'}}, {'doc': {'no': 169, 'ranking': '168', 'bookname': '프리즘 :손원평 장편소설 ', 'authors': '지은이: 손원평', 'publisher': '은행나무', 'publication_year': '2020', 'isbn13': '9791191071030', 'addition_symbol': '03810', 'vol': '', 'class_no': '813.7', 'class_nm': '문학 > 한국문학 > 소설', 'loan_count': '1182', 'bookImageURL': 'https://image.aladin.co.kr/product/25044/86/cover/k782632029_1.jpg', 'bookDtlUrl': 'https://data4library.kr/bookV?seq=5747854'}}, {'doc': {'no': 170, 'ranking': '170', 'bookname': '내가 틀릴 수도 있습니다 =숲속의 현자가 전하는 마지막 인생수업 /I may be wrong ', 'authors': '비욘 나티코 린데블라드 지음 ;박미경 옮김', 'publisher': '다산북스', 'publication_year': '2022', 'isbn13': '9791130689890', 'addition_symbol': '03100', 'vol': '', 'class_no': '220.4', 'class_nm': '종교 > 불교 > 불교', 'loan_count': '1177', 'bookImageURL': 'https://image.aladin.co.kr/product/29269/12/cover/k822837807_1.jpg', 'bookDtlUrl': 'https://data4library.kr/bookV?seq=6445483'}}, {'doc': {'no': 171, 'ranking': '171', 'bookname': '웰씽킹 =부를 창조하는 생각의 뿌리 /Wealthinking ', 'authors': '켈리 최 지음', 'publisher': '다산북스', 'publication_year': '2021', 'isbn13': '9791130677774', 'addition_symbol': '03190', 'vol': '', 'class_no': '325.211', 'class_nm': '사회과학 > 경제학 > 경영관리', 'loan_count': '1170', 'bookImageURL': 'https://image.aladin.co.kr/product/28273/37/cover/k852835990_1.jpg', 'bookDtlUrl': 'https://data4library.kr/bookV?seq=6332829'}}, {'doc': {'no': 172, 'ranking': '172', 'bookname': '지적 대화를 위한 넓고 얕은 지식', 'authors': '채사장 지음', 'publisher': '한빛비즈', 'publication_year': '2014', 'isbn13': '9788994120966', 'addition_symbol': '13100', 'vol': '', 'class_no': '001.3', 'class_nm': '총류 > 총류 > 지식, 학문 일반', 'loan_count': '1169', 'bookImageURL': 'https://bookthumb-phinf.pstatic.net/cover/084/030/08403038.jpg?type=m1&udate=20171223', 'bookDtlUrl': 'https://data4library.kr/bookV?seq=2396928'}}, {'doc': {'no': 173, 'ranking': '173', 'bookname': '백광 :렌조 미키히코 장편소설 ', 'authors': '지은이: 렌조 미키히코 ;옮긴이: 양윤옥', 'publisher': '바이포엠 스튜디오', 'publication_year': '2022', 'isbn13': '9791191043617', 'addition_symbol': '03830', 'vol': '', 'class_no': '833.6', 'class_nm': '문학 > 일본문학 > 소설', 'loan_count': '1163', 'bookImageURL': 'https://image.aladin.co.kr/product/28875/60/cover/k652836302_2.jpg', 'bookDtlUrl': 'https://data4library.kr/bookV?seq=6402711'}}, {'doc': {'no': 174, 'ranking': '174', 'bookname': '마당이 있는 집 ', 'authors': '김진영 지음', 'publisher': '문학동네', 'publication_year': '2018', 'isbn13': '9788954651059', 'addition_symbol': '03810', 'vol': '', 'class_no': '813.7', 'class_nm': '문학 > 한국문학 > 소설', 'loan_count': '1161', 'bookImageURL': 'http://image.aladin.co.kr/product/14331/78/cover/8954651054_1.jpg', 'bookDtlUrl': 'https://data4library.kr/bookV?seq=3746102'}}, {'doc': {'no': 175, 'ranking': '175', 'bookname': '빠르게 실패하기 :20년간 진행된 스탠퍼드대학교 <인생 성장 프로젝트> 천 개의 성공을 만든 작은 행동의 힘 ', 'authors': '존 크럼볼츠,도연 옮김', 'publisher': 'Snowfox(스노우폭스북스)', 'publication_year': '2022', 'isbn13': '9791191769203', 'addition_symbol': '03190', 'vol': '', 'class_no': '325.211', 'class_nm': '사회과학 > 경제학 > 경영관리', 'loan_count': '1152', 'bookImageURL': 'https://image.aladin.co.kr/product/30070/40/cover/k892839663_1.jpg', 'bookDtlUrl': 'https://data4library.kr/bookV?seq=6555034'}}, {'doc': {'no': 176, 'ranking': '176', 'bookname': '나는 4시간만 일한다 :디지털 노마드 시대 완전히 새로운 삶의 방식 ', 'authors': '팀 페리스 지음 ;윤동준 옮김', 'publisher': '빛과향기', 'publication_year': '2017', 'isbn13': '9791185584454', 'addition_symbol': '03320', 'vol': '', 'class_no': '325.211', 'class_nm': '사회과학 > 경제학 > 경영관리', 'loan_count': '1150', 'bookImageURL': 'https://image.aladin.co.kr/product/11956/55/cover/k392531430_1.jpg', 'bookDtlUrl': 'https://data4library.kr/bookV?seq=3646824'}}, {'doc': {'no': 177, 'ranking': '177', 'bookname': '돈의 심리학 :당신은 왜 부자가 되지 못했는가 ', 'authors': '모건 하우절 지음 ;이지연 옮김', 'publisher': '인플루엔셜', 'publication_year': '2021', 'isbn13': '9791191056372', 'addition_symbol': '03320', 'vol': '', 'class_no': '327.04', 'class_nm': '사회과학 > 경제학 > 금융', 'loan_count': '1149', 'bookImageURL': 'https://image.aladin.co.kr/product/25967/85/cover/k412737326_1.jpg', 'bookDtlUrl': 'https://data4library.kr/bookV?seq=5846583'}}, {'doc': {'no': 178, 'ranking': '178', 'bookname': '동급생 ', 'authors': '프레드 울만 지음 ;황보석 옮김', 'publisher': '열린책들', 'publication_year': '2017', 'isbn13': '9788932918143', 'addition_symbol': '03840', 'vol': '', 'class_no': '843.5', 'class_nm': '문학 > 영미문학 > 소설', 'loan_count': '1148', 'bookImageURL': 'http://image.aladin.co.kr/product/10217/55/cover/8932918147_1.jpg', 'bookDtlUrl': 'https://data4library.kr/bookV?seq=3412255'}}, {'doc': {'no': 179, 'ranking': '179', 'bookname': '아몬드 :손원평 장편소설 ', 'authors': '지은이: 손원평', 'publisher': '창비', 'publication_year': '2017', 'isbn13': '9788936456788', 'addition_symbol': '43810', 'vol': '', 'class_no': '813.7', 'class_nm': '문학 > 한국문학 > 소설', 'loan_count': '1147', 'bookImageURL': 'http://image.aladin.co.kr/product/10636/66/cover/8936456784_1.jpg', 'bookDtlUrl': 'https://data4library.kr/bookV?seq=3428065'}}, {'doc': {'no': 180, 'ranking': '180', 'bookname': '녹나무의 파수꾼 =The camphorwood custodian ', 'authors': '저자: 히가시노 게이고 ;옮긴이: 양윤옥', 'publisher': '소미미디어', 'publication_year': '2020', 'isbn13': '9791165075064', 'addition_symbol': '03830', 'vol': '', 'class_no': '833.6', 'class_nm': '문학 > 일본문학 > 소설', 'loan_count': '1141', 'bookImageURL': 'https://image.aladin.co.kr/product/23456/86/cover/k362638685_1.jpg', 'bookDtlUrl': 'https://data4library.kr/bookV?seq=5609821'}}, {'doc': {'no': 181, 'ranking': '181', 'bookname': '일인칭 단수 :무라카미 하루키 소설 ', 'authors': '지은이: 무라카미 하루키 ;옮긴이: 홍은주', 'publisher': '문학동네', 'publication_year': '2020', 'isbn13': '9788954675987', 'addition_symbol': '03830', 'vol': '', 'class_no': '833.6', 'class_nm': '문학 > 일본문학 > 소설', 'loan_count': '1138', 'bookImageURL': 'https://image.aladin.co.kr/product/25638/33/cover/8954675980_2.jpg', 'bookDtlUrl': 'https://data4library.kr/bookV?seq=5814186'}}, {'doc': {'no': 182, 'ranking': '182', 'bookname': '슬픔을 공부하는 슬픔 :신형철 산문 ', 'authors': '지은이: 신형철', 'publisher': '한겨레출판', 'publication_year': '2018', 'isbn13': '9791160401967', 'addition_symbol': '03810', 'vol': '', 'class_no': '814.7', 'class_nm': '문학 > 한국문학 > 수필', 'loan_count': '1137', 'bookImageURL': 'https://image.aladin.co.kr/product/16234/14/cover/k322534566_1.jpg', 'bookDtlUrl': 'https://data4library.kr/bookV?seq=3901754'}}, {'doc': {'no': 183, 'ranking': '183', 'bookname': '여덟 단어 :인생을 대하는 우리의 자세 ', 'authors': '박웅현 지음', 'publisher': '북하우스 퍼블리셔스', 'publication_year': '2013', 'isbn13': '9788956056531', 'addition_symbol': '03810', 'vol': '', 'class_no': '818', 'class_nm': '문학 > 한국문학 > 르포르타주 및 기타', 'loan_count': '1130', 'bookImageURL': 'https://bookthumb-phinf.pstatic.net/cover/072/024/07202413.jpg?type=m1&udate=20140911', 'bookDtlUrl': 'https://data4library.kr/bookV?seq=1940355'}}, {'doc': {'no': 184, 'ranking': '183', 'bookname': '(비전공자를 위한 이해할 수 있는) IT 지식 ', 'authors': '최원영 지음', 'publisher': 'T.W.I.G(티더블유아이지)', 'publication_year': '2020', 'isbn13': '9791196918033', 'addition_symbol': '13000', 'vol': '', 'class_no': '004', 'class_nm': '총류 > 총류 > 전산학', 'loan_count': '1130', 'bookImageURL': 'https://image.aladin.co.kr/product/24606/45/cover/k662631176_1.jpg', 'bookDtlUrl': 'https://data4library.kr/bookV?seq=5708360'}}, {'doc': {'no': 185, 'ranking': '185', 'bookname': '부자의 그릇 :남을 위해 돈 쓰는 능력을 키우는 법 ', 'authors': '이즈미 마사토 지음 ;김윤수 옮김', 'publisher': '다산북스', 'publication_year': '2015', 'isbn13': '9791130604787', 'addition_symbol': '13320', 'vol': '', 'class_no': '327.04', 'class_nm': '사회과학 > 경제학 > 금융', 'loan_count': '1122', 'bookImageURL': 'http://image.aladin.co.kr/product/5380/75/cover/1130604780_2.jpg', 'bookDtlUrl': 'https://data4library.kr/bookV?seq=2645749'}}, {'doc': {'no': 186, 'ranking': '186', 'bookname': '브람스를 좋아하세요 ', 'authors': '프랑수아즈 사강 [지음] ;김남주 옮김', 'publisher': '민음사', 'publication_year': '2008', 'isbn13': '9788937461798', 'addition_symbol': '04800', 'vol': '179', 'class_no': '863', 'class_nm': '문학 > 프랑스문학 > 소설', 'loan_count': '1121', 'bookImageURL': 'https://bookthumb-phinf.pstatic.net/cover/045/694/04569434.jpg?type=m1&udate=20130412', 'bookDtlUrl': 'https://data4library.kr/bookV?seq=2374505'}}, {'doc': {'no': 187, 'ranking': '187', 'bookname': '오베라는 남자 :프레드릭 배크만 장편소설 ', 'authors': '지은이: 프레드릭 배크만 ;옮긴이: 최민우', 'publisher': '다산북스', 'publication_year': '2015', 'isbn13': '9791130605210', 'addition_symbol': '03850', 'vol': '', 'class_no': '859.7', 'class_nm': '문학 > 독일문학 > 기타 게르만 문학', 'loan_count': '1120', 'bookImageURL': 'https://bookthumb-phinf.pstatic.net/cover/090/537/09053751.jpg?type=m1&udate=20180717', 'bookDtlUrl': 'https://data4library.kr/bookV?seq=2396935'}}, {'doc': {'no': 188, 'ranking': '188', 'bookname': '(서울 자가에 대기업 다니는) 김 부장 이야기 ', 'authors': '송희구 지음', 'publisher': '서삼독', 'publication_year': '2021', 'isbn13': '9791165344009', 'addition_symbol': '03320', 'vol': '2', 'class_no': '325.04', 'class_nm': '사회과학 > 경제학 > 경영관리', 'loan_count': '1117', 'bookImageURL': 'https://image.aladin.co.kr/product/27794/38/cover/k752734064_1.jpg', 'bookDtlUrl': 'https://data4library.kr/bookV?seq=6078846'}}, {'doc': {'no': 189, 'ranking': '189', 'bookname': '음식 중독 :먹고 싶어서 먹는다는 착각 ', 'authors': '지은이: 마이클 모스 ;옮긴이: 연아람', 'publisher': '민음사', 'publication_year': '2023', 'isbn13': '9788937469268', 'addition_symbol': '03300', 'vol': '', 'class_no': '517.52', 'class_nm': '기술과학 > 의학 > 위생학, 공공의학', 'loan_count': '1116', 'bookImageURL': 'https://image.aladin.co.kr/product/30934/14/cover/893746926x_1.jpg', 'bookDtlUrl': 'https://data4library.kr/bookV?seq=6628497'}}, {'doc': {'no': 190, 'ranking': '189', 'bookname': '재와 물거품 ', 'authors': '지은이: 김청귤', 'publisher': '안전가옥', 'publication_year': '2021', 'isbn13': '9791191193114', 'addition_symbol': '03810', 'vol': '', 'class_no': '813.7', 'class_nm': '문학 > 한국문학 > 소설', 'loan_count': '1116', 'bookImageURL': 'https://image.aladin.co.kr/product/27256/81/cover/k192732699_1.jpg', 'bookDtlUrl': 'https://data4library.kr/bookV?seq=5996596'}}, {'doc': {'no': 191, 'ranking': '191', 'bookname': '정리하는 뇌 :디지털 시대, 정보와 선택 과부하로 뒤엉킨 머릿속과 일상을 정리하는 기술 ', 'authors': '대니얼 J. 레비틴 지음 ;김성훈 옮김', 'publisher': '미래엔', 'publication_year': '2014', 'isbn13': '9788937837654', 'addition_symbol': '03180', 'vol': '', 'class_no': '181.3', 'class_nm': '철학 > 심리학 > 각론', 'loan_count': '1113', 'bookImageURL': 'http://image.aladin.co.kr/product/6176/20/cover/893783765x_1.jpg', 'bookDtlUrl': 'https://data4library.kr/bookV?seq=2646781'}}, {'doc': {'no': 192, 'ranking': '191', 'bookname': '나는 나로 살기로 했다 :냉담한 현실에서 어른살이를 위한 to do list ', 'authors': '글·그림: 김수현', 'publisher': '마음의숲', 'publication_year': '2016', 'isbn13': '9791187119845', 'addition_symbol': '03810', 'vol': '', 'class_no': '818', 'class_nm': '문학 > 한국문학 > 르포르타주 및 기타', 'loan_count': '1113', 'bookImageURL': 'http://image.aladin.co.kr/product/16751/86/cover/k642534567_2.jpg', 'bookDtlUrl': 'https://data4library.kr/bookV?seq=3395679'}}, {'doc': {'no': 193, 'ranking': '193', 'bookname': '크리스마스 타일 :김금희 연작소설 ', 'authors': '지은이: 김금희', 'publisher': '창비', 'publication_year': '2022', 'isbn13': '9788936438890', 'addition_symbol': '03810', 'vol': '', 'class_no': '813.7', 'class_nm': '문학 > 한국문학 > 소설', 'loan_count': '1110', 'bookImageURL': 'https://image.aladin.co.kr/product/30520/41/cover/8936438891_1.jpg', 'bookDtlUrl': 'https://data4library.kr/bookV?seq=6595121'}}, {'doc': {'no': 194, 'ranking': '194', 'bookname': '방구석 미술관 :가볍고 편하게 시작하는 유쾌한 교양 미술 ', 'authors': '조원재 지음', 'publisher': '백도씨', 'publication_year': '2018', 'isbn13': '9788968331862', 'addition_symbol': '03600', 'vol': '', 'class_no': '650.4', 'class_nm': '예술 > 회화, 도화 > 회화, 도화', 'loan_count': '1109', 'bookImageURL': 'https://bookthumb-phinf.pstatic.net/cover/138/339/13833956.jpg?type=m1&udate=20180803', 'bookDtlUrl': 'https://data4library.kr/bookV?seq=3858776'}}, {'doc': {'no': 195, 'ranking': '195', 'bookname': '위저드 베이커리 =구병모 장편소설 /Wizard bakery ', 'authors': '지은이: 구병모', 'publisher': '창비', 'publication_year': '2009', 'isbn13': '9788936433697', 'addition_symbol': '03810', 'vol': '', 'class_no': '813.7', 'class_nm': '문학 > 한국문학 > 소설', 'loan_count': '1102', 'bookImageURL': 'http://image.aladin.co.kr/product/346/0/cover/8936433695_1.jpg', 'bookDtlUrl': 'https://data4library.kr/bookV?seq=2314042'}}, {'doc': {'no': 196, 'ranking': '196', 'bookname': '멘탈을 바꿔야 인생이 바뀐다 :나의 잠재력을 최대로 끌어올려 100% 성공하는 삶을 사는 방법 ', 'authors': '박세니 지음', 'publisher': '바이포엠 스튜디오', 'publication_year': '2022', 'isbn13': '9791191043761', 'addition_symbol': '03190', 'vol': '', 'class_no': '325.211', 'class_nm': '사회과학 > 경제학 > 경영관리', 'loan_count': '1101', 'bookImageURL': 'https://image.aladin.co.kr/product/29307/68/cover/k732837606_2.jpg', 'bookDtlUrl': 'https://data4library.kr/bookV?seq=6450204'}}, {'doc': {'no': 197, 'ranking': '197', 'bookname': '나주에 대하여 :김화진 소설 ', 'authors': '지은이: 김화진', 'publisher': '문학동네', 'publication_year': '2022', 'isbn13': '9788954688994', 'addition_symbol': '03810', 'vol': '', 'class_no': '813.7', 'class_nm': '문학 > 한국문학 > 소설', 'loan_count': '1096', 'bookImageURL': 'https://image.aladin.co.kr/product/30347/9/cover/8954688993_1.jpg', 'bookDtlUrl': 'https://data4library.kr/bookV?seq=6577033'}}, {'doc': {'no': 198, 'ranking': '198', 'bookname': '(나를 숨 쉬게 하는) 보통의 언어들 ', 'authors': '김이나 지음', 'publisher': '위즈덤하우스', 'publication_year': '2020', 'isbn13': '9791190786355', 'addition_symbol': '03810', 'vol': '', 'class_no': '818', 'class_nm': '문학 > 한국문학 > 르포르타주 및 기타', 'loan_count': '1094', 'bookImageURL': 'https://image.aladin.co.kr/product/24088/61/cover/k182639239_1.jpg', 'bookDtlUrl': 'https://data4library.kr/bookV?seq=5671695'}}, {'doc': {'no': 199, 'ranking': '199', 'bookname': '뉴서울파크 젤리장수 대학살 :조예은 장편소설 ', 'authors': '지은이: 조예은', 'publisher': '안전가옥', 'publication_year': '2019', 'isbn13': '9791196347048', 'addition_symbol': '03810', 'vol': '', 'class_no': '813.7', 'class_nm': '문학 > 한국문학 > 소설', 'loan_count': '1089', 'bookImageURL': 'https://image.aladin.co.kr/product/19539/29/cover/k672635129_1.jpg', 'bookDtlUrl': 'https://data4library.kr/bookV?seq=5435792'}}, {'doc': {'no': 200, 'ranking': '200', 'bookname': '연금술사', 'authors': '파울로 코엘료 지음;최정수 옮김', 'publisher': '문학동네', 'publication_year': '2001', 'isbn13': '9788982814471', 'addition_symbol': '03860', 'vol': '', 'class_no': '879', 'class_nm': '문학 > 스페인문학 > 포르투갈문학', 'loan_count': '1084', 'bookImageURL': 'http://image.aladin.co.kr/product/30/73/cover/8982814477_2.jpg', 'bookDtlUrl': 'https://data4library.kr/bookV?seq=126479'}}]}}\n",
      "   no ranking                                        bookname  \\\n",
      "0   1       1  물고기는 존재하지 않는다 :상실, 사랑 그리고 숨어 있는 삶의 질서에 관한 이야기    \n",
      "1   2       2                             지구 끝의 온실 :김초엽 장편소설    \n",
      "2   3       3                              불편한 편의점 :김호연 장편소설    \n",
      "3   4       4                            달러구트 꿈 백화점 :이미예 장편소설   \n",
      "4   5       5                     우리가 빛의 속도로 갈 수 없다면 :김초엽 소설    \n",
      "\n",
      "            authors            publisher publication_year         isbn13  \\\n",
      "0  룰루 밀러 지음 ;정지인 옮김                  곰출판             2021  9791189327156   \n",
      "1          지은이: 김초엽  Giant Books(자이언트북스)             2021  9791191824001   \n",
      "2          지은이: 김호연                나무옆의자             2021  9791161571188   \n",
      "3          지은이: 이미예                팩토리나인             2020  9791165341909   \n",
      "4          지은이: 김초엽                   허블             2019  9791190090018   \n",
      "\n",
      "  addition_symbol vol class_no          class_nm loan_count  \\\n",
      "0           03400       490.99  자연과학 > 동물학 > 동물학       5907   \n",
      "1           03810        813.7    문학 > 한국문학 > 소설       5186   \n",
      "2           03810        813.7    문학 > 한국문학 > 소설       5131   \n",
      "3           03810        813.7    문학 > 한국문학 > 소설       5085   \n",
      "4           03810        813.7    문학 > 한국문학 > 소설       4730   \n",
      "\n",
      "                                        bookImageURL  \\\n",
      "0  https://image.aladin.co.kr/product/28465/73/co...   \n",
      "1  https://image.aladin.co.kr/product/27692/63/co...   \n",
      "2  https://image.aladin.co.kr/product/26942/84/co...   \n",
      "3  https://image.aladin.co.kr/product/24512/70/co...   \n",
      "4  https://image.aladin.co.kr/product/19359/16/co...   \n",
      "\n",
      "                                  bookDtlUrl  \n",
      "0  https://data4library.kr/bookV?seq=6360937  \n",
      "1  https://data4library.kr/bookV?seq=6065686  \n",
      "2  https://data4library.kr/bookV?seq=5962217  \n",
      "3  https://data4library.kr/bookV?seq=5707051  \n",
      "4  https://data4library.kr/bookV?seq=5430429  \n"
     ]
    }
   ],
   "source": [
    "# OpenAPI를 이용하여 원하는 데이터를 수집\n",
    "import requests\n",
    "import pandas as pd\n",
    "import json\n",
    "\n",
    "url = \"http://data4library.kr/api/loanItemSrch?format=json&startDt=2023-01-01&endDt=2023-12-30&age=20&authKey=edda1306d219214b220e818af294f05eaab308ad93953f0451c3b0a76a7cbacf\"\n",
    " #authKet에 내 사용키 작성\n",
    "res = requests.get(url)\n",
    "\n",
    "if res.status_code == 200:\n",
    "    print(\"Request successful\")\n",
    "else:\n",
    "    print(\"Error:\", res.status_code)\n",
    "    exit()  \n",
    "\n",
    "print(res.text)\n",
    "\n",
    "# # 3 Decode binary content to UTF-8 string\n",
    "content_str = res.content.decode('utf-8')\n",
    "\n",
    "# # 4 Parse the JSON data\n",
    "data = json.loads(content_str)\n",
    "\n",
    "# # Print the parsed JSON data\n",
    "print(data)\n",
    "\n",
    "#필요한 데이터를 저장 - ETL\n",
    "\n",
    "# Extract and save it as list \n",
    "\n",
    "# books = []\n",
    "# for d in data['response']['docs']: # docs 리스트를 가져옴\n",
    "#     books.append(d['doc'])  \n",
    "\n",
    "books = [d['doc'] for d in data['response']['docs']] # 위에것을 한 줄로 / list complrehension\n",
    "\n",
    "#6. 리스트를 이용하여 데이터프레임 형성  list -> DataFrame\n",
    "books_df = pd.DataFrame(books)\n",
    "\n",
    "print(books_df.head())\n",
    "# 7. dataFrame 객체를 json 파일로 저장\n",
    "books_df.to_json('20s_best_book_2023.json')\n",
    "\n",
    "# 아래 오류는 API 활성상태가 되고  데이터가 넘어와야지 가능함"
   ]
  },
  {
   "cell_type": "markdown",
   "id": "792f44fb",
   "metadata": {
    "id": "792f44fb"
   },
   "source": [
    "## 2. open API를 활용한 데이터셋은 불필요한 것이 많기에 데이터를 가공하여 작업 : 검색 결과 페이지 가져오기 - \"20대가 가장 좋아하는 도서목록\""
   ]
  },
  {
   "cell_type": "code",
   "execution_count": 5,
   "id": "6128a3fd",
   "metadata": {
    "colab": {
     "base_uri": "https://localhost:8080/",
     "height": 417
    },
    "id": "6128a3fd",
    "outputId": "89201b65-e66b-4af8-9af2-aad8cfe88706"
   },
   "outputs": [
    {
     "data": {
      "text/html": [
       "<div>\n",
       "<style scoped>\n",
       "    .dataframe tbody tr th:only-of-type {\n",
       "        vertical-align: middle;\n",
       "    }\n",
       "\n",
       "    .dataframe tbody tr th {\n",
       "        vertical-align: top;\n",
       "    }\n",
       "\n",
       "    .dataframe thead th {\n",
       "        text-align: right;\n",
       "    }\n",
       "</style>\n",
       "<table border=\"1\" class=\"dataframe\">\n",
       "  <thead>\n",
       "    <tr style=\"text-align: right;\">\n",
       "      <th></th>\n",
       "      <th>no</th>\n",
       "      <th>ranking</th>\n",
       "      <th>bookname</th>\n",
       "      <th>authors</th>\n",
       "      <th>publisher</th>\n",
       "      <th>publication_year</th>\n",
       "      <th>isbn13</th>\n",
       "      <th>addition_symbol</th>\n",
       "      <th>vol</th>\n",
       "      <th>class_no</th>\n",
       "      <th>class_nm</th>\n",
       "      <th>loan_count</th>\n",
       "      <th>bookImageURL</th>\n",
       "      <th>bookDtlUrl</th>\n",
       "    </tr>\n",
       "  </thead>\n",
       "  <tbody>\n",
       "    <tr>\n",
       "      <th>0</th>\n",
       "      <td>1</td>\n",
       "      <td>1</td>\n",
       "      <td>물고기는 존재하지 않는다 :상실, 사랑 그리고 숨어 있는 삶의 질서에 관한 이야기</td>\n",
       "      <td>룰루 밀러 지음 ;정지인 옮김</td>\n",
       "      <td>곰출판</td>\n",
       "      <td>2021</td>\n",
       "      <td>9791189327156</td>\n",
       "      <td>03400</td>\n",
       "      <td></td>\n",
       "      <td>490.99</td>\n",
       "      <td>자연과학 &gt; 동물학 &gt; 동물학</td>\n",
       "      <td>5909</td>\n",
       "      <td>https://image.aladin.co.kr/product/28465/73/co...</td>\n",
       "      <td>https://data4library.kr/bookV?seq=6360937</td>\n",
       "    </tr>\n",
       "    <tr>\n",
       "      <th>1</th>\n",
       "      <td>2</td>\n",
       "      <td>2</td>\n",
       "      <td>지구 끝의 온실 :김초엽 장편소설</td>\n",
       "      <td>지은이: 김초엽</td>\n",
       "      <td>Giant Books(자이언트북스)</td>\n",
       "      <td>2021</td>\n",
       "      <td>9791191824001</td>\n",
       "      <td>03810</td>\n",
       "      <td></td>\n",
       "      <td>813.7</td>\n",
       "      <td>문학 &gt; 한국문학 &gt; 소설</td>\n",
       "      <td>5186</td>\n",
       "      <td>https://image.aladin.co.kr/product/27692/63/co...</td>\n",
       "      <td>https://data4library.kr/bookV?seq=6065686</td>\n",
       "    </tr>\n",
       "    <tr>\n",
       "      <th>2</th>\n",
       "      <td>3</td>\n",
       "      <td>3</td>\n",
       "      <td>불편한 편의점 :김호연 장편소설</td>\n",
       "      <td>지은이: 김호연</td>\n",
       "      <td>나무옆의자</td>\n",
       "      <td>2021</td>\n",
       "      <td>9791161571188</td>\n",
       "      <td>03810</td>\n",
       "      <td></td>\n",
       "      <td>813.7</td>\n",
       "      <td>문학 &gt; 한국문학 &gt; 소설</td>\n",
       "      <td>5131</td>\n",
       "      <td>https://image.aladin.co.kr/product/26942/84/co...</td>\n",
       "      <td>https://data4library.kr/bookV?seq=5962217</td>\n",
       "    </tr>\n",
       "    <tr>\n",
       "      <th>3</th>\n",
       "      <td>4</td>\n",
       "      <td>4</td>\n",
       "      <td>달러구트 꿈 백화점 :이미예 장편소설</td>\n",
       "      <td>지은이: 이미예</td>\n",
       "      <td>팩토리나인</td>\n",
       "      <td>2020</td>\n",
       "      <td>9791165341909</td>\n",
       "      <td>03810</td>\n",
       "      <td></td>\n",
       "      <td>813.7</td>\n",
       "      <td>문학 &gt; 한국문학 &gt; 소설</td>\n",
       "      <td>5086</td>\n",
       "      <td>https://image.aladin.co.kr/product/24512/70/co...</td>\n",
       "      <td>https://data4library.kr/bookV?seq=5707051</td>\n",
       "    </tr>\n",
       "    <tr>\n",
       "      <th>4</th>\n",
       "      <td>5</td>\n",
       "      <td>5</td>\n",
       "      <td>우리가 빛의 속도로 갈 수 없다면 :김초엽 소설</td>\n",
       "      <td>지은이: 김초엽</td>\n",
       "      <td>허블</td>\n",
       "      <td>2019</td>\n",
       "      <td>9791190090018</td>\n",
       "      <td>03810</td>\n",
       "      <td></td>\n",
       "      <td>813.7</td>\n",
       "      <td>문학 &gt; 한국문학 &gt; 소설</td>\n",
       "      <td>4731</td>\n",
       "      <td>https://image.aladin.co.kr/product/19359/16/co...</td>\n",
       "      <td>https://data4library.kr/bookV?seq=5430429</td>\n",
       "    </tr>\n",
       "    <tr>\n",
       "      <th>...</th>\n",
       "      <td>...</td>\n",
       "      <td>...</td>\n",
       "      <td>...</td>\n",
       "      <td>...</td>\n",
       "      <td>...</td>\n",
       "      <td>...</td>\n",
       "      <td>...</td>\n",
       "      <td>...</td>\n",
       "      <td>...</td>\n",
       "      <td>...</td>\n",
       "      <td>...</td>\n",
       "      <td>...</td>\n",
       "      <td>...</td>\n",
       "      <td>...</td>\n",
       "    </tr>\n",
       "    <tr>\n",
       "      <th>195</th>\n",
       "      <td>196</td>\n",
       "      <td>196</td>\n",
       "      <td>멘탈을 바꿔야 인생이 바뀐다 :나의 잠재력을 최대로 끌어올려 100% 성공하는 삶을...</td>\n",
       "      <td>박세니 지음</td>\n",
       "      <td>바이포엠 스튜디오</td>\n",
       "      <td>2022</td>\n",
       "      <td>9791191043761</td>\n",
       "      <td>03190</td>\n",
       "      <td></td>\n",
       "      <td>325.211</td>\n",
       "      <td>사회과학 &gt; 경제학 &gt; 경영관리</td>\n",
       "      <td>1101</td>\n",
       "      <td>https://image.aladin.co.kr/product/29307/68/co...</td>\n",
       "      <td>https://data4library.kr/bookV?seq=6450204</td>\n",
       "    </tr>\n",
       "    <tr>\n",
       "      <th>196</th>\n",
       "      <td>197</td>\n",
       "      <td>197</td>\n",
       "      <td>나주에 대하여 :김화진 소설</td>\n",
       "      <td>지은이: 김화진</td>\n",
       "      <td>문학동네</td>\n",
       "      <td>2022</td>\n",
       "      <td>9788954688994</td>\n",
       "      <td>03810</td>\n",
       "      <td></td>\n",
       "      <td>813.7</td>\n",
       "      <td>문학 &gt; 한국문학 &gt; 소설</td>\n",
       "      <td>1096</td>\n",
       "      <td>https://image.aladin.co.kr/product/30347/9/cov...</td>\n",
       "      <td>https://data4library.kr/bookV?seq=6577033</td>\n",
       "    </tr>\n",
       "    <tr>\n",
       "      <th>197</th>\n",
       "      <td>198</td>\n",
       "      <td>198</td>\n",
       "      <td>(나를 숨 쉬게 하는) 보통의 언어들</td>\n",
       "      <td>김이나 지음</td>\n",
       "      <td>위즈덤하우스</td>\n",
       "      <td>2020</td>\n",
       "      <td>9791190786355</td>\n",
       "      <td>03810</td>\n",
       "      <td></td>\n",
       "      <td>818</td>\n",
       "      <td>문학 &gt; 한국문학 &gt; 르포르타주 및 기타</td>\n",
       "      <td>1094</td>\n",
       "      <td>https://image.aladin.co.kr/product/24088/61/co...</td>\n",
       "      <td>https://data4library.kr/bookV?seq=5671695</td>\n",
       "    </tr>\n",
       "    <tr>\n",
       "      <th>198</th>\n",
       "      <td>199</td>\n",
       "      <td>199</td>\n",
       "      <td>뉴서울파크 젤리장수 대학살 :조예은 장편소설</td>\n",
       "      <td>지은이: 조예은</td>\n",
       "      <td>안전가옥</td>\n",
       "      <td>2019</td>\n",
       "      <td>9791196347048</td>\n",
       "      <td>03810</td>\n",
       "      <td></td>\n",
       "      <td>813.7</td>\n",
       "      <td>문학 &gt; 한국문학 &gt; 소설</td>\n",
       "      <td>1089</td>\n",
       "      <td>https://image.aladin.co.kr/product/19539/29/co...</td>\n",
       "      <td>https://data4library.kr/bookV?seq=5435792</td>\n",
       "    </tr>\n",
       "    <tr>\n",
       "      <th>199</th>\n",
       "      <td>200</td>\n",
       "      <td>200</td>\n",
       "      <td>연금술사</td>\n",
       "      <td>파울로 코엘료 지음;최정수 옮김</td>\n",
       "      <td>문학동네</td>\n",
       "      <td>2001</td>\n",
       "      <td>9788982814471</td>\n",
       "      <td>03860</td>\n",
       "      <td></td>\n",
       "      <td>879</td>\n",
       "      <td>문학 &gt; 스페인문학 &gt; 포르투갈문학</td>\n",
       "      <td>1084</td>\n",
       "      <td>http://image.aladin.co.kr/product/30/73/cover/...</td>\n",
       "      <td>https://data4library.kr/bookV?seq=126479</td>\n",
       "    </tr>\n",
       "  </tbody>\n",
       "</table>\n",
       "<p>200 rows × 14 columns</p>\n",
       "</div>"
      ],
      "text/plain": [
       "      no  ranking                                           bookname  \\\n",
       "0      1        1     물고기는 존재하지 않는다 :상실, 사랑 그리고 숨어 있는 삶의 질서에 관한 이야기    \n",
       "1      2        2                                지구 끝의 온실 :김초엽 장편소설    \n",
       "2      3        3                                 불편한 편의점 :김호연 장편소설    \n",
       "3      4        4                               달러구트 꿈 백화점 :이미예 장편소설   \n",
       "4      5        5                        우리가 빛의 속도로 갈 수 없다면 :김초엽 소설    \n",
       "..   ...      ...                                                ...   \n",
       "195  196      196  멘탈을 바꿔야 인생이 바뀐다 :나의 잠재력을 최대로 끌어올려 100% 성공하는 삶을...   \n",
       "196  197      197                                   나주에 대하여 :김화진 소설    \n",
       "197  198      198                              (나를 숨 쉬게 하는) 보통의 언어들    \n",
       "198  199      199                          뉴서울파크 젤리장수 대학살 :조예은 장편소설    \n",
       "199  200      200                                               연금술사   \n",
       "\n",
       "               authors            publisher  publication_year         isbn13  \\\n",
       "0     룰루 밀러 지음 ;정지인 옮김                  곰출판              2021  9791189327156   \n",
       "1             지은이: 김초엽  Giant Books(자이언트북스)              2021  9791191824001   \n",
       "2             지은이: 김호연                나무옆의자              2021  9791161571188   \n",
       "3             지은이: 이미예                팩토리나인              2020  9791165341909   \n",
       "4             지은이: 김초엽                   허블              2019  9791190090018   \n",
       "..                 ...                  ...               ...            ...   \n",
       "195             박세니 지음            바이포엠 스튜디오              2022  9791191043761   \n",
       "196           지은이: 김화진                 문학동네              2022  9788954688994   \n",
       "197             김이나 지음               위즈덤하우스              2020  9791190786355   \n",
       "198           지은이: 조예은                 안전가옥              2019  9791196347048   \n",
       "199  파울로 코엘료 지음;최정수 옮김                 문학동네              2001  9788982814471   \n",
       "\n",
       "    addition_symbol vol class_no                class_nm  loan_count  \\\n",
       "0             03400       490.99        자연과학 > 동물학 > 동물학        5909   \n",
       "1             03810        813.7          문학 > 한국문학 > 소설        5186   \n",
       "2             03810        813.7          문학 > 한국문학 > 소설        5131   \n",
       "3             03810        813.7          문학 > 한국문학 > 소설        5086   \n",
       "4             03810        813.7          문학 > 한국문학 > 소설        4731   \n",
       "..              ...  ..      ...                     ...         ...   \n",
       "195           03190      325.211       사회과학 > 경제학 > 경영관리        1101   \n",
       "196           03810        813.7          문학 > 한국문학 > 소설        1096   \n",
       "197           03810          818  문학 > 한국문학 > 르포르타주 및 기타        1094   \n",
       "198           03810        813.7          문학 > 한국문학 > 소설        1089   \n",
       "199           03860          879     문학 > 스페인문학 > 포르투갈문학        1084   \n",
       "\n",
       "                                          bookImageURL  \\\n",
       "0    https://image.aladin.co.kr/product/28465/73/co...   \n",
       "1    https://image.aladin.co.kr/product/27692/63/co...   \n",
       "2    https://image.aladin.co.kr/product/26942/84/co...   \n",
       "3    https://image.aladin.co.kr/product/24512/70/co...   \n",
       "4    https://image.aladin.co.kr/product/19359/16/co...   \n",
       "..                                                 ...   \n",
       "195  https://image.aladin.co.kr/product/29307/68/co...   \n",
       "196  https://image.aladin.co.kr/product/30347/9/cov...   \n",
       "197  https://image.aladin.co.kr/product/24088/61/co...   \n",
       "198  https://image.aladin.co.kr/product/19539/29/co...   \n",
       "199  http://image.aladin.co.kr/product/30/73/cover/...   \n",
       "\n",
       "                                    bookDtlUrl  \n",
       "0    https://data4library.kr/bookV?seq=6360937  \n",
       "1    https://data4library.kr/bookV?seq=6065686  \n",
       "2    https://data4library.kr/bookV?seq=5962217  \n",
       "3    https://data4library.kr/bookV?seq=5707051  \n",
       "4    https://data4library.kr/bookV?seq=5430429  \n",
       "..                                         ...  \n",
       "195  https://data4library.kr/bookV?seq=6450204  \n",
       "196  https://data4library.kr/bookV?seq=6577033  \n",
       "197  https://data4library.kr/bookV?seq=5671695  \n",
       "198  https://data4library.kr/bookV?seq=5435792  \n",
       "199   https://data4library.kr/bookV?seq=126479  \n",
       "\n",
       "[200 rows x 14 columns]"
      ]
     },
     "execution_count": 5,
     "metadata": {},
     "output_type": "execute_result"
    }
   ],
   "source": [
    "# json file 로딩 -> dataFrame 객체 변환\n",
    "books_df = pd.read_json('20s_best_book_2023.json')\n",
    "books_df"
   ]
  },
  {
   "cell_type": "code",
   "execution_count": 7,
   "id": "2c3b1962",
   "metadata": {
    "colab": {
     "base_uri": "https://localhost:8080/",
     "height": 206
    },
    "id": "2c3b1962",
    "outputId": "3a8da6a5-3968-42fc-95ff-4ed83f0901a2"
   },
   "outputs": [
    {
     "data": {
      "text/html": [
       "<div>\n",
       "<style scoped>\n",
       "    .dataframe tbody tr th:only-of-type {\n",
       "        vertical-align: middle;\n",
       "    }\n",
       "\n",
       "    .dataframe tbody tr th {\n",
       "        vertical-align: top;\n",
       "    }\n",
       "\n",
       "    .dataframe thead th {\n",
       "        text-align: right;\n",
       "    }\n",
       "</style>\n",
       "<table border=\"1\" class=\"dataframe\">\n",
       "  <thead>\n",
       "    <tr style=\"text-align: right;\">\n",
       "      <th></th>\n",
       "      <th>no</th>\n",
       "      <th>ranking</th>\n",
       "      <th>bookname</th>\n",
       "      <th>authors</th>\n",
       "      <th>publisher</th>\n",
       "      <th>publication_year</th>\n",
       "      <th>isbn13</th>\n",
       "    </tr>\n",
       "  </thead>\n",
       "  <tbody>\n",
       "    <tr>\n",
       "      <th>0</th>\n",
       "      <td>1</td>\n",
       "      <td>1</td>\n",
       "      <td>물고기는 존재하지 않는다 :상실, 사랑 그리고 숨어 있는 삶의 질서에 관한 이야기</td>\n",
       "      <td>룰루 밀러 지음 ;정지인 옮김</td>\n",
       "      <td>곰출판</td>\n",
       "      <td>2021</td>\n",
       "      <td>9791189327156</td>\n",
       "    </tr>\n",
       "    <tr>\n",
       "      <th>1</th>\n",
       "      <td>2</td>\n",
       "      <td>2</td>\n",
       "      <td>지구 끝의 온실 :김초엽 장편소설</td>\n",
       "      <td>지은이: 김초엽</td>\n",
       "      <td>Giant Books(자이언트북스)</td>\n",
       "      <td>2021</td>\n",
       "      <td>9791191824001</td>\n",
       "    </tr>\n",
       "    <tr>\n",
       "      <th>2</th>\n",
       "      <td>3</td>\n",
       "      <td>3</td>\n",
       "      <td>불편한 편의점 :김호연 장편소설</td>\n",
       "      <td>지은이: 김호연</td>\n",
       "      <td>나무옆의자</td>\n",
       "      <td>2021</td>\n",
       "      <td>9791161571188</td>\n",
       "    </tr>\n",
       "    <tr>\n",
       "      <th>3</th>\n",
       "      <td>4</td>\n",
       "      <td>4</td>\n",
       "      <td>달러구트 꿈 백화점 :이미예 장편소설</td>\n",
       "      <td>지은이: 이미예</td>\n",
       "      <td>팩토리나인</td>\n",
       "      <td>2020</td>\n",
       "      <td>9791165341909</td>\n",
       "    </tr>\n",
       "    <tr>\n",
       "      <th>4</th>\n",
       "      <td>5</td>\n",
       "      <td>5</td>\n",
       "      <td>우리가 빛의 속도로 갈 수 없다면 :김초엽 소설</td>\n",
       "      <td>지은이: 김초엽</td>\n",
       "      <td>허블</td>\n",
       "      <td>2019</td>\n",
       "      <td>9791190090018</td>\n",
       "    </tr>\n",
       "  </tbody>\n",
       "</table>\n",
       "</div>"
      ],
      "text/plain": [
       "   no  ranking                                        bookname  \\\n",
       "0   1        1  물고기는 존재하지 않는다 :상실, 사랑 그리고 숨어 있는 삶의 질서에 관한 이야기    \n",
       "1   2        2                             지구 끝의 온실 :김초엽 장편소설    \n",
       "2   3        3                              불편한 편의점 :김호연 장편소설    \n",
       "3   4        4                            달러구트 꿈 백화점 :이미예 장편소설   \n",
       "4   5        5                     우리가 빛의 속도로 갈 수 없다면 :김초엽 소설    \n",
       "\n",
       "            authors            publisher  publication_year         isbn13  \n",
       "0  룰루 밀러 지음 ;정지인 옮김                  곰출판              2021  9791189327156  \n",
       "1          지은이: 김초엽  Giant Books(자이언트북스)              2021  9791191824001  \n",
       "2          지은이: 김호연                나무옆의자              2021  9791161571188  \n",
       "3          지은이: 이미예                팩토리나인              2020  9791165341909  \n",
       "4          지은이: 김초엽                   허블              2019  9791190090018  "
      ]
     },
     "execution_count": 7,
     "metadata": {},
     "output_type": "execute_result"
    }
   ],
   "source": [
    "# 2특정 열을 선택하여 새 데이터프레임 생성 - 컬럼 인덱싱 이용\n",
    "books_df.columns #먼저 이 코드를 사용하여 컬럼을 확인하고 아래에 필요한 컬럼을 뽑아서 사용\n",
    "books = books_df[['no','ranking','bookname','authors','publisher','publication_year','isbn13']] # 원하는 데이터를 뽑는 코드\n",
    "books.head()"
   ]
  },
  {
   "cell_type": "code",
   "execution_count": 10,
   "id": "b9bcb956",
   "metadata": {
    "colab": {
     "base_uri": "https://localhost:8080/",
     "height": 206
    },
    "id": "b9bcb956",
    "outputId": "174cdb65-354e-48c3-e99d-cd694897af80"
   },
   "outputs": [
    {
     "data": {
      "text/html": [
       "<div>\n",
       "<style scoped>\n",
       "    .dataframe tbody tr th:only-of-type {\n",
       "        vertical-align: middle;\n",
       "    }\n",
       "\n",
       "    .dataframe tbody tr th {\n",
       "        vertical-align: top;\n",
       "    }\n",
       "\n",
       "    .dataframe thead th {\n",
       "        text-align: right;\n",
       "    }\n",
       "</style>\n",
       "<table border=\"1\" class=\"dataframe\">\n",
       "  <thead>\n",
       "    <tr style=\"text-align: right;\">\n",
       "      <th></th>\n",
       "      <th>no</th>\n",
       "      <th>ranking</th>\n",
       "      <th>bookname</th>\n",
       "      <th>authors</th>\n",
       "      <th>publisher</th>\n",
       "      <th>publication_year</th>\n",
       "      <th>isbn13</th>\n",
       "    </tr>\n",
       "  </thead>\n",
       "  <tbody>\n",
       "    <tr>\n",
       "      <th>0</th>\n",
       "      <td>1</td>\n",
       "      <td>1</td>\n",
       "      <td>물고기는 존재하지 않는다 :상실, 사랑 그리고 숨어 있는 삶의 질서에 관한 이야기</td>\n",
       "      <td>룰루 밀러 지음 ;정지인 옮김</td>\n",
       "      <td>곰출판</td>\n",
       "      <td>2021</td>\n",
       "      <td>9791189327156</td>\n",
       "    </tr>\n",
       "    <tr>\n",
       "      <th>1</th>\n",
       "      <td>2</td>\n",
       "      <td>2</td>\n",
       "      <td>지구 끝의 온실 :김초엽 장편소설</td>\n",
       "      <td>지은이: 김초엽</td>\n",
       "      <td>Giant Books(자이언트북스)</td>\n",
       "      <td>2021</td>\n",
       "      <td>9791191824001</td>\n",
       "    </tr>\n",
       "    <tr>\n",
       "      <th>2</th>\n",
       "      <td>3</td>\n",
       "      <td>3</td>\n",
       "      <td>불편한 편의점 :김호연 장편소설</td>\n",
       "      <td>지은이: 김호연</td>\n",
       "      <td>나무옆의자</td>\n",
       "      <td>2021</td>\n",
       "      <td>9791161571188</td>\n",
       "    </tr>\n",
       "    <tr>\n",
       "      <th>3</th>\n",
       "      <td>4</td>\n",
       "      <td>4</td>\n",
       "      <td>달러구트 꿈 백화점 :이미예 장편소설</td>\n",
       "      <td>지은이: 이미예</td>\n",
       "      <td>팩토리나인</td>\n",
       "      <td>2020</td>\n",
       "      <td>9791165341909</td>\n",
       "    </tr>\n",
       "    <tr>\n",
       "      <th>4</th>\n",
       "      <td>5</td>\n",
       "      <td>5</td>\n",
       "      <td>우리가 빛의 속도로 갈 수 없다면 :김초엽 소설</td>\n",
       "      <td>지은이: 김초엽</td>\n",
       "      <td>허블</td>\n",
       "      <td>2019</td>\n",
       "      <td>9791190090018</td>\n",
       "    </tr>\n",
       "  </tbody>\n",
       "</table>\n",
       "</div>"
      ],
      "text/plain": [
       "   no  ranking                                        bookname  \\\n",
       "0   1        1  물고기는 존재하지 않는다 :상실, 사랑 그리고 숨어 있는 삶의 질서에 관한 이야기    \n",
       "1   2        2                             지구 끝의 온실 :김초엽 장편소설    \n",
       "2   3        3                              불편한 편의점 :김호연 장편소설    \n",
       "3   4        4                            달러구트 꿈 백화점 :이미예 장편소설   \n",
       "4   5        5                     우리가 빛의 속도로 갈 수 없다면 :김초엽 소설    \n",
       "\n",
       "            authors            publisher  publication_year         isbn13  \n",
       "0  룰루 밀러 지음 ;정지인 옮김                  곰출판              2021  9791189327156  \n",
       "1          지은이: 김초엽  Giant Books(자이언트북스)              2021  9791191824001  \n",
       "2          지은이: 김호연                나무옆의자              2021  9791161571188  \n",
       "3          지은이: 이미예                팩토리나인              2020  9791165341909  \n",
       "4          지은이: 김초엽                   허블              2019  9791190090018  "
      ]
     },
     "execution_count": 10,
     "metadata": {},
     "output_type": "execute_result"
    }
   ],
   "source": [
    "# 3 원하는 데이터프레임 행과 열 동시에 슬라이싱으로 선택하기 - df.loc[:,:]\n",
    "books = books_df.loc[:, 'no':'isbn13'] #왼쪽 추출할 행의 정보 오른쪽 추출한 열의 정보 -> no ~ isbn13까지의 모든 정보를 추출 위에것과 다른 방법이지만 이 방법을 많이 씀\n",
    "books.head()"
   ]
  },
  {
   "cell_type": "markdown",
   "id": "ff775d45-1f20-4e62-a86f-66bfe30a0bb4",
   "metadata": {},
   "source": [
    "## 3. 각 도서별 페이지수 찾기 :  HTML에서 데이터 추출하기 - BeautifulSoup\n",
    "    1. 크롬 브라우저 개발자 도구로 HTML 태그 찾기\n",
    "    2. 태그 위치 찾기 : soup.find('찾을 태그 이름',attrs={'태그 속성을 딕셔너리로 지정'} \n",
    "    3. soup.select()"
   ]
  },
  {
   "cell_type": "markdown",
   "id": "e8b139b1-c72c-4553-ae65-92c8574ce8e6",
   "metadata": {},
   "source": [
    "### [문제] BeautifulSoup으로 HTML에서 첫 번째 도서명의 링크 주소 찾기\n",
    "* 타겟 웹페이지 : https://www.yes24.com/Product/Search?query=9791189327156 # '물고기는 존재하지 않는다'의 ISBN"
   ]
  },
  {
   "cell_type": "code",
   "execution_count": 11,
   "id": "077d748b",
   "metadata": {
    "id": "077d748b"
   },
   "outputs": [],
   "source": [
    "from bs4 import BeautifulSoup\n",
    "import requests"
   ]
  },
  {
   "cell_type": "code",
   "execution_count": 12,
   "id": "579a0854",
   "metadata": {
    "id": "579a0854"
   },
   "outputs": [
    {
     "name": "stdout",
     "output_type": "stream",
     "text": [
      "<a class=\"gd_name\" href=\"/Product/Goods/105526047\" onclick=\"wiseLogV2('S', '101_005_003_001', ''); setGoodsClickExtraCodeHub('032', '9791189327156', '105526047', '0');\">물고기는 존재하지 않는다</a>\n",
      "/Product/Goods/105526047\n"
     ]
    }
   ],
   "source": [
    "isbn = 9791189327156\n",
    "#isbn = 74261416\n",
    "url = 'https://www.yes24.com/Product/Search?query={}'\n",
    "r = requests.get(url.format(isbn))\n",
    "soup = BeautifulSoup(r.text, 'html.parser')\n",
    "prd_link = soup.find('a', attrs={'class':'gd_name'})\n",
    "print(prd_link)\n",
    "print(prd_link['href'])"
   ]
  },
  {
   "cell_type": "markdown",
   "id": "54f7ad41-fe01-4d3c-876b-13c85ec6a840",
   "metadata": {},
   "source": [
    "### [문제] BeautifulSoup으로 HTML에서 첫 번째 도서의 페이지수가 담긴 HTML의 위치 찾기\n",
    "* 타겟 웹페이지 : https://www.yes24.com/Product/Goods/105526047\n",
    "* soup.select()"
   ]
  },
  {
   "cell_type": "code",
   "execution_count": null,
   "id": "27-HqVCH3wBP",
   "metadata": {
    "colab": {
     "base_uri": "https://localhost:8080/"
    },
    "id": "27-HqVCH3wBP",
    "outputId": "a80c2396-08b3-49bd-ba6f-06f096bc4f9d"
   },
   "outputs": [],
   "source": [
    "# soup.select()\n",
    "url = 'https://www.yes24.com/Product/Goods/105526047'\n",
    "r= requests.get(url)\n",
    "soup = BeautifulSoup(r.text, 'html.parser')\n",
    "prd_detail= soup.select('#infoset_specific > div.infoSetCont_wrap > div > table > tbody > tr:nth-child(2) > td')\n",
    "print(prd_detail)\n",
    "if prd_detail is not None:\n",
    "    page = prd_detail[0].text.split('|')[0]\n",
    "    print(page)\n",
    "else:\n",
    "    print(\"The element you're trying to select doesn't exist.\")\n"
   ]
  },
  {
   "cell_type": "markdown",
   "id": "880d52a6",
   "metadata": {
    "id": "880d52a6"
   },
   "source": [
    "### [문제]  20대가 선호하는 전체 도서의 쪽수 구하기 "
   ]
  },
  {
   "cell_type": "code",
   "execution_count": null,
   "id": "d267046f",
   "metadata": {
    "id": "d267046f"
   },
   "outputs": [],
   "source": [
    "#1. 사용자 정의 함수\n",
    "def get_page_cnt(isbn):\n",
    "    # Yes24 도서 검색 페이지 URL\n",
    "    url = 'https://www.yes24.com/Product/Search?query={}'\n",
    "    # URL에 ISBN을 넣어 HTML 가져오기.\n",
    "    r = requests.get(url.format(isbn))\n",
    "    soup = BeautifulSoup(r.text, 'html.parser')   \n",
    "    # 검색 결과에서 해당 도서를 선택하기.\n",
    "    prd_info = soup.find('a', attrs={'class':'gd_name'})\n",
    "    if prd_info == None:\n",
    "        return ''\n",
    "    # 도서 상세 페이지를 가져오기.\n",
    "    url = 'http://www.yes24.com'+prd_info['href']\n",
    "    r = requests.get(url)\n",
    "    soup = BeautifulSoup(r.text, 'html.parser')\n",
    "    \n",
    "    # 쪽수가 들어 있는 td를 찾기.\n",
    "    prd_detail= soup.select('#infoset_specific > div.infoSetCont_wrap > div > table > tbody > tr:nth-child(2) > td')\n",
    "    # print(prd_detail)\n",
    "    result = prd_detail[0]\n",
    "    page = result.text.split('|')[0]\n",
    "    return page\n",
    "    "
   ]
  },
  {
   "cell_type": "code",
   "execution_count": null,
   "id": "cd7c9941",
   "metadata": {
    "colab": {
     "base_uri": "https://localhost:8080/",
     "height": 36
    },
    "id": "cd7c9941",
    "outputId": "a9d7fb91-1d91-49bb-85ac-7aa766cfe210"
   },
   "outputs": [],
   "source": [
    "get_page_cnt(9791189327156)"
   ]
  },
  {
   "cell_type": "code",
   "execution_count": null,
   "id": "da739a0a",
   "metadata": {
    "id": "da739a0a"
   },
   "outputs": [],
   "source": [
    "top10_books = books.head(10) # 인기 도서 10권 추출\n",
    "top10_books"
   ]
  },
  {
   "cell_type": "code",
   "execution_count": null,
   "id": "0bff8104",
   "metadata": {
    "id": "0bff8104"
   },
   "outputs": [],
   "source": [
    "# 10개 도서의 쪽수를 한번에 구하기\n",
    "def get_page_cnt2(row):\n",
    "    isbn = row['isbn13']\n",
    "    return get_page_cnt(isbn)"
   ]
  },
  {
   "cell_type": "code",
   "execution_count": null,
   "id": "fb638a9b",
   "metadata": {
    "colab": {
     "base_uri": "https://localhost:8080/"
    },
    "id": "fb638a9b",
    "outputId": "08d69c61-4760-4bb2-a337-f3c8db64c9b3"
   },
   "outputs": [],
   "source": [
    "# 각 행의 반복 작업을 수행하기 위해 데이터프레임의 apply()메서드 적용\n",
    "page_count = top10_books.apply(get_page_cnt2, axis = 1)\n",
    "print(page_count)"
   ]
  },
  {
   "cell_type": "markdown",
   "id": "a016b2f3-cd54-4475-8a9a-5a1a081d96dc",
   "metadata": {},
   "source": [
    "### [문제]  top10_books와 쪽수 시리즈 합치기 : merge()"
   ]
  },
  {
   "cell_type": "code",
   "execution_count": null,
   "id": "85375062",
   "metadata": {
    "colab": {
     "base_uri": "https://localhost:8080/"
    },
    "id": "85375062",
    "outputId": "3de08f1c-241c-4c17-8735-1c682544a01a"
   },
   "outputs": [],
   "source": [
    "# 쪽수 데이터프레임 생성\n",
    "type(page_count)\n",
    "page_count.name = 'page_count'\n",
    "print(page_count)"
   ]
  },
  {
   "cell_type": "code",
   "execution_count": null,
   "id": "7ac45b9f",
   "metadata": {
    "colab": {
     "base_uri": "https://localhost:8080/",
     "height": 363
    },
    "id": "7ac45b9f",
    "outputId": "1fd709eb-9179-4077-b9ac-83016325af89"
   },
   "outputs": [],
   "source": [
    "# 데이터프레임과 시리즈 합치기\n",
    "top10_with_page_count = pd.merge(top10_books, page_count,\n",
    "                                 left_index=True, right_index=True)\n",
    "top10_with_page_count"
   ]
  },
  {
   "cell_type": "markdown",
   "id": "8s0l24QgYL17",
   "metadata": {
    "id": "8s0l24QgYL17"
   },
   "source": [
    "## [연습] merge() 함수의 매개변수 이해하기"
   ]
  },
  {
   "cell_type": "code",
   "execution_count": null,
   "id": "J-0XefxwYLeN",
   "metadata": {
    "colab": {
     "base_uri": "https://localhost:8080/",
     "height": 143
    },
    "id": "J-0XefxwYLeN",
    "outputId": "c8e11217-f9f3-4ae9-cbf9-3fd58212820b"
   },
   "outputs": [],
   "source": [
    "df1 = pd.DataFrame({'col1': ['a','b','c'], 'col2': [1,2,3]})\n",
    "df1"
   ]
  },
  {
   "cell_type": "code",
   "execution_count": null,
   "id": "dcVtBloUYaF9",
   "metadata": {
    "colab": {
     "base_uri": "https://localhost:8080/",
     "height": 143
    },
    "id": "dcVtBloUYaF9",
    "outputId": "a62b75e0-ff7b-400d-913a-5875396285d0"
   },
   "outputs": [],
   "source": [
    "df2 = pd.DataFrame({'col1': ['a','b','d'], 'col3': [10,20,30]})\n",
    "df2"
   ]
  },
  {
   "cell_type": "code",
   "execution_count": null,
   "id": "byJy-hZUY2wT",
   "metadata": {
    "colab": {
     "base_uri": "https://localhost:8080/",
     "height": 112
    },
    "id": "byJy-hZUY2wT",
    "outputId": "7d465798-17de-4657-9b33-b647af85869e"
   },
   "outputs": [],
   "source": [
    "#df1.merge(df2, on = 'col1')"
   ]
  },
  {
   "cell_type": "code",
   "execution_count": null,
   "id": "0ec8fa22-bf53-48c9-8faa-a4241e48be50",
   "metadata": {},
   "outputs": [],
   "source": [
    "pd.merge(df1, df2, on='col1')\n"
   ]
  },
  {
   "cell_type": "code",
   "execution_count": null,
   "id": "3iFR29aJY6rp",
   "metadata": {
    "colab": {
     "base_uri": "https://localhost:8080/",
     "height": 143
    },
    "id": "3iFR29aJY6rp",
    "outputId": "1d1cd0d2-42bd-47ff-f0aa-90dff0cf2764"
   },
   "outputs": [],
   "source": [
    "pd.merge(df1, df2, how='left', on='col1')"
   ]
  },
  {
   "cell_type": "code",
   "execution_count": null,
   "id": "L02Mt5CvY_gJ",
   "metadata": {
    "colab": {
     "base_uri": "https://localhost:8080/",
     "height": 143
    },
    "id": "L02Mt5CvY_gJ",
    "outputId": "99f2f79f-b200-4b93-b8e5-e94b781c00d4"
   },
   "outputs": [],
   "source": [
    "pd.merge(df1, df2, how='right', on='col1')"
   ]
  },
  {
   "cell_type": "code",
   "execution_count": null,
   "id": "JWnkHNCUZDw7",
   "metadata": {
    "colab": {
     "base_uri": "https://localhost:8080/",
     "height": 175
    },
    "id": "JWnkHNCUZDw7",
    "outputId": "7f0d0269-f8ae-4cab-bf7b-9d8340232409"
   },
   "outputs": [],
   "source": [
    "pd.merge(df1, df2, how='outer', on='col1')"
   ]
  },
  {
   "cell_type": "code",
   "execution_count": null,
   "id": "4tWD1a58ZGrx",
   "metadata": {
    "colab": {
     "base_uri": "https://localhost:8080/",
     "height": 112
    },
    "id": "4tWD1a58ZGrx",
    "outputId": "942f7888-0de2-49bf-a983-95ba1c9e757e"
   },
   "outputs": [],
   "source": [
    "pd.merge(df1, df2, left_on='col1', right_on='col1')"
   ]
  },
  {
   "cell_type": "code",
   "execution_count": null,
   "id": "CXR4LsHlZfqQ",
   "metadata": {
    "colab": {
     "base_uri": "https://localhost:8080/",
     "height": 112
    },
    "id": "CXR4LsHlZfqQ",
    "outputId": "b21228c6-20d1-4609-bf08-9d5f3e0e1ecf"
   },
   "outputs": [],
   "source": [
    "pd.merge(df1, df2, left_on='col2', right_index=True)"
   ]
  },
  {
   "cell_type": "code",
   "execution_count": null,
   "id": "2c446e4e-1fa2-4fd6-b577-b88198815b1f",
   "metadata": {},
   "outputs": [],
   "source": []
  }
 ],
 "metadata": {
  "colab": {
   "provenance": []
  },
  "kernelspec": {
   "display_name": "Python 3 (ipykernel)",
   "language": "python",
   "name": "python3"
  },
  "language_info": {
   "codemirror_mode": {
    "name": "ipython",
    "version": 3
   },
   "file_extension": ".py",
   "mimetype": "text/x-python",
   "name": "python",
   "nbconvert_exporter": "python",
   "pygments_lexer": "ipython3",
   "version": "3.12.2"
  }
 },
 "nbformat": 4,
 "nbformat_minor": 5
}
